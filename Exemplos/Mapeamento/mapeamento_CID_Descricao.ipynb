{
  "nbformat": 4,
  "nbformat_minor": 0,
  "metadata": {
    "colab": {
      "provenance": []
    },
    "kernelspec": {
      "name": "python3",
      "display_name": "Python 3"
    },
    "language_info": {
      "name": "python"
    }
  },
  "cells": [
    {
      "cell_type": "code",
      "execution_count": 1,
      "metadata": {
        "colab": {
          "base_uri": "https://localhost:8080/"
        },
        "id": "MKkWTIxedZOV",
        "outputId": "65b2f213-4b7f-484d-d5a0-5f3581cf00f5"
      },
      "outputs": [
        {
          "output_type": "stream",
          "name": "stdout",
          "text": [
            "Amostra do mapeamento CID para Descrição:\n",
            "Código: A00 → Descrição: A00 - Cólera\n",
            "Código: A01 → Descrição: A01 - Febres tifóide e paratifóide\n",
            "Código: A02 → Descrição: A02 - Outras infecções por Salmonella\n",
            "Código: A03 → Descrição: A03 - Shiguelose\n",
            "Código: A04 → Descrição: A04 - Outras infecções intestinais bacterianas\n",
            "\n",
            "Exemplo de uso da função:\n",
            "Código: I64 → Descrição: I64 - Acidente vascular cerebral, não especificado como hemorrágico ou isquêmico\n"
          ]
        }
      ],
      "source": [
        "# ✅ Notebook: Mapeamento de CIDs para Descrições (CID10.xml)\n",
        "\n",
        "# 🔹 Etapa 1: Importar bibliotecas\n",
        "import requests\n",
        "import xml.etree.ElementTree as ET\n",
        "\n",
        "# 🔹 Etapa 2: Definir o link para o arquivo XML no GitHub\n",
        "url = \"https://raw.githubusercontent.com/cartaproale/PySUS/main/tabelas/CID10.xml\"\n",
        "\n",
        "# 🔹 Etapa 3: Baixar o arquivo XML diretamente do GitHub\n",
        "response = requests.get(url)\n",
        "response.encoding = 'ISO-8859-1'  # Garantir a codificação correta\n",
        "\n",
        "# 🔹 Etapa 4: Corrigir caracteres especiais problemáticos\n",
        "content = response.text.replace(\"&cruz;\", \"†\")\n",
        "\n",
        "# 🔹 Etapa 5: Analisar o conteúdo XML corrigido\n",
        "root = ET.fromstring(content)\n",
        "\n",
        "# 🔹 Etapa 6: Criar um dicionário para mapear códigos CID para suas descrições\n",
        "cid_map = {}\n",
        "\n",
        "for category in root.findall(\".//categoria\"):\n",
        "    code = category.get(\"codcat\")\n",
        "    description = category.find(\"nome\").text\n",
        "\n",
        "    # Verificar se o código está no formato LNN ou LNNN\n",
        "    if code and description:\n",
        "        # Armazenar o código original junto com a descrição\n",
        "        cid_map[code] = f\"{code} - {description}\"\n",
        "\n",
        "# 🔹 Etapa 7: Função para obter a descrição a partir do código CID\n",
        "def descricao_cid(codigo):\n",
        "    if codigo in cid_map:\n",
        "        return cid_map[codigo]\n",
        "    else:\n",
        "        return \"Código não encontrado\"\n",
        "\n",
        "# 🔹 Etapa 8: Visualizar uma amostra do mapeamento\n",
        "print(\"Amostra do mapeamento CID para Descrição:\")\n",
        "amostra = list(cid_map.items())[:5]\n",
        "for codigo, descricao in amostra:\n",
        "    print(f\"Código: {codigo} → Descrição: {descricao}\")\n",
        "\n",
        "# 🔹 Etapa 9: Exemplo de uso da função\n",
        "print(\"\\nExemplo de uso da função:\")\n",
        "exemplo = \"I64\"\n",
        "print(f\"Código: {exemplo} → Descrição: {descricao_cid(exemplo)}\")\n"
      ]
    }
  ]
}