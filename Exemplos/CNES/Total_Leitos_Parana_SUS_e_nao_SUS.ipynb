{
  "nbformat": 4,
  "nbformat_minor": 0,
  "metadata": {
    "colab": {
      "provenance": []
    },
    "kernelspec": {
      "name": "python3",
      "display_name": "Python 3"
    },
    "language_info": {
      "name": "python"
    }
  },
  "cells": [
    {
      "cell_type": "code",
      "execution_count": 1,
      "metadata": {
        "colab": {
          "base_uri": "https://localhost:8080/"
        },
        "id": "X88SOEE6wXTb",
        "outputId": "668bf89e-2919-43b8-f2b0-9114d94a87f0"
      },
      "outputs": [
        {
          "output_type": "stream",
          "name": "stdout",
          "text": [
            "Collecting git+https://github.com/AlertaDengue/PySUS.git\n",
            "  Cloning https://github.com/AlertaDengue/PySUS.git to /tmp/pip-req-build-mv7e0v2x\n",
            "  Running command git clone --filter=blob:none --quiet https://github.com/AlertaDengue/PySUS.git /tmp/pip-req-build-mv7e0v2x\n",
            "  Resolved https://github.com/AlertaDengue/PySUS.git to commit 54f7800db4da5171d55e3446d638d64beeb8b149\n",
            "  Installing build dependencies ... \u001b[?25l\u001b[?25hdone\n",
            "  Getting requirements to build wheel ... \u001b[?25l\u001b[?25hdone\n",
            "  Preparing metadata (pyproject.toml) ... \u001b[?25l\u001b[?25hdone\n",
            "Collecting Unidecode<2.0.0,>=1.3.6 (from pysus==0.15.0)\n",
            "  Downloading Unidecode-1.3.8-py3-none-any.whl.metadata (13 kB)\n",
            "Collecting aioftp<0.22.0,>=0.21.4 (from pysus==0.15.0)\n",
            "  Downloading aioftp-0.21.4-py3-none-any.whl.metadata (6.1 kB)\n",
            "Collecting bigtree<0.13.0,>=0.12.2 (from pysus==0.15.0)\n",
            "  Downloading bigtree-0.12.5-py3-none-any.whl.metadata (28 kB)\n",
            "Collecting cffi==1.15.1 (from pysus==0.15.0)\n",
            "  Downloading cffi-1.15.1-cp311-cp311-manylinux_2_17_x86_64.manylinux2014_x86_64.whl.metadata (1.1 kB)\n",
            "Collecting dateparser<2.0.0,>=1.1.8 (from pysus==0.15.0)\n",
            "  Downloading dateparser-1.2.1-py3-none-any.whl.metadata (29 kB)\n",
            "Collecting dbfread==2.0.7 (from pysus==0.15.0)\n",
            "  Downloading dbfread-2.0.7-py2.py3-none-any.whl.metadata (3.3 kB)\n",
            "Collecting elasticsearch==7.16.2 (from elasticsearch[preprocessing]==7.16.2->pysus==0.15.0)\n",
            "  Downloading elasticsearch-7.16.2-py2.py3-none-any.whl.metadata (5.7 kB)\n",
            "Collecting fastparquet>=2023.10.1 (from pysus==0.15.0)\n",
            "  Downloading fastparquet-2024.11.0-cp311-cp311-manylinux_2_17_x86_64.manylinux2014_x86_64.whl.metadata (4.2 kB)\n",
            "Requirement already satisfied: humanize<5.0.0,>=4.8.0 in /usr/local/lib/python3.11/dist-packages (from pysus==0.15.0) (4.12.2)\n",
            "Collecting loguru<0.7.0,>=0.6.0 (from pysus==0.15.0)\n",
            "  Downloading loguru-0.6.0-py3-none-any.whl.metadata (21 kB)\n",
            "Collecting numpy==1.26.2 (from pysus==0.15.0)\n",
            "  Downloading numpy-1.26.2-cp311-cp311-manylinux_2_17_x86_64.manylinux2014_x86_64.whl.metadata (61 kB)\n",
            "\u001b[2K     \u001b[90m━━━━━━━━━━━━━━━━━━━━━━━━━━━━━━━━━━━━━━━━\u001b[0m \u001b[32m61.2/61.2 kB\u001b[0m \u001b[31m1.6 MB/s\u001b[0m eta \u001b[36m0:00:00\u001b[0m\n",
            "\u001b[?25hRequirement already satisfied: pandas<3.0.0,>=2.2.2 in /usr/local/lib/python3.11/dist-packages (from pysus==0.15.0) (2.2.2)\n",
            "Requirement already satisfied: pyarrow>=11.0.0 in /usr/local/lib/python3.11/dist-packages (from pysus==0.15.0) (18.1.0)\n",
            "Collecting pycparser==2.21 (from pysus==0.15.0)\n",
            "  Downloading pycparser-2.21-py2.py3-none-any.whl.metadata (1.1 kB)\n",
            "Collecting pyreaddbc>=1.1.0 (from pysus==0.15.0)\n",
            "  Downloading pyreaddbc-1.2.0.tar.gz (57 kB)\n",
            "\u001b[2K     \u001b[90m━━━━━━━━━━━━━━━━━━━━━━━━━━━━━━━━━━━━━━━━\u001b[0m \u001b[32m57.7/57.7 kB\u001b[0m \u001b[31m2.6 MB/s\u001b[0m eta \u001b[36m0:00:00\u001b[0m\n",
            "\u001b[?25h  Installing build dependencies ... \u001b[?25l\u001b[?25hdone\n",
            "  Getting requirements to build wheel ... \u001b[?25l\u001b[?25hdone\n",
            "  Preparing metadata (pyproject.toml) ... \u001b[?25l\u001b[?25hdone\n",
            "Requirement already satisfied: python-dateutil==2.8.2 in /usr/local/lib/python3.11/dist-packages (from pysus==0.15.0) (2.8.2)\n",
            "Collecting tqdm==4.64.0 (from pysus==0.15.0)\n",
            "  Downloading tqdm-4.64.0-py2.py3-none-any.whl.metadata (57 kB)\n",
            "\u001b[2K     \u001b[90m━━━━━━━━━━━━━━━━━━━━━━━━━━━━━━━━━━━━━━━━\u001b[0m \u001b[32m57.3/57.3 kB\u001b[0m \u001b[31m3.9 MB/s\u001b[0m eta \u001b[36m0:00:00\u001b[0m\n",
            "\u001b[?25hRequirement already satisfied: typing-extensions<5.0.0,>=4.9.0 in /usr/local/lib/python3.11/dist-packages (from pysus==0.15.0) (4.13.2)\n",
            "Collecting urwid<3.0.0,>=2.1.2 (from pysus==0.15.0)\n",
            "  Downloading urwid-2.6.16-py3-none-any.whl.metadata (11 kB)\n",
            "Collecting wget<4.0,>=3.2 (from pysus==0.15.0)\n",
            "  Downloading wget-3.2.zip (10 kB)\n",
            "  Preparing metadata (setup.py) ... \u001b[?25l\u001b[?25hdone\n",
            "Collecting urllib3<2,>=1.21.1 (from elasticsearch==7.16.2->elasticsearch[preprocessing]==7.16.2->pysus==0.15.0)\n",
            "  Downloading urllib3-1.26.20-py2.py3-none-any.whl.metadata (50 kB)\n",
            "\u001b[2K     \u001b[90m━━━━━━━━━━━━━━━━━━━━━━━━━━━━━━━━━━━━━━━━\u001b[0m \u001b[32m50.1/50.1 kB\u001b[0m \u001b[31m3.4 MB/s\u001b[0m eta \u001b[36m0:00:00\u001b[0m\n",
            "\u001b[?25hRequirement already satisfied: certifi in /usr/local/lib/python3.11/dist-packages (from elasticsearch==7.16.2->elasticsearch[preprocessing]==7.16.2->pysus==0.15.0) (2025.1.31)\n",
            "\u001b[33mWARNING: elasticsearch 7.16.2 does not provide the extra 'preprocessing'\u001b[0m\u001b[33m\n",
            "\u001b[0mRequirement already satisfied: six>=1.5 in /usr/local/lib/python3.11/dist-packages (from python-dateutil==2.8.2->pysus==0.15.0) (1.17.0)\n",
            "Requirement already satisfied: pytz>=2024.2 in /usr/local/lib/python3.11/dist-packages (from dateparser<2.0.0,>=1.1.8->pysus==0.15.0) (2025.2)\n",
            "Requirement already satisfied: regex!=2019.02.19,!=2021.8.27,>=2015.06.24 in /usr/local/lib/python3.11/dist-packages (from dateparser<2.0.0,>=1.1.8->pysus==0.15.0) (2024.11.6)\n",
            "Requirement already satisfied: tzlocal>=0.2 in /usr/local/lib/python3.11/dist-packages (from dateparser<2.0.0,>=1.1.8->pysus==0.15.0) (5.3.1)\n",
            "Requirement already satisfied: cramjam>=2.3 in /usr/local/lib/python3.11/dist-packages (from fastparquet>=2023.10.1->pysus==0.15.0) (2.10.0)\n",
            "Requirement already satisfied: fsspec in /usr/local/lib/python3.11/dist-packages (from fastparquet>=2023.10.1->pysus==0.15.0) (2025.3.2)\n",
            "Requirement already satisfied: packaging in /usr/local/lib/python3.11/dist-packages (from fastparquet>=2023.10.1->pysus==0.15.0) (24.2)\n",
            "Requirement already satisfied: tzdata>=2022.7 in /usr/local/lib/python3.11/dist-packages (from pandas<3.0.0,>=2.2.2->pysus==0.15.0) (2025.2)\n",
            "Requirement already satisfied: pyyaml>=6 in /usr/local/lib/python3.11/dist-packages (from pyreaddbc>=1.1.0->pysus==0.15.0) (6.0.2)\n",
            "Requirement already satisfied: wcwidth in /usr/local/lib/python3.11/dist-packages (from urwid<3.0.0,>=2.1.2->pysus==0.15.0) (0.2.13)\n",
            "Downloading cffi-1.15.1-cp311-cp311-manylinux_2_17_x86_64.manylinux2014_x86_64.whl (462 kB)\n",
            "\u001b[2K   \u001b[90m━━━━━━━━━━━━━━━━━━━━━━━━━━━━━━━━━━━━━━━━\u001b[0m \u001b[32m462.6/462.6 kB\u001b[0m \u001b[31m12.4 MB/s\u001b[0m eta \u001b[36m0:00:00\u001b[0m\n",
            "\u001b[?25hDownloading dbfread-2.0.7-py2.py3-none-any.whl (20 kB)\n",
            "Downloading elasticsearch-7.16.2-py2.py3-none-any.whl (385 kB)\n",
            "\u001b[2K   \u001b[90m━━━━━━━━━━━━━━━━━━━━━━━━━━━━━━━━━━━━━━━━\u001b[0m \u001b[32m385.7/385.7 kB\u001b[0m \u001b[31m27.2 MB/s\u001b[0m eta \u001b[36m0:00:00\u001b[0m\n",
            "\u001b[?25hDownloading numpy-1.26.2-cp311-cp311-manylinux_2_17_x86_64.manylinux2014_x86_64.whl (18.2 MB)\n",
            "\u001b[2K   \u001b[90m━━━━━━━━━━━━━━━━━━━━━━━━━━━━━━━━━━━━━━━━\u001b[0m \u001b[32m18.2/18.2 MB\u001b[0m \u001b[31m95.6 MB/s\u001b[0m eta \u001b[36m0:00:00\u001b[0m\n",
            "\u001b[?25hDownloading pycparser-2.21-py2.py3-none-any.whl (118 kB)\n",
            "\u001b[2K   \u001b[90m━━━━━━━━━━━━━━━━━━━━━━━━━━━━━━━━━━━━━━━━\u001b[0m \u001b[32m118.7/118.7 kB\u001b[0m \u001b[31m10.1 MB/s\u001b[0m eta \u001b[36m0:00:00\u001b[0m\n",
            "\u001b[?25hDownloading tqdm-4.64.0-py2.py3-none-any.whl (78 kB)\n",
            "\u001b[2K   \u001b[90m━━━━━━━━━━━━━━━━━━━━━━━━━━━━━━━━━━━━━━━━\u001b[0m \u001b[32m78.4/78.4 kB\u001b[0m \u001b[31m6.2 MB/s\u001b[0m eta \u001b[36m0:00:00\u001b[0m\n",
            "\u001b[?25hDownloading aioftp-0.21.4-py3-none-any.whl (37 kB)\n",
            "Downloading bigtree-0.12.5-py3-none-any.whl (63 kB)\n",
            "\u001b[2K   \u001b[90m━━━━━━━━━━━━━━━━━━━━━━━━━━━━━━━━━━━━━━━━\u001b[0m \u001b[32m63.5/63.5 kB\u001b[0m \u001b[31m4.7 MB/s\u001b[0m eta \u001b[36m0:00:00\u001b[0m\n",
            "\u001b[?25hDownloading dateparser-1.2.1-py3-none-any.whl (295 kB)\n",
            "\u001b[2K   \u001b[90m━━━━━━━━━━━━━━━━━━━━━━━━━━━━━━━━━━━━━━━━\u001b[0m \u001b[32m295.7/295.7 kB\u001b[0m \u001b[31m19.0 MB/s\u001b[0m eta \u001b[36m0:00:00\u001b[0m\n",
            "\u001b[?25hDownloading fastparquet-2024.11.0-cp311-cp311-manylinux_2_17_x86_64.manylinux2014_x86_64.whl (1.8 MB)\n",
            "\u001b[2K   \u001b[90m━━━━━━━━━━━━━━━━━━━━━━━━━━━━━━━━━━━━━━━━\u001b[0m \u001b[32m1.8/1.8 MB\u001b[0m \u001b[31m64.5 MB/s\u001b[0m eta \u001b[36m0:00:00\u001b[0m\n",
            "\u001b[?25hDownloading loguru-0.6.0-py3-none-any.whl (58 kB)\n",
            "\u001b[2K   \u001b[90m━━━━━━━━━━━━━━━━━━━━━━━━━━━━━━━━━━━━━━━━\u001b[0m \u001b[32m58.3/58.3 kB\u001b[0m \u001b[31m4.4 MB/s\u001b[0m eta \u001b[36m0:00:00\u001b[0m\n",
            "\u001b[?25hDownloading Unidecode-1.3.8-py3-none-any.whl (235 kB)\n",
            "\u001b[2K   \u001b[90m━━━━━━━━━━━━━━━━━━━━━━━━━━━━━━━━━━━━━━━━\u001b[0m \u001b[32m235.5/235.5 kB\u001b[0m \u001b[31m17.1 MB/s\u001b[0m eta \u001b[36m0:00:00\u001b[0m\n",
            "\u001b[?25hDownloading urwid-2.6.16-py3-none-any.whl (297 kB)\n",
            "\u001b[2K   \u001b[90m━━━━━━━━━━━━━━━━━━━━━━━━━━━━━━━━━━━━━━━━\u001b[0m \u001b[32m297.2/297.2 kB\u001b[0m \u001b[31m21.4 MB/s\u001b[0m eta \u001b[36m0:00:00\u001b[0m\n",
            "\u001b[?25hDownloading urllib3-1.26.20-py2.py3-none-any.whl (144 kB)\n",
            "\u001b[2K   \u001b[90m━━━━━━━━━━━━━━━━━━━━━━━━━━━━━━━━━━━━━━━━\u001b[0m \u001b[32m144.2/144.2 kB\u001b[0m \u001b[31m11.9 MB/s\u001b[0m eta \u001b[36m0:00:00\u001b[0m\n",
            "\u001b[?25hBuilding wheels for collected packages: pysus, pyreaddbc, wget\n",
            "  Building wheel for pysus (pyproject.toml) ... \u001b[?25l\u001b[?25hdone\n",
            "  Created wheel for pysus: filename=pysus-0.15.0-py3-none-any.whl size=1431969 sha256=2b10d51f699840c30547461f6e05ce1c66be79a2b955e0be4b978ef05f74343c\n",
            "  Stored in directory: /tmp/pip-ephem-wheel-cache-5tm67ji3/wheels/4a/fb/ea/3983ff962905de152393db110b9838e41d11cb62816147630b\n",
            "  Building wheel for pyreaddbc (pyproject.toml) ... \u001b[?25l\u001b[?25hdone\n",
            "  Created wheel for pyreaddbc: filename=pyreaddbc-1.2.0-cp311-cp311-manylinux_2_35_x86_64.whl size=89807 sha256=6e9a915abb22754b5e55fdc83339ccd302dc2e7131aac763c908fab402292bab\n",
            "  Stored in directory: /root/.cache/pip/wheels/1c/24/ff/03c9d6c394a14bf0f14a18333ff9345e8ff1bc3c62b10b399e\n",
            "  Building wheel for wget (setup.py) ... \u001b[?25l\u001b[?25hdone\n",
            "  Created wheel for wget: filename=wget-3.2-py3-none-any.whl size=9655 sha256=01793dcf897f13da6bf96d4e75368dc88ed82fb273e04a80d5b9cb638cdf0ff2\n",
            "  Stored in directory: /root/.cache/pip/wheels/40/b3/0f/a40dbd1c6861731779f62cc4babcb234387e11d697df70ee97\n",
            "Successfully built pysus pyreaddbc wget\n",
            "Installing collected packages: wget, dbfread, urwid, urllib3, Unidecode, tqdm, pycparser, numpy, loguru, bigtree, aioftp, elasticsearch, dateparser, cffi, pyreaddbc, fastparquet, pysus\n",
            "  Attempting uninstall: urllib3\n",
            "    Found existing installation: urllib3 2.3.0\n",
            "    Uninstalling urllib3-2.3.0:\n",
            "      Successfully uninstalled urllib3-2.3.0\n",
            "  Attempting uninstall: tqdm\n",
            "    Found existing installation: tqdm 4.67.1\n",
            "    Uninstalling tqdm-4.67.1:\n",
            "      Successfully uninstalled tqdm-4.67.1\n",
            "  Attempting uninstall: pycparser\n",
            "    Found existing installation: pycparser 2.22\n",
            "    Uninstalling pycparser-2.22:\n",
            "      Successfully uninstalled pycparser-2.22\n",
            "  Attempting uninstall: numpy\n",
            "    Found existing installation: numpy 2.0.2\n",
            "    Uninstalling numpy-2.0.2:\n",
            "      Successfully uninstalled numpy-2.0.2\n",
            "  Attempting uninstall: cffi\n",
            "    Found existing installation: cffi 1.17.1\n",
            "    Uninstalling cffi-1.17.1:\n",
            "      Successfully uninstalled cffi-1.17.1\n",
            "\u001b[31mERROR: pip's dependency resolver does not currently take into account all the packages that are installed. This behaviour is the source of the following dependency conflicts.\n",
            "thinc 8.3.6 requires numpy<3.0.0,>=2.0.0, but you have numpy 1.26.2 which is incompatible.\n",
            "pygit2 1.17.0 requires cffi>=1.17.0, but you have cffi 1.15.1 which is incompatible.\n",
            "dopamine-rl 4.1.2 requires tqdm>=4.64.1, but you have tqdm 4.64.0 which is incompatible.\u001b[0m\u001b[31m\n",
            "\u001b[0mSuccessfully installed Unidecode-1.3.8 aioftp-0.21.4 bigtree-0.12.5 cffi-1.15.1 dateparser-1.2.1 dbfread-2.0.7 elasticsearch-7.16.2 fastparquet-2024.11.0 loguru-0.6.0 numpy-1.26.2 pycparser-2.21 pyreaddbc-1.2.0 pysus-0.15.0 tqdm-4.64.0 urllib3-1.26.20 urwid-2.6.16 wget-3.2\n"
          ]
        }
      ],
      "source": [
        "# Baseado em: CNES/CNES_LT.ipynb\n",
        "\n",
        "# Instalar a biblioteca PySUS\n",
        "!pip install git+https://github.com/AlertaDengue/PySUS.git --upgrade\n",
        "\n",
        "# ⚠️ Após executar a célula acima, reinicie a sessão do Google Colab:\n",
        "# Em português: Vá em \"Tempo de execução\" > \"Reiniciar sessão\"\n",
        "# Em inglês: Vá em \"Runtime\" > \"Restart session\"\n"
      ]
    },
    {
      "cell_type": "code",
      "source": [
        "# Baseado em: CNES/CNES_LT.ipynb\n",
        "\n",
        "from pysus.online_data.CNES import download\n",
        "\n",
        "# Baixar os dados de leitos (LT) do Paraná em janeiro de 2023\n",
        "dados = download('LT', 'PR', 2023, 1)\n",
        "df = dados.to_dataframe()\n",
        "\n",
        "# Contar o total de linhas da base, que representam os leitos (SUS e não SUS)\n",
        "print(f\"Total de leitos (SUS e não SUS): {df.shape[0]}\")\n"
      ],
      "metadata": {
        "colab": {
          "base_uri": "https://localhost:8080/"
        },
        "id": "ajxDtTrqyTq8",
        "outputId": "feafa563-c336-46db-885a-b2153b1f93cd"
      },
      "execution_count": 6,
      "outputs": [
        {
          "output_type": "stream",
          "name": "stderr",
          "text": [
            "38555it [00:00, 37836076.44it/s]     "
          ]
        },
        {
          "output_type": "stream",
          "name": "stdout",
          "text": [
            "Total de leitos (SUS e não SUS): 3267\n"
          ]
        },
        {
          "output_type": "stream",
          "name": "stderr",
          "text": [
            "\n"
          ]
        }
      ]
    },
    {
      "cell_type": "code",
      "source": [
        "# Filtrar apenas os leitos SUS\n",
        "# Converter para inteiro e filtrar\n",
        "df['TP_LEITO'] = df['TP_LEITO'].astype(int)\n",
        "leitos_sus = df[df.TP_LEITO == 1]\n",
        "print(f\"Total de leitos SUS no Paraná em jan/2023: {leitos_sus.shape[0]}\")\n"
      ],
      "metadata": {
        "colab": {
          "base_uri": "https://localhost:8080/"
        },
        "id": "jmVwJqEEyZYD",
        "outputId": "384925dc-f7a8-4503-aa84-01801514b11f"
      },
      "execution_count": 10,
      "outputs": [
        {
          "output_type": "stream",
          "name": "stdout",
          "text": [
            "Total de leitos SUS no Paraná em jan/2023: 1090\n"
          ]
        }
      ]
    }
  ]
}
