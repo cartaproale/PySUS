{
  "nbformat": 4,
  "nbformat_minor": 0,
  "metadata": {
    "colab": {
      "provenance": []
    },
    "kernelspec": {
      "name": "python3",
      "display_name": "Python 3"
    },
    "language_info": {
      "name": "python"
    }
  },
  "cells": [
    {
      "cell_type": "markdown",
      "source": [
        "# Comandos para instalar o PySUS diretamente do GitHub.\n",
        "\n",
        "Logo depois de instalar o PySUS, vá em Ambiente de execução e depois clique em Reiniciar Sessão. Só então, execute os scripts seguintes."
      ],
      "metadata": {
        "id": "oVYQbkNIMivH"
      }
    },
    {
      "cell_type": "code",
      "source": [
        "#(fork, mais atualizado)\n",
        "!pip install git+https://github.com/AlertaDengue/PySUS.git --upgrade"
      ],
      "metadata": {
        "id": "wD4UFAxuhANf",
        "colab": {
          "base_uri": "https://localhost:8080/"
        },
        "outputId": "c1a93790-52d9-48d2-b054-6f3c43703b4f"
      },
      "execution_count": null,
      "outputs": [
        {
          "output_type": "stream",
          "name": "stdout",
          "text": [
            "Collecting git+https://github.com/AlertaDengue/PySUS.git\n",
            "  Cloning https://github.com/AlertaDengue/PySUS.git to /tmp/pip-req-build-mss9qmjq\n",
            "  Running command git clone --filter=blob:none --quiet https://github.com/AlertaDengue/PySUS.git /tmp/pip-req-build-mss9qmjq\n",
            "  Resolved https://github.com/AlertaDengue/PySUS.git to commit 54f7800db4da5171d55e3446d638d64beeb8b149\n",
            "  Installing build dependencies ... \u001b[?25l\u001b[?25hdone\n",
            "  Getting requirements to build wheel ... \u001b[?25l\u001b[?25hdone\n",
            "  Preparing metadata (pyproject.toml) ... \u001b[?25l\u001b[?25hdone\n",
            "Collecting Unidecode<2.0.0,>=1.3.6 (from pysus==0.15.0)\n",
            "  Downloading Unidecode-1.3.8-py3-none-any.whl.metadata (13 kB)\n",
            "Collecting aioftp<0.22.0,>=0.21.4 (from pysus==0.15.0)\n",
            "  Downloading aioftp-0.21.4-py3-none-any.whl.metadata (6.1 kB)\n",
            "Collecting bigtree<0.13.0,>=0.12.2 (from pysus==0.15.0)\n",
            "  Downloading bigtree-0.12.5-py3-none-any.whl.metadata (28 kB)\n",
            "Collecting cffi==1.15.1 (from pysus==0.15.0)\n",
            "  Downloading cffi-1.15.1-cp311-cp311-manylinux_2_17_x86_64.manylinux2014_x86_64.whl.metadata (1.1 kB)\n",
            "Collecting dateparser<2.0.0,>=1.1.8 (from pysus==0.15.0)\n",
            "  Downloading dateparser-1.2.1-py3-none-any.whl.metadata (29 kB)\n",
            "Collecting dbfread==2.0.7 (from pysus==0.15.0)\n",
            "  Downloading dbfread-2.0.7-py2.py3-none-any.whl.metadata (3.3 kB)\n",
            "Collecting elasticsearch==7.16.2 (from elasticsearch[preprocessing]==7.16.2->pysus==0.15.0)\n",
            "  Downloading elasticsearch-7.16.2-py2.py3-none-any.whl.metadata (5.7 kB)\n",
            "Collecting fastparquet>=2023.10.1 (from pysus==0.15.0)\n",
            "  Downloading fastparquet-2024.11.0-cp311-cp311-manylinux_2_17_x86_64.manylinux2014_x86_64.whl.metadata (4.2 kB)\n",
            "Requirement already satisfied: humanize<5.0.0,>=4.8.0 in /usr/local/lib/python3.11/dist-packages (from pysus==0.15.0) (4.12.2)\n",
            "Collecting loguru<0.7.0,>=0.6.0 (from pysus==0.15.0)\n",
            "  Downloading loguru-0.6.0-py3-none-any.whl.metadata (21 kB)\n",
            "Collecting numpy==1.26.2 (from pysus==0.15.0)\n",
            "  Downloading numpy-1.26.2-cp311-cp311-manylinux_2_17_x86_64.manylinux2014_x86_64.whl.metadata (61 kB)\n",
            "\u001b[2K     \u001b[90m━━━━━━━━━━━━━━━━━━━━━━━━━━━━━━━━━━━━━━━━\u001b[0m \u001b[32m61.2/61.2 kB\u001b[0m \u001b[31m2.5 MB/s\u001b[0m eta \u001b[36m0:00:00\u001b[0m\n",
            "\u001b[?25hRequirement already satisfied: pandas<3.0.0,>=2.2.2 in /usr/local/lib/python3.11/dist-packages (from pysus==0.15.0) (2.2.2)\n",
            "Requirement already satisfied: pyarrow>=11.0.0 in /usr/local/lib/python3.11/dist-packages (from pysus==0.15.0) (18.1.0)\n",
            "Collecting pycparser==2.21 (from pysus==0.15.0)\n",
            "  Downloading pycparser-2.21-py2.py3-none-any.whl.metadata (1.1 kB)\n",
            "Collecting pyreaddbc>=1.1.0 (from pysus==0.15.0)\n",
            "  Downloading pyreaddbc-1.2.0.tar.gz (57 kB)\n",
            "\u001b[2K     \u001b[90m━━━━━━━━━━━━━━━━━━━━━━━━━━━━━━━━━━━━━━━━\u001b[0m \u001b[32m57.7/57.7 kB\u001b[0m \u001b[31m4.0 MB/s\u001b[0m eta \u001b[36m0:00:00\u001b[0m\n",
            "\u001b[?25h  Installing build dependencies ... \u001b[?25l\u001b[?25hdone\n",
            "  Getting requirements to build wheel ... \u001b[?25l\u001b[?25hdone\n",
            "  Preparing metadata (pyproject.toml) ... \u001b[?25l\u001b[?25hdone\n",
            "Requirement already satisfied: python-dateutil==2.8.2 in /usr/local/lib/python3.11/dist-packages (from pysus==0.15.0) (2.8.2)\n",
            "Collecting tqdm==4.64.0 (from pysus==0.15.0)\n",
            "  Downloading tqdm-4.64.0-py2.py3-none-any.whl.metadata (57 kB)\n",
            "\u001b[2K     \u001b[90m━━━━━━━━━━━━━━━━━━━━━━━━━━━━━━━━━━━━━━━━\u001b[0m \u001b[32m57.3/57.3 kB\u001b[0m \u001b[31m4.7 MB/s\u001b[0m eta \u001b[36m0:00:00\u001b[0m\n",
            "\u001b[?25hRequirement already satisfied: typing-extensions<5.0.0,>=4.9.0 in /usr/local/lib/python3.11/dist-packages (from pysus==0.15.0) (4.13.1)\n",
            "Collecting urwid<3.0.0,>=2.1.2 (from pysus==0.15.0)\n",
            "  Downloading urwid-2.6.16-py3-none-any.whl.metadata (11 kB)\n",
            "Collecting wget<4.0,>=3.2 (from pysus==0.15.0)\n",
            "  Downloading wget-3.2.zip (10 kB)\n",
            "  Preparing metadata (setup.py) ... \u001b[?25l\u001b[?25hdone\n",
            "Collecting urllib3<2,>=1.21.1 (from elasticsearch==7.16.2->elasticsearch[preprocessing]==7.16.2->pysus==0.15.0)\n",
            "  Downloading urllib3-1.26.20-py2.py3-none-any.whl.metadata (50 kB)\n",
            "\u001b[2K     \u001b[90m━━━━━━━━━━━━━━━━━━━━━━━━━━━━━━━━━━━━━━━━\u001b[0m \u001b[32m50.1/50.1 kB\u001b[0m \u001b[31m3.9 MB/s\u001b[0m eta \u001b[36m0:00:00\u001b[0m\n",
            "\u001b[?25hRequirement already satisfied: certifi in /usr/local/lib/python3.11/dist-packages (from elasticsearch==7.16.2->elasticsearch[preprocessing]==7.16.2->pysus==0.15.0) (2025.1.31)\n",
            "\u001b[33mWARNING: elasticsearch 7.16.2 does not provide the extra 'preprocessing'\u001b[0m\u001b[33m\n",
            "\u001b[0mRequirement already satisfied: six>=1.5 in /usr/local/lib/python3.11/dist-packages (from python-dateutil==2.8.2->pysus==0.15.0) (1.17.0)\n",
            "Requirement already satisfied: pytz>=2024.2 in /usr/local/lib/python3.11/dist-packages (from dateparser<2.0.0,>=1.1.8->pysus==0.15.0) (2025.2)\n",
            "Requirement already satisfied: regex!=2019.02.19,!=2021.8.27,>=2015.06.24 in /usr/local/lib/python3.11/dist-packages (from dateparser<2.0.0,>=1.1.8->pysus==0.15.0) (2024.11.6)\n",
            "Requirement already satisfied: tzlocal>=0.2 in /usr/local/lib/python3.11/dist-packages (from dateparser<2.0.0,>=1.1.8->pysus==0.15.0) (5.3.1)\n",
            "Requirement already satisfied: cramjam>=2.3 in /usr/local/lib/python3.11/dist-packages (from fastparquet>=2023.10.1->pysus==0.15.0) (2.9.1)\n",
            "Requirement already satisfied: fsspec in /usr/local/lib/python3.11/dist-packages (from fastparquet>=2023.10.1->pysus==0.15.0) (2025.3.2)\n",
            "Requirement already satisfied: packaging in /usr/local/lib/python3.11/dist-packages (from fastparquet>=2023.10.1->pysus==0.15.0) (24.2)\n",
            "Requirement already satisfied: tzdata>=2022.7 in /usr/local/lib/python3.11/dist-packages (from pandas<3.0.0,>=2.2.2->pysus==0.15.0) (2025.2)\n",
            "Requirement already satisfied: pyyaml>=6 in /usr/local/lib/python3.11/dist-packages (from pyreaddbc>=1.1.0->pysus==0.15.0) (6.0.2)\n",
            "Requirement already satisfied: wcwidth in /usr/local/lib/python3.11/dist-packages (from urwid<3.0.0,>=2.1.2->pysus==0.15.0) (0.2.13)\n",
            "Downloading cffi-1.15.1-cp311-cp311-manylinux_2_17_x86_64.manylinux2014_x86_64.whl (462 kB)\n",
            "\u001b[2K   \u001b[90m━━━━━━━━━━━━━━━━━━━━━━━━━━━━━━━━━━━━━━━━\u001b[0m \u001b[32m462.6/462.6 kB\u001b[0m \u001b[31m20.6 MB/s\u001b[0m eta \u001b[36m0:00:00\u001b[0m\n",
            "\u001b[?25hDownloading dbfread-2.0.7-py2.py3-none-any.whl (20 kB)\n",
            "Downloading elasticsearch-7.16.2-py2.py3-none-any.whl (385 kB)\n",
            "\u001b[2K   \u001b[90m━━━━━━━━━━━━━━━━━━━━━━━━━━━━━━━━━━━━━━━━\u001b[0m \u001b[32m385.7/385.7 kB\u001b[0m \u001b[31m25.6 MB/s\u001b[0m eta \u001b[36m0:00:00\u001b[0m\n",
            "\u001b[?25hDownloading numpy-1.26.2-cp311-cp311-manylinux_2_17_x86_64.manylinux2014_x86_64.whl (18.2 MB)\n",
            "\u001b[2K   \u001b[90m━━━━━━━━━━━━━━━━━━━━━━━━━━━━━━━━━━━━━━━━\u001b[0m \u001b[32m18.2/18.2 MB\u001b[0m \u001b[31m96.3 MB/s\u001b[0m eta \u001b[36m0:00:00\u001b[0m\n",
            "\u001b[?25hDownloading pycparser-2.21-py2.py3-none-any.whl (118 kB)\n",
            "\u001b[2K   \u001b[90m━━━━━━━━━━━━━━━━━━━━━━━━━━━━━━━━━━━━━━━━\u001b[0m \u001b[32m118.7/118.7 kB\u001b[0m \u001b[31m10.8 MB/s\u001b[0m eta \u001b[36m0:00:00\u001b[0m\n",
            "\u001b[?25hDownloading tqdm-4.64.0-py2.py3-none-any.whl (78 kB)\n",
            "\u001b[2K   \u001b[90m━━━━━━━━━━━━━━━━━━━━━━━━━━━━━━━━━━━━━━━━\u001b[0m \u001b[32m78.4/78.4 kB\u001b[0m \u001b[31m7.1 MB/s\u001b[0m eta \u001b[36m0:00:00\u001b[0m\n",
            "\u001b[?25hDownloading aioftp-0.21.4-py3-none-any.whl (37 kB)\n",
            "Downloading bigtree-0.12.5-py3-none-any.whl (63 kB)\n",
            "\u001b[2K   \u001b[90m━━━━━━━━━━━━━━━━━━━━━━━━━━━━━━━━━━━━━━━━\u001b[0m \u001b[32m63.5/63.5 kB\u001b[0m \u001b[31m5.7 MB/s\u001b[0m eta \u001b[36m0:00:00\u001b[0m\n",
            "\u001b[?25hDownloading dateparser-1.2.1-py3-none-any.whl (295 kB)\n",
            "\u001b[2K   \u001b[90m━━━━━━━━━━━━━━━━━━━━━━━━━━━━━━━━━━━━━━━━\u001b[0m \u001b[32m295.7/295.7 kB\u001b[0m \u001b[31m22.7 MB/s\u001b[0m eta \u001b[36m0:00:00\u001b[0m\n",
            "\u001b[?25hDownloading fastparquet-2024.11.0-cp311-cp311-manylinux_2_17_x86_64.manylinux2014_x86_64.whl (1.8 MB)\n",
            "\u001b[2K   \u001b[90m━━━━━━━━━━━━━━━━━━━━━━━━━━━━━━━━━━━━━━━━\u001b[0m \u001b[32m1.8/1.8 MB\u001b[0m \u001b[31m73.8 MB/s\u001b[0m eta \u001b[36m0:00:00\u001b[0m\n",
            "\u001b[?25hDownloading loguru-0.6.0-py3-none-any.whl (58 kB)\n",
            "\u001b[2K   \u001b[90m━━━━━━━━━━━━━━━━━━━━━━━━━━━━━━━━━━━━━━━━\u001b[0m \u001b[32m58.3/58.3 kB\u001b[0m \u001b[31m5.0 MB/s\u001b[0m eta \u001b[36m0:00:00\u001b[0m\n",
            "\u001b[?25hDownloading Unidecode-1.3.8-py3-none-any.whl (235 kB)\n",
            "\u001b[2K   \u001b[90m━━━━━━━━━━━━━━━━━━━━━━━━━━━━━━━━━━━━━━━━\u001b[0m \u001b[32m235.5/235.5 kB\u001b[0m \u001b[31m16.6 MB/s\u001b[0m eta \u001b[36m0:00:00\u001b[0m\n",
            "\u001b[?25hDownloading urwid-2.6.16-py3-none-any.whl (297 kB)\n",
            "\u001b[2K   \u001b[90m━━━━━━━━━━━━━━━━━━━━━━━━━━━━━━━━━━━━━━━━\u001b[0m \u001b[32m297.2/297.2 kB\u001b[0m \u001b[31m22.7 MB/s\u001b[0m eta \u001b[36m0:00:00\u001b[0m\n",
            "\u001b[?25hDownloading urllib3-1.26.20-py2.py3-none-any.whl (144 kB)\n",
            "\u001b[2K   \u001b[90m━━━━━━━━━━━━━━━━━━━━━━━━━━━━━━━━━━━━━━━━\u001b[0m \u001b[32m144.2/144.2 kB\u001b[0m \u001b[31m12.9 MB/s\u001b[0m eta \u001b[36m0:00:00\u001b[0m\n",
            "\u001b[?25hBuilding wheels for collected packages: pysus, pyreaddbc, wget\n",
            "  Building wheel for pysus (pyproject.toml) ... \u001b[?25l\u001b[?25hdone\n",
            "  Created wheel for pysus: filename=pysus-0.15.0-py3-none-any.whl size=1431969 sha256=2b10d51f699840c30547461f6e05ce1c66be79a2b955e0be4b978ef05f74343c\n",
            "  Stored in directory: /tmp/pip-ephem-wheel-cache-d964ij3j/wheels/4a/fb/ea/3983ff962905de152393db110b9838e41d11cb62816147630b\n",
            "  Building wheel for pyreaddbc (pyproject.toml) ... \u001b[?25l\u001b[?25hdone\n",
            "  Created wheel for pyreaddbc: filename=pyreaddbc-1.2.0-cp311-cp311-manylinux_2_35_x86_64.whl size=89807 sha256=1187f2dfd4827ae94d58afb5631b57a1f25fd784c139fa820a3fba7a8e631e58\n",
            "  Stored in directory: /root/.cache/pip/wheels/1c/24/ff/03c9d6c394a14bf0f14a18333ff9345e8ff1bc3c62b10b399e\n",
            "  Building wheel for wget (setup.py) ... \u001b[?25l\u001b[?25hdone\n",
            "  Created wheel for wget: filename=wget-3.2-py3-none-any.whl size=9655 sha256=051df969010f5f6361d1f1e980c8cfc161eb749ecde85aeefb487bd32e06387d\n",
            "  Stored in directory: /root/.cache/pip/wheels/40/b3/0f/a40dbd1c6861731779f62cc4babcb234387e11d697df70ee97\n",
            "Successfully built pysus pyreaddbc wget\n",
            "Installing collected packages: wget, dbfread, urwid, urllib3, Unidecode, tqdm, pycparser, numpy, loguru, bigtree, aioftp, elasticsearch, dateparser, cffi, pyreaddbc, fastparquet, pysus\n",
            "  Attempting uninstall: urllib3\n",
            "    Found existing installation: urllib3 2.3.0\n",
            "    Uninstalling urllib3-2.3.0:\n",
            "      Successfully uninstalled urllib3-2.3.0\n",
            "  Attempting uninstall: tqdm\n",
            "    Found existing installation: tqdm 4.67.1\n",
            "    Uninstalling tqdm-4.67.1:\n",
            "      Successfully uninstalled tqdm-4.67.1\n",
            "  Attempting uninstall: pycparser\n",
            "    Found existing installation: pycparser 2.22\n",
            "    Uninstalling pycparser-2.22:\n",
            "      Successfully uninstalled pycparser-2.22\n",
            "  Attempting uninstall: numpy\n",
            "    Found existing installation: numpy 2.0.2\n",
            "    Uninstalling numpy-2.0.2:\n",
            "      Successfully uninstalled numpy-2.0.2\n",
            "  Attempting uninstall: cffi\n",
            "    Found existing installation: cffi 1.17.1\n",
            "    Uninstalling cffi-1.17.1:\n",
            "      Successfully uninstalled cffi-1.17.1\n",
            "\u001b[31mERROR: pip's dependency resolver does not currently take into account all the packages that are installed. This behaviour is the source of the following dependency conflicts.\n",
            "dopamine-rl 4.1.2 requires tqdm>=4.64.1, but you have tqdm 4.64.0 which is incompatible.\n",
            "pygit2 1.17.0 requires cffi>=1.17.0, but you have cffi 1.15.1 which is incompatible.\n",
            "thinc 8.3.6 requires numpy<3.0.0,>=2.0.0, but you have numpy 1.26.2 which is incompatible.\u001b[0m\u001b[31m\n",
            "\u001b[0mSuccessfully installed Unidecode-1.3.8 aioftp-0.21.4 bigtree-0.12.5 cffi-1.15.1 dateparser-1.2.1 dbfread-2.0.7 elasticsearch-7.16.2 fastparquet-2024.11.0 loguru-0.6.0 numpy-1.26.2 pycparser-2.21 pyreaddbc-1.2.0 pysus-0.15.0 tqdm-4.64.0 urllib3-1.26.20 urwid-2.6.16 wget-3.2\n"
          ]
        }
      ]
    },
    {
      "cell_type": "markdown",
      "source": [
        "# Agora que o PySUS está instalado, vamos digitar nosso primeiro script em Python em busca de dados nos sistemas do DataSUS\n",
        "\n",
        "Antes, certifique-se de ter clicado em Ambiente de execução e depois em Reiniciar Sessão, se ainda não o fez."
      ],
      "metadata": {
        "id": "fpXsBxZIMq8s"
      }
    },
    {
      "cell_type": "code",
      "source": [
        "from pysus.online_data.SIM import download\n",
        "import pandas as pd\n",
        "import matplotlib.pyplot as plt\n",
        "\n",
        "# Baixar os dados de óbito do Paraná (UF = 41) em 2022\n",
        "df = download(year=2022, uf='PR')  # PR = Paraná\n",
        "\n",
        "# Vamos visualizar as primeiras linhas para entender a estrutura\n",
        "df.head()\n"
      ],
      "metadata": {
        "colab": {
          "base_uri": "https://localhost:8080/",
          "height": 211
        },
        "id": "-yjS1K2qwPam",
        "outputId": "f4f6682d-902c-4d3a-c3d5-d3d058891295"
      },
      "execution_count": null,
      "outputs": [
        {
          "output_type": "error",
          "ename": "TypeError",
          "evalue": "download() got an unexpected keyword argument 'year'",
          "traceback": [
            "\u001b[0;31m---------------------------------------------------------------------------\u001b[0m",
            "\u001b[0;31mTypeError\u001b[0m                                 Traceback (most recent call last)",
            "\u001b[0;32m<ipython-input-1-e84af9734f02>\u001b[0m in \u001b[0;36m<cell line: 0>\u001b[0;34m()\u001b[0m\n\u001b[1;32m      4\u001b[0m \u001b[0;34m\u001b[0m\u001b[0m\n\u001b[1;32m      5\u001b[0m \u001b[0;31m# Baixar os dados de óbito do Paraná (UF = 41) em 2022\u001b[0m\u001b[0;34m\u001b[0m\u001b[0;34m\u001b[0m\u001b[0m\n\u001b[0;32m----> 6\u001b[0;31m \u001b[0mdf\u001b[0m \u001b[0;34m=\u001b[0m \u001b[0mdownload\u001b[0m\u001b[0;34m(\u001b[0m\u001b[0myear\u001b[0m\u001b[0;34m=\u001b[0m\u001b[0;36m2022\u001b[0m\u001b[0;34m,\u001b[0m \u001b[0muf\u001b[0m\u001b[0;34m=\u001b[0m\u001b[0;34m'PR'\u001b[0m\u001b[0;34m)\u001b[0m  \u001b[0;31m# PR = Paraná\u001b[0m\u001b[0;34m\u001b[0m\u001b[0;34m\u001b[0m\u001b[0m\n\u001b[0m\u001b[1;32m      7\u001b[0m \u001b[0;34m\u001b[0m\u001b[0m\n\u001b[1;32m      8\u001b[0m \u001b[0;31m# Vamos visualizar as primeiras linhas para entender a estrutura\u001b[0m\u001b[0;34m\u001b[0m\u001b[0;34m\u001b[0m\u001b[0m\n",
            "\u001b[0;31mTypeError\u001b[0m: download() got an unexpected keyword argument 'year'"
          ]
        }
      ]
    },
    {
      "cell_type": "code",
      "source": [
        "from pysus.online_data.SIH import download as download_sih\n",
        "from pysus.online_data.CNES import download as download_cnes\n",
        "from pysus.online_data.SIM import download as download_sim\n",
        "from pysus.online_data.SINASC import download as download_sinasc"
      ],
      "metadata": {
        "id": "enkmB98flUfK"
      },
      "execution_count": null,
      "outputs": []
    },
    {
      "cell_type": "code",
      "source": [
        "# Internações no Paraná (UF = PR), ano 2023, mês 01, tipo RD (resumo de internação hospitalar)\n",
        "\n",
        "# Baixa o arquivo\n",
        "parquet_set = download_sih(\"PR\", 2023, 1, \"RD\")\n",
        "\n",
        "# Converte para DataFrame\n",
        "df_sih = parquet_set.to_dataframe()\n",
        "\n",
        "# Visualiza as primeiras linhas\n",
        "df_sih.head()\n"
      ],
      "metadata": {
        "colab": {
          "base_uri": "https://localhost:8080/",
          "height": 253
        },
        "id": "la4mKX-qp1yl",
        "outputId": "4a09ac53-abe4-4785-9763-ad4409c548f2"
      },
      "execution_count": null,
      "outputs": [
        {
          "output_type": "stream",
          "name": "stderr",
          "text": [
            "RDPR2301.parquet: 100%|██████████| 262k/262k [00:14<00:00, 18.4kB/s]\n"
          ]
        },
        {
          "output_type": "execute_result",
          "data": {
            "text/plain": [
              "    UF_ZI ANO_CMPT MES_CMPT ESPEC        CGC_HOSP          N_AIH IDENT  \\\n",
              "0  410000     2023       01    03  76416866003408  4123107307913     1   \n",
              "1  410000     2023       01    07                  4122111788135     1   \n",
              "2  410000     2023       01    07                  4123107299510     1   \n",
              "3  410000     2023       01    07                  4123107299597     1   \n",
              "4  410000     2023       01    07                  4123107299608     1   \n",
              "\n",
              "        CEP MUNIC_RES      NASC  ...  DIAGSEC9 TPDISEC1 TPDISEC2 TPDISEC3  \\\n",
              "0  83252000    411820  19510523  ...                  0        0        0   \n",
              "1  83280000    410960  20220925  ...                  0        0        0   \n",
              "2  83280000    410960  20211230  ...                  0        0        0   \n",
              "3  83280000    410960  20220313  ...                  0        0        0   \n",
              "4  87111560    412625  20170508  ...                  0        0        0   \n",
              "\n",
              "  TPDISEC4 TPDISEC5 TPDISEC6 TPDISEC7 TPDISEC8 TPDISEC9  \n",
              "0        0        0        0        0        0        0  \n",
              "1        0        0        0        0        0        0  \n",
              "2        0        0        0        0        0        0  \n",
              "3        0        0        0        0        0        0  \n",
              "4        0        0        0        0        0        0  \n",
              "\n",
              "[5 rows x 113 columns]"
            ],
            "text/html": [
              "\n",
              "  <div id=\"df-10705aa1-209e-4107-a449-24b926f7b24e\" class=\"colab-df-container\">\n",
              "    <div>\n",
              "<style scoped>\n",
              "    .dataframe tbody tr th:only-of-type {\n",
              "        vertical-align: middle;\n",
              "    }\n",
              "\n",
              "    .dataframe tbody tr th {\n",
              "        vertical-align: top;\n",
              "    }\n",
              "\n",
              "    .dataframe thead th {\n",
              "        text-align: right;\n",
              "    }\n",
              "</style>\n",
              "<table border=\"1\" class=\"dataframe\">\n",
              "  <thead>\n",
              "    <tr style=\"text-align: right;\">\n",
              "      <th></th>\n",
              "      <th>UF_ZI</th>\n",
              "      <th>ANO_CMPT</th>\n",
              "      <th>MES_CMPT</th>\n",
              "      <th>ESPEC</th>\n",
              "      <th>CGC_HOSP</th>\n",
              "      <th>N_AIH</th>\n",
              "      <th>IDENT</th>\n",
              "      <th>CEP</th>\n",
              "      <th>MUNIC_RES</th>\n",
              "      <th>NASC</th>\n",
              "      <th>...</th>\n",
              "      <th>DIAGSEC9</th>\n",
              "      <th>TPDISEC1</th>\n",
              "      <th>TPDISEC2</th>\n",
              "      <th>TPDISEC3</th>\n",
              "      <th>TPDISEC4</th>\n",
              "      <th>TPDISEC5</th>\n",
              "      <th>TPDISEC6</th>\n",
              "      <th>TPDISEC7</th>\n",
              "      <th>TPDISEC8</th>\n",
              "      <th>TPDISEC9</th>\n",
              "    </tr>\n",
              "  </thead>\n",
              "  <tbody>\n",
              "    <tr>\n",
              "      <th>0</th>\n",
              "      <td>410000</td>\n",
              "      <td>2023</td>\n",
              "      <td>01</td>\n",
              "      <td>03</td>\n",
              "      <td>76416866003408</td>\n",
              "      <td>4123107307913</td>\n",
              "      <td>1</td>\n",
              "      <td>83252000</td>\n",
              "      <td>411820</td>\n",
              "      <td>19510523</td>\n",
              "      <td>...</td>\n",
              "      <td></td>\n",
              "      <td>0</td>\n",
              "      <td>0</td>\n",
              "      <td>0</td>\n",
              "      <td>0</td>\n",
              "      <td>0</td>\n",
              "      <td>0</td>\n",
              "      <td>0</td>\n",
              "      <td>0</td>\n",
              "      <td>0</td>\n",
              "    </tr>\n",
              "    <tr>\n",
              "      <th>1</th>\n",
              "      <td>410000</td>\n",
              "      <td>2023</td>\n",
              "      <td>01</td>\n",
              "      <td>07</td>\n",
              "      <td></td>\n",
              "      <td>4122111788135</td>\n",
              "      <td>1</td>\n",
              "      <td>83280000</td>\n",
              "      <td>410960</td>\n",
              "      <td>20220925</td>\n",
              "      <td>...</td>\n",
              "      <td></td>\n",
              "      <td>0</td>\n",
              "      <td>0</td>\n",
              "      <td>0</td>\n",
              "      <td>0</td>\n",
              "      <td>0</td>\n",
              "      <td>0</td>\n",
              "      <td>0</td>\n",
              "      <td>0</td>\n",
              "      <td>0</td>\n",
              "    </tr>\n",
              "    <tr>\n",
              "      <th>2</th>\n",
              "      <td>410000</td>\n",
              "      <td>2023</td>\n",
              "      <td>01</td>\n",
              "      <td>07</td>\n",
              "      <td></td>\n",
              "      <td>4123107299510</td>\n",
              "      <td>1</td>\n",
              "      <td>83280000</td>\n",
              "      <td>410960</td>\n",
              "      <td>20211230</td>\n",
              "      <td>...</td>\n",
              "      <td></td>\n",
              "      <td>0</td>\n",
              "      <td>0</td>\n",
              "      <td>0</td>\n",
              "      <td>0</td>\n",
              "      <td>0</td>\n",
              "      <td>0</td>\n",
              "      <td>0</td>\n",
              "      <td>0</td>\n",
              "      <td>0</td>\n",
              "    </tr>\n",
              "    <tr>\n",
              "      <th>3</th>\n",
              "      <td>410000</td>\n",
              "      <td>2023</td>\n",
              "      <td>01</td>\n",
              "      <td>07</td>\n",
              "      <td></td>\n",
              "      <td>4123107299597</td>\n",
              "      <td>1</td>\n",
              "      <td>83280000</td>\n",
              "      <td>410960</td>\n",
              "      <td>20220313</td>\n",
              "      <td>...</td>\n",
              "      <td></td>\n",
              "      <td>0</td>\n",
              "      <td>0</td>\n",
              "      <td>0</td>\n",
              "      <td>0</td>\n",
              "      <td>0</td>\n",
              "      <td>0</td>\n",
              "      <td>0</td>\n",
              "      <td>0</td>\n",
              "      <td>0</td>\n",
              "    </tr>\n",
              "    <tr>\n",
              "      <th>4</th>\n",
              "      <td>410000</td>\n",
              "      <td>2023</td>\n",
              "      <td>01</td>\n",
              "      <td>07</td>\n",
              "      <td></td>\n",
              "      <td>4123107299608</td>\n",
              "      <td>1</td>\n",
              "      <td>87111560</td>\n",
              "      <td>412625</td>\n",
              "      <td>20170508</td>\n",
              "      <td>...</td>\n",
              "      <td></td>\n",
              "      <td>0</td>\n",
              "      <td>0</td>\n",
              "      <td>0</td>\n",
              "      <td>0</td>\n",
              "      <td>0</td>\n",
              "      <td>0</td>\n",
              "      <td>0</td>\n",
              "      <td>0</td>\n",
              "      <td>0</td>\n",
              "    </tr>\n",
              "  </tbody>\n",
              "</table>\n",
              "<p>5 rows × 113 columns</p>\n",
              "</div>\n",
              "    <div class=\"colab-df-buttons\">\n",
              "\n",
              "  <div class=\"colab-df-container\">\n",
              "    <button class=\"colab-df-convert\" onclick=\"convertToInteractive('df-10705aa1-209e-4107-a449-24b926f7b24e')\"\n",
              "            title=\"Convert this dataframe to an interactive table.\"\n",
              "            style=\"display:none;\">\n",
              "\n",
              "  <svg xmlns=\"http://www.w3.org/2000/svg\" height=\"24px\" viewBox=\"0 -960 960 960\">\n",
              "    <path d=\"M120-120v-720h720v720H120Zm60-500h600v-160H180v160Zm220 220h160v-160H400v160Zm0 220h160v-160H400v160ZM180-400h160v-160H180v160Zm440 0h160v-160H620v160ZM180-180h160v-160H180v160Zm440 0h160v-160H620v160Z\"/>\n",
              "  </svg>\n",
              "    </button>\n",
              "\n",
              "  <style>\n",
              "    .colab-df-container {\n",
              "      display:flex;\n",
              "      gap: 12px;\n",
              "    }\n",
              "\n",
              "    .colab-df-convert {\n",
              "      background-color: #E8F0FE;\n",
              "      border: none;\n",
              "      border-radius: 50%;\n",
              "      cursor: pointer;\n",
              "      display: none;\n",
              "      fill: #1967D2;\n",
              "      height: 32px;\n",
              "      padding: 0 0 0 0;\n",
              "      width: 32px;\n",
              "    }\n",
              "\n",
              "    .colab-df-convert:hover {\n",
              "      background-color: #E2EBFA;\n",
              "      box-shadow: 0px 1px 2px rgba(60, 64, 67, 0.3), 0px 1px 3px 1px rgba(60, 64, 67, 0.15);\n",
              "      fill: #174EA6;\n",
              "    }\n",
              "\n",
              "    .colab-df-buttons div {\n",
              "      margin-bottom: 4px;\n",
              "    }\n",
              "\n",
              "    [theme=dark] .colab-df-convert {\n",
              "      background-color: #3B4455;\n",
              "      fill: #D2E3FC;\n",
              "    }\n",
              "\n",
              "    [theme=dark] .colab-df-convert:hover {\n",
              "      background-color: #434B5C;\n",
              "      box-shadow: 0px 1px 3px 1px rgba(0, 0, 0, 0.15);\n",
              "      filter: drop-shadow(0px 1px 2px rgba(0, 0, 0, 0.3));\n",
              "      fill: #FFFFFF;\n",
              "    }\n",
              "  </style>\n",
              "\n",
              "    <script>\n",
              "      const buttonEl =\n",
              "        document.querySelector('#df-10705aa1-209e-4107-a449-24b926f7b24e button.colab-df-convert');\n",
              "      buttonEl.style.display =\n",
              "        google.colab.kernel.accessAllowed ? 'block' : 'none';\n",
              "\n",
              "      async function convertToInteractive(key) {\n",
              "        const element = document.querySelector('#df-10705aa1-209e-4107-a449-24b926f7b24e');\n",
              "        const dataTable =\n",
              "          await google.colab.kernel.invokeFunction('convertToInteractive',\n",
              "                                                    [key], {});\n",
              "        if (!dataTable) return;\n",
              "\n",
              "        const docLinkHtml = 'Like what you see? Visit the ' +\n",
              "          '<a target=\"_blank\" href=https://colab.research.google.com/notebooks/data_table.ipynb>data table notebook</a>'\n",
              "          + ' to learn more about interactive tables.';\n",
              "        element.innerHTML = '';\n",
              "        dataTable['output_type'] = 'display_data';\n",
              "        await google.colab.output.renderOutput(dataTable, element);\n",
              "        const docLink = document.createElement('div');\n",
              "        docLink.innerHTML = docLinkHtml;\n",
              "        element.appendChild(docLink);\n",
              "      }\n",
              "    </script>\n",
              "  </div>\n",
              "\n",
              "\n",
              "<div id=\"df-3a40baac-e902-49f1-b231-67c6f1107433\">\n",
              "  <button class=\"colab-df-quickchart\" onclick=\"quickchart('df-3a40baac-e902-49f1-b231-67c6f1107433')\"\n",
              "            title=\"Suggest charts\"\n",
              "            style=\"display:none;\">\n",
              "\n",
              "<svg xmlns=\"http://www.w3.org/2000/svg\" height=\"24px\"viewBox=\"0 0 24 24\"\n",
              "     width=\"24px\">\n",
              "    <g>\n",
              "        <path d=\"M19 3H5c-1.1 0-2 .9-2 2v14c0 1.1.9 2 2 2h14c1.1 0 2-.9 2-2V5c0-1.1-.9-2-2-2zM9 17H7v-7h2v7zm4 0h-2V7h2v10zm4 0h-2v-4h2v4z\"/>\n",
              "    </g>\n",
              "</svg>\n",
              "  </button>\n",
              "\n",
              "<style>\n",
              "  .colab-df-quickchart {\n",
              "      --bg-color: #E8F0FE;\n",
              "      --fill-color: #1967D2;\n",
              "      --hover-bg-color: #E2EBFA;\n",
              "      --hover-fill-color: #174EA6;\n",
              "      --disabled-fill-color: #AAA;\n",
              "      --disabled-bg-color: #DDD;\n",
              "  }\n",
              "\n",
              "  [theme=dark] .colab-df-quickchart {\n",
              "      --bg-color: #3B4455;\n",
              "      --fill-color: #D2E3FC;\n",
              "      --hover-bg-color: #434B5C;\n",
              "      --hover-fill-color: #FFFFFF;\n",
              "      --disabled-bg-color: #3B4455;\n",
              "      --disabled-fill-color: #666;\n",
              "  }\n",
              "\n",
              "  .colab-df-quickchart {\n",
              "    background-color: var(--bg-color);\n",
              "    border: none;\n",
              "    border-radius: 50%;\n",
              "    cursor: pointer;\n",
              "    display: none;\n",
              "    fill: var(--fill-color);\n",
              "    height: 32px;\n",
              "    padding: 0;\n",
              "    width: 32px;\n",
              "  }\n",
              "\n",
              "  .colab-df-quickchart:hover {\n",
              "    background-color: var(--hover-bg-color);\n",
              "    box-shadow: 0 1px 2px rgba(60, 64, 67, 0.3), 0 1px 3px 1px rgba(60, 64, 67, 0.15);\n",
              "    fill: var(--button-hover-fill-color);\n",
              "  }\n",
              "\n",
              "  .colab-df-quickchart-complete:disabled,\n",
              "  .colab-df-quickchart-complete:disabled:hover {\n",
              "    background-color: var(--disabled-bg-color);\n",
              "    fill: var(--disabled-fill-color);\n",
              "    box-shadow: none;\n",
              "  }\n",
              "\n",
              "  .colab-df-spinner {\n",
              "    border: 2px solid var(--fill-color);\n",
              "    border-color: transparent;\n",
              "    border-bottom-color: var(--fill-color);\n",
              "    animation:\n",
              "      spin 1s steps(1) infinite;\n",
              "  }\n",
              "\n",
              "  @keyframes spin {\n",
              "    0% {\n",
              "      border-color: transparent;\n",
              "      border-bottom-color: var(--fill-color);\n",
              "      border-left-color: var(--fill-color);\n",
              "    }\n",
              "    20% {\n",
              "      border-color: transparent;\n",
              "      border-left-color: var(--fill-color);\n",
              "      border-top-color: var(--fill-color);\n",
              "    }\n",
              "    30% {\n",
              "      border-color: transparent;\n",
              "      border-left-color: var(--fill-color);\n",
              "      border-top-color: var(--fill-color);\n",
              "      border-right-color: var(--fill-color);\n",
              "    }\n",
              "    40% {\n",
              "      border-color: transparent;\n",
              "      border-right-color: var(--fill-color);\n",
              "      border-top-color: var(--fill-color);\n",
              "    }\n",
              "    60% {\n",
              "      border-color: transparent;\n",
              "      border-right-color: var(--fill-color);\n",
              "    }\n",
              "    80% {\n",
              "      border-color: transparent;\n",
              "      border-right-color: var(--fill-color);\n",
              "      border-bottom-color: var(--fill-color);\n",
              "    }\n",
              "    90% {\n",
              "      border-color: transparent;\n",
              "      border-bottom-color: var(--fill-color);\n",
              "    }\n",
              "  }\n",
              "</style>\n",
              "\n",
              "  <script>\n",
              "    async function quickchart(key) {\n",
              "      const quickchartButtonEl =\n",
              "        document.querySelector('#' + key + ' button');\n",
              "      quickchartButtonEl.disabled = true;  // To prevent multiple clicks.\n",
              "      quickchartButtonEl.classList.add('colab-df-spinner');\n",
              "      try {\n",
              "        const charts = await google.colab.kernel.invokeFunction(\n",
              "            'suggestCharts', [key], {});\n",
              "      } catch (error) {\n",
              "        console.error('Error during call to suggestCharts:', error);\n",
              "      }\n",
              "      quickchartButtonEl.classList.remove('colab-df-spinner');\n",
              "      quickchartButtonEl.classList.add('colab-df-quickchart-complete');\n",
              "    }\n",
              "    (() => {\n",
              "      let quickchartButtonEl =\n",
              "        document.querySelector('#df-3a40baac-e902-49f1-b231-67c6f1107433 button');\n",
              "      quickchartButtonEl.style.display =\n",
              "        google.colab.kernel.accessAllowed ? 'block' : 'none';\n",
              "    })();\n",
              "  </script>\n",
              "</div>\n",
              "\n",
              "    </div>\n",
              "  </div>\n"
            ],
            "application/vnd.google.colaboratory.intrinsic+json": {
              "type": "dataframe",
              "variable_name": "df_sih"
            }
          },
          "metadata": {},
          "execution_count": 2
        }
      ]
    },
    {
      "cell_type": "markdown",
      "source": [
        "# Exemplo de Código criado pelo GPT usando o código acima como modelo para encontrar o número de médicos de Foz do Iguaçu via CNES e PySUS\n",
        "Observação, comentamos (usando #) a linha de !pip pois ela é desnecessária nesse ambiente já que o !pip foi realizado anteriormente se você está seguindo os comandos um a um e na sequência. Originalmente, o GPT não havia comentado (#) essa linha de código.\n",
        "\n",
        "O prompt utilizado no GPT foi: \"Considere o código anexo AulaUnioestePySUS.txt. Baseado nos exemplos contidos no arquivo, escreva um código em Python para o Google Colab usando a biblioteca PySUS para acessar o CNES e encontrar o número de médicos em Foz do Iguaçu.\"\n",
        "\n",
        "Se você não possui o arquivo AulaUnioestePySUS.txt, substitua o texto \"anexo AulaUnioestePySUS.txt\" por:\n",
        "\n",
        "!pip install git+https://github.com/AlertaDengue/PySUS.git --upgrade\n",
        "\n",
        "from pysus.online_data.SIH import download as download_sih\n",
        "from pysus.online_data.CNES import download as download_cnes\n",
        "from pysus.online_data.SIM import download as download_sim\n",
        "from pysus.online_data.SINASC import download as download_sinasc\n",
        "\n",
        "# Baixa o arquivo\n",
        "parquet_set = download_sih(\"PR\", 2023, 1, \"RD\")\n",
        "\n",
        "# Converte para DataFrame\n",
        "df_sih = parquet_set.to_dataframe()\n",
        "\n",
        "# Visualiza as primeiras linhas\n",
        "df_sih.head()\n",
        "\n",
        "# Exemplo: baixar dados da tabela ST (Estabelecimentos de Saúde) de 2023\n",
        "\n",
        "# Baixar dados da tabela ST (Estabelecimentos de Saúde) para janeiro de 2023\n",
        "parquet_set = download_cnes(\"ST\", states=[\"PR\"], years=[2023], months=[1])\n",
        "\n",
        "# Converter para DataFrame\n",
        "df_cnes = parquet_set.to_dataframe()\n",
        "\n",
        "# Visualizar as primeiras linhas\n",
        "df_cnes.head()\n",
        "\n",
        "# Parâmetros\n",
        "grupo = \"CID10\"         # Declaração de óbito completa\n",
        "estados = [\"PR\"]     # Sigla do estado como string em uma lista\n",
        "anos = [2022]        # Ano em lista\n",
        "\n",
        "# Baixando os dados\n",
        "parquet_set = download_sim(grupo, states=estados, years=anos)\n",
        "\n",
        "# Convertendo para DataFrame\n",
        "df_sim = parquet_set.to_dataframe()\n",
        "\n",
        "# Visualizando as primeiras linhas\n",
        "df_sim.head()\n",
        "\n",
        "\n",
        "# Parâmetros\n",
        "grupo = \"DN\"          # Dados completos de nascidos vivos\n",
        "estados = [\"PR\"]      # Estado: Paraná\n",
        "anos = [2022]         # Ano\n",
        "\n",
        "# Baixando os dados\n",
        "parquet_set = download_sinasc(grupo, states=estados, years=anos)\n",
        "\n",
        "# Convertendo para DataFrame\n",
        "df_sinasc = parquet_set.to_dataframe()\n",
        "\n",
        "# Visualizando as primeiras linhas\n",
        "df_sinasc.head()"
      ],
      "metadata": {
        "id": "2Sfc_VuJicKK"
      }
    },
    {
      "cell_type": "code",
      "source": [
        "# Instalar a biblioteca PySUS\n",
        "#!pip install git+https://github.com/AlertaDengue/PySUS.git --upgrade\n",
        "\n",
        "# Importar bibliotecas necessárias\n",
        "from pysus.online_data.CNES import download as download_cnes\n",
        "import pandas as pd\n",
        "\n",
        "# Parâmetros\n",
        "estado = \"PR\"\n",
        "ano = 2023\n",
        "mes = 1\n",
        "\n",
        "# Baixar dados da tabela PF (Profissionais) do CNES\n",
        "parquet_set = download_cnes(\"PF\", states=[estado], years=[ano], months=[mes])\n",
        "\n",
        "# Converter para DataFrame\n",
        "df_pf = parquet_set.to_dataframe()\n",
        "\n",
        "# Filtrar profissionais do município de Foz do Iguaçu (código IBGE: 410830)\n",
        "df_foz = df_pf[df_pf[\"CO_MUNICIP\"] == \"410830\"]\n",
        "\n",
        "# Filtrar apenas médicos (CBO inicia com 2231 - Médicos gerais e especialistas)\n",
        "df_medicos = df_foz[df_foz[\"CO_CBO\"].str.startswith(\"2231\")]\n",
        "\n",
        "# Contar número total de médicos\n",
        "numero_medicos = df_medicos.shape[0]\n",
        "\n",
        "# Exibir o resultado\n",
        "print(f\"Número de médicos em Foz do Iguaçu (jan/2023): {numero_medicos}\")\n"
      ],
      "metadata": {
        "colab": {
          "base_uri": "https://localhost:8080/",
          "height": 564
        },
        "id": "2-DmVtuViZcy",
        "outputId": "abe1e591-088d-450e-fc35-29a66be78089"
      },
      "execution_count": null,
      "outputs": [
        {
          "output_type": "stream",
          "name": "stderr",
          "text": [
            "PFPR2301.parquet: 100%|██████████| 371k/371k [00:20<00:00, 18.0kB/s]\n"
          ]
        },
        {
          "output_type": "error",
          "ename": "KeyError",
          "evalue": "'CO_MUNICIP'",
          "traceback": [
            "\u001b[0;31m---------------------------------------------------------------------------\u001b[0m",
            "\u001b[0;31mKeyError\u001b[0m                                  Traceback (most recent call last)",
            "\u001b[0;32m/usr/local/lib/python3.11/dist-packages/pandas/core/indexes/base.py\u001b[0m in \u001b[0;36mget_loc\u001b[0;34m(self, key)\u001b[0m\n\u001b[1;32m   3804\u001b[0m         \u001b[0;32mtry\u001b[0m\u001b[0;34m:\u001b[0m\u001b[0;34m\u001b[0m\u001b[0;34m\u001b[0m\u001b[0m\n\u001b[0;32m-> 3805\u001b[0;31m             \u001b[0;32mreturn\u001b[0m \u001b[0mself\u001b[0m\u001b[0;34m.\u001b[0m\u001b[0m_engine\u001b[0m\u001b[0;34m.\u001b[0m\u001b[0mget_loc\u001b[0m\u001b[0;34m(\u001b[0m\u001b[0mcasted_key\u001b[0m\u001b[0;34m)\u001b[0m\u001b[0;34m\u001b[0m\u001b[0;34m\u001b[0m\u001b[0m\n\u001b[0m\u001b[1;32m   3806\u001b[0m         \u001b[0;32mexcept\u001b[0m \u001b[0mKeyError\u001b[0m \u001b[0;32mas\u001b[0m \u001b[0merr\u001b[0m\u001b[0;34m:\u001b[0m\u001b[0;34m\u001b[0m\u001b[0;34m\u001b[0m\u001b[0m\n",
            "\u001b[0;32mindex.pyx\u001b[0m in \u001b[0;36mpandas._libs.index.IndexEngine.get_loc\u001b[0;34m()\u001b[0m\n",
            "\u001b[0;32mindex.pyx\u001b[0m in \u001b[0;36mpandas._libs.index.IndexEngine.get_loc\u001b[0;34m()\u001b[0m\n",
            "\u001b[0;32mpandas/_libs/hashtable_class_helper.pxi\u001b[0m in \u001b[0;36mpandas._libs.hashtable.PyObjectHashTable.get_item\u001b[0;34m()\u001b[0m\n",
            "\u001b[0;32mpandas/_libs/hashtable_class_helper.pxi\u001b[0m in \u001b[0;36mpandas._libs.hashtable.PyObjectHashTable.get_item\u001b[0;34m()\u001b[0m\n",
            "\u001b[0;31mKeyError\u001b[0m: 'CO_MUNICIP'",
            "\nThe above exception was the direct cause of the following exception:\n",
            "\u001b[0;31mKeyError\u001b[0m                                  Traceback (most recent call last)",
            "\u001b[0;32m<ipython-input-5-2bbecb3b49d9>\u001b[0m in \u001b[0;36m<cell line: 0>\u001b[0;34m()\u001b[0m\n\u001b[1;32m     18\u001b[0m \u001b[0;34m\u001b[0m\u001b[0m\n\u001b[1;32m     19\u001b[0m \u001b[0;31m# Filtrar profissionais do município de Foz do Iguaçu (código IBGE: 410830)\u001b[0m\u001b[0;34m\u001b[0m\u001b[0;34m\u001b[0m\u001b[0m\n\u001b[0;32m---> 20\u001b[0;31m \u001b[0mdf_foz\u001b[0m \u001b[0;34m=\u001b[0m \u001b[0mdf_pf\u001b[0m\u001b[0;34m[\u001b[0m\u001b[0mdf_pf\u001b[0m\u001b[0;34m[\u001b[0m\u001b[0;34m\"CO_MUNICIP\"\u001b[0m\u001b[0;34m]\u001b[0m \u001b[0;34m==\u001b[0m \u001b[0;34m\"410830\"\u001b[0m\u001b[0;34m]\u001b[0m\u001b[0;34m\u001b[0m\u001b[0;34m\u001b[0m\u001b[0m\n\u001b[0m\u001b[1;32m     21\u001b[0m \u001b[0;34m\u001b[0m\u001b[0m\n\u001b[1;32m     22\u001b[0m \u001b[0;31m# Filtrar apenas médicos (CBO inicia com 2231 - Médicos gerais e especialistas)\u001b[0m\u001b[0;34m\u001b[0m\u001b[0;34m\u001b[0m\u001b[0m\n",
            "\u001b[0;32m/usr/local/lib/python3.11/dist-packages/pandas/core/frame.py\u001b[0m in \u001b[0;36m__getitem__\u001b[0;34m(self, key)\u001b[0m\n\u001b[1;32m   4100\u001b[0m             \u001b[0;32mif\u001b[0m \u001b[0mself\u001b[0m\u001b[0;34m.\u001b[0m\u001b[0mcolumns\u001b[0m\u001b[0;34m.\u001b[0m\u001b[0mnlevels\u001b[0m \u001b[0;34m>\u001b[0m \u001b[0;36m1\u001b[0m\u001b[0;34m:\u001b[0m\u001b[0;34m\u001b[0m\u001b[0;34m\u001b[0m\u001b[0m\n\u001b[1;32m   4101\u001b[0m                 \u001b[0;32mreturn\u001b[0m \u001b[0mself\u001b[0m\u001b[0;34m.\u001b[0m\u001b[0m_getitem_multilevel\u001b[0m\u001b[0;34m(\u001b[0m\u001b[0mkey\u001b[0m\u001b[0;34m)\u001b[0m\u001b[0;34m\u001b[0m\u001b[0;34m\u001b[0m\u001b[0m\n\u001b[0;32m-> 4102\u001b[0;31m             \u001b[0mindexer\u001b[0m \u001b[0;34m=\u001b[0m \u001b[0mself\u001b[0m\u001b[0;34m.\u001b[0m\u001b[0mcolumns\u001b[0m\u001b[0;34m.\u001b[0m\u001b[0mget_loc\u001b[0m\u001b[0;34m(\u001b[0m\u001b[0mkey\u001b[0m\u001b[0;34m)\u001b[0m\u001b[0;34m\u001b[0m\u001b[0;34m\u001b[0m\u001b[0m\n\u001b[0m\u001b[1;32m   4103\u001b[0m             \u001b[0;32mif\u001b[0m \u001b[0mis_integer\u001b[0m\u001b[0;34m(\u001b[0m\u001b[0mindexer\u001b[0m\u001b[0;34m)\u001b[0m\u001b[0;34m:\u001b[0m\u001b[0;34m\u001b[0m\u001b[0;34m\u001b[0m\u001b[0m\n\u001b[1;32m   4104\u001b[0m                 \u001b[0mindexer\u001b[0m \u001b[0;34m=\u001b[0m \u001b[0;34m[\u001b[0m\u001b[0mindexer\u001b[0m\u001b[0;34m]\u001b[0m\u001b[0;34m\u001b[0m\u001b[0;34m\u001b[0m\u001b[0m\n",
            "\u001b[0;32m/usr/local/lib/python3.11/dist-packages/pandas/core/indexes/base.py\u001b[0m in \u001b[0;36mget_loc\u001b[0;34m(self, key)\u001b[0m\n\u001b[1;32m   3810\u001b[0m             ):\n\u001b[1;32m   3811\u001b[0m                 \u001b[0;32mraise\u001b[0m \u001b[0mInvalidIndexError\u001b[0m\u001b[0;34m(\u001b[0m\u001b[0mkey\u001b[0m\u001b[0;34m)\u001b[0m\u001b[0;34m\u001b[0m\u001b[0;34m\u001b[0m\u001b[0m\n\u001b[0;32m-> 3812\u001b[0;31m             \u001b[0;32mraise\u001b[0m \u001b[0mKeyError\u001b[0m\u001b[0;34m(\u001b[0m\u001b[0mkey\u001b[0m\u001b[0;34m)\u001b[0m \u001b[0;32mfrom\u001b[0m \u001b[0merr\u001b[0m\u001b[0;34m\u001b[0m\u001b[0;34m\u001b[0m\u001b[0m\n\u001b[0m\u001b[1;32m   3813\u001b[0m         \u001b[0;32mexcept\u001b[0m \u001b[0mTypeError\u001b[0m\u001b[0;34m:\u001b[0m\u001b[0;34m\u001b[0m\u001b[0;34m\u001b[0m\u001b[0m\n\u001b[1;32m   3814\u001b[0m             \u001b[0;31m# If we have a listlike key, _check_indexing_error will raise\u001b[0m\u001b[0;34m\u001b[0m\u001b[0;34m\u001b[0m\u001b[0m\n",
            "\u001b[0;31mKeyError\u001b[0m: 'CO_MUNICIP'"
          ]
        }
      ]
    },
    {
      "cell_type": "markdown",
      "source": [
        "O código anterior vai rodar e devolver um erro: PFPR2301.parquet: 100%|██████████| 371k/371k [00:20<00:00, 18.0kB/s]\n",
        "---------------------------------------------------------------------------\n",
        "KeyError                                  Traceback (most recent call last)\n",
        "/usr/local/lib/python3.11/dist-packages/pandas/core/indexes/base.py in get_loc(self, key)\n",
        "   3804         try:\n",
        "-> 3805             return self._engine.get_loc(casted_key)\n",
        "   3806         except KeyError as err:\n",
        "\n",
        "index.pyx in pandas._libs.index.IndexEngine.get_loc()\n",
        "\n",
        "index.pyx in pandas._libs.index.IndexEngine.get_loc()\n",
        "\n",
        "pandas/_libs/hashtable_class_helper.pxi in pandas._libs.hashtable.PyObjectHashTable.get_item()\n",
        "\n",
        "pandas/_libs/hashtable_class_helper.pxi in pandas._libs.hashtable.PyObjectHashTable.get_item()\n",
        "\n",
        "KeyError: 'CO_MUNICIP'\n",
        "\n",
        "The above exception was the direct cause of the following exception:\n",
        "\n",
        "KeyError                                  Traceback (most recent call last)\n",
        "2 frames\n",
        "/usr/local/lib/python3.11/dist-packages/pandas/core/indexes/base.py in get_loc(self, key)\n",
        "   3810             ):\n",
        "   3811                 raise InvalidIndexError(key)\n",
        "-> 3812             raise KeyError(key) from err\n",
        "   3813         except TypeError:\n",
        "   3814             # If we have a listlike key, _check_indexing_error will raise\n",
        "\n",
        "KeyError: 'CO_MUNICIP'"
      ],
      "metadata": {
        "id": "0JE6EyY5kdW5"
      }
    },
    {
      "cell_type": "markdown",
      "source": [
        "# Você deve apenas copiar essa mensagem de erro e colar no GPT para verificar se ele é capaz de resolver o problema."
      ],
      "metadata": {
        "id": "MKwmkEREkoNg"
      }
    },
    {
      "cell_type": "markdown",
      "source": [
        "A resposta do GPT foi: Esse erro indica que a coluna \"CO_MUNICIP\" não existe no DataFrame df_pf. Isso pode ocorrer porque os nomes das colunas mudam dependendo da tabela CNES baixada e do ano/mês selecionado.\n",
        "\n",
        "Vamos inspecionar o DataFrame para ver os nomes reais das colunas. Execute o código abaixo para listar todas as colunas disponíveis:\n",
        "\n",
        "Então, ele pede para que se execute a seguinte linha de código:"
      ],
      "metadata": {
        "id": "x4T7cqQik-Yg"
      }
    },
    {
      "cell_type": "code",
      "source": [
        "# Verificar o nome correto das colunas\n",
        "print(df_pf.columns)"
      ],
      "metadata": {
        "colab": {
          "base_uri": "https://localhost:8080/"
        },
        "id": "KrDfUi6-kyoG",
        "outputId": "f9d125dd-0187-4ab7-c34a-395fb89b2031"
      },
      "execution_count": null,
      "outputs": [
        {
          "output_type": "stream",
          "name": "stdout",
          "text": [
            "Index(['CNES', 'CODUFMUN', 'REGSAUDE', 'MICR_REG', 'DISTRSAN', 'DISTRADM',\n",
            "       'TPGESTAO', 'PF_PJ', 'CPF_CNPJ', 'NIV_DEP', 'CNPJ_MAN', 'ESFERA_A',\n",
            "       'ATIVIDAD', 'RETENCAO', 'NATUREZA', 'CLIENTEL', 'TP_UNID', 'TURNO_AT',\n",
            "       'NIV_HIER', 'TERCEIRO', 'CPF_PROF', 'CPFUNICO', 'CBO', 'CBOUNICO',\n",
            "       'NOMEPROF', 'CNS_PROF', 'CONSELHO', 'REGISTRO', 'VINCULAC', 'VINCUL_C',\n",
            "       'VINCUL_A', 'VINCUL_N', 'PROF_SUS', 'PROFNSUS', 'HORAOUTR', 'HORAHOSP',\n",
            "       'HORA_AMB', 'COMPETEN', 'UFMUNRES', 'NAT_JUR'],\n",
            "      dtype='object')\n"
          ]
        }
      ]
    },
    {
      "cell_type": "markdown",
      "source": [
        "O resultado será: Index(['CNES', 'CODUFMUN', 'REGSAUDE', 'MICR_REG', 'DISTRSAN', 'DISTRADM',\n",
        "       'TPGESTAO', 'PF_PJ', 'CPF_CNPJ', 'NIV_DEP', 'CNPJ_MAN', 'ESFERA_A',\n",
        "       'ATIVIDAD', 'RETENCAO', 'NATUREZA', 'CLIENTEL', 'TP_UNID', 'TURNO_AT',\n",
        "       'NIV_HIER', 'TERCEIRO', 'CPF_PROF', 'CPFUNICO', 'CBO', 'CBOUNICO',\n",
        "       'NOMEPROF', 'CNS_PROF', 'CONSELHO', 'REGISTRO', 'VINCULAC', 'VINCUL_C',\n",
        "       'VINCUL_A', 'VINCUL_N', 'PROF_SUS', 'PROFNSUS', 'HORAOUTR', 'HORAHOSP',\n",
        "       'HORA_AMB', 'COMPETEN', 'UFMUNRES', 'NAT_JUR'],\n",
        "      dtype='object')\n",
        "\n",
        "Cole esse resultado e aguarde o GPT sugerir a correção."
      ],
      "metadata": {
        "id": "poO5JVYvlNXc"
      }
    },
    {
      "cell_type": "markdown",
      "source": [
        "Essa foi a resposta do GPT:\n",
        "Perfeito! Com base nas colunas disponíveis:\n",
        "\n",
        "A coluna que representa o município é: 'CODUFMUN' (código IBGE do município do estabelecimento).\n",
        "\n",
        "A coluna com o código da ocupação (CBO) é: 'CBO'.\n",
        "\n",
        "O código IBGE de Foz do Iguaçu é 410830.\n",
        "\n",
        "✅ Aqui está o código corrigido para contar os médicos atuando em Foz do Iguaçu:\n",
        "\n",
        "# Filtrar para Foz do Iguaçu (código IBGE: 410830)\n",
        "df_foz = df_pf[df_pf[\"CODUFMUN\"] == 410830]\n",
        "\n",
        "# Filtrar médicos: CBO começa com '2231' (médicos em geral)\n",
        "df_medicos = df_foz[df_foz[\"CBO\"].str.startswith(\"2231\")]\n",
        "\n",
        "# Contar o número total de médicos\n",
        "numero_medicos = df_medicos.shape[0]\n",
        "\n",
        "# Exibir resultado\n",
        "print(f\"Número de médicos em Foz do Iguaçu (jan/2023): {numero_medicos}\")\n",
        "\n",
        "Como podem ver, o GPT foi preguiçoso e só devolveu o código parcialmente corrigido. Apenas peça em seguida para que ele escreva o código completo novamente com as correções."
      ],
      "metadata": {
        "id": "QjFcaBQYlhdb"
      }
    },
    {
      "cell_type": "code",
      "source": [
        "# 1. Instalar a biblioteca PySUS\n",
        "#Mais uma vez comentamos a linha abaixo pois não faz sentido perder tempo e processamento para executá-la repetidas vezes já que no google colab a biblioteca já foi carregada e está na memória.\n",
        "#!pip install git+https://github.com/AlertaDengue/PySUS.git --upgrade\n",
        "\n",
        "# 2. Importar bibliotecas\n",
        "from pysus.online_data.CNES import download as download_cnes\n",
        "import pandas as pd\n",
        "\n",
        "# 3. Baixar os dados da tabela PF (Profissionais) para o Paraná em janeiro de 2023\n",
        "estado = \"PR\"\n",
        "ano = 2023\n",
        "mes = 1\n",
        "parquet_set = download_cnes(\"PF\", states=[estado], years=[ano], months=[mes])\n",
        "\n",
        "# 4. Converter para DataFrame\n",
        "df_pf = parquet_set.to_dataframe()\n",
        "\n",
        "# 5. Filtrar profissionais em Foz do Iguaçu (código IBGE: 410830)\n",
        "df_foz = df_pf[df_pf[\"CODUFMUN\"] == 410830]\n",
        "\n",
        "# 6. Filtrar médicos (CBO começa com '2231' = médicos e especialistas)\n",
        "df_medicos = df_foz[df_foz[\"CBO\"].str.startswith(\"2231\")]\n",
        "\n",
        "# 7. Contar o número de médicos\n",
        "numero_medicos = df_medicos.shape[0]\n",
        "\n",
        "# 8. Exibir resultado\n",
        "print(f\"Número de médicos em Foz do Iguaçu (jan/2023): {numero_medicos}\")\n"
      ],
      "metadata": {
        "colab": {
          "base_uri": "https://localhost:8080/"
        },
        "id": "JWl4NcGUlW0_",
        "outputId": "6f6f387a-d808-43ed-acc9-fc3479a10d5d"
      },
      "execution_count": null,
      "outputs": [
        {
          "output_type": "stream",
          "name": "stderr",
          "text": [
            "16602855it [00:00, 15578841417.88it/s]\n"
          ]
        },
        {
          "output_type": "stream",
          "name": "stdout",
          "text": [
            "Número de médicos em Foz do Iguaçu (jan/2023): 0\n"
          ]
        }
      ]
    },
    {
      "cell_type": "markdown",
      "source": [
        "Perceba que o resultado foi zero. Perguntamos ao GPT o porquê dessa forma: Tem alguma coisa errada, porque o resultado devolvido foi: 16602855it [00:00, 15578841417.88it/s]\n",
        "Número de médicos em Foz do Iguaçu (jan/2023): 0"
      ],
      "metadata": {
        "id": "m1xUW_wjm3Yn"
      }
    },
    {
      "cell_type": "markdown",
      "source": [
        "A resposta dele foi: Ótima observação — esse retorno 16602855it [...] indica que o DataFrame foi processado corretamente, mas o filtro não encontrou nenhum médico com:\n",
        "\n",
        "CODUFMUN == 410830, e\n",
        "\n",
        "CBO iniciando com \"2231\".\n",
        "\n",
        "Isso provavelmente está acontecendo porque a coluna CBO está em formato numérico (inteiro), não como string — e estamos tentando usar .str.startswith(), o que só funciona com strings.\n",
        "\n",
        "✅ Vamos corrigir o problema convertendo a coluna CBO para string com zero à esquerda:"
      ],
      "metadata": {
        "id": "-MPcfjBmm9_K"
      }
    },
    {
      "cell_type": "code",
      "source": [
        "# 1. Instalar a biblioteca PySUS\n",
        "#comentamos mais uma vez o !pip\n",
        "#!pip install git+https://github.com/AlertaDengue/PySUS.git --upgrade\n",
        "\n",
        "# 2. Importar bibliotecas\n",
        "from pysus.online_data.CNES import download as download_cnes\n",
        "import pandas as pd\n",
        "\n",
        "# 3. Baixar os dados da tabela PF (Profissionais) para o Paraná em janeiro de 2023\n",
        "estado = \"PR\"\n",
        "ano = 2023\n",
        "mes = 1\n",
        "parquet_set = download_cnes(\"PF\", states=[estado], years=[ano], months=[mes])\n",
        "\n",
        "# 4. Converter para DataFrame\n",
        "df_pf = parquet_set.to_dataframe()\n",
        "\n",
        "# 5. Corrigir: converter CBO para string com zero à esquerda (caso esteja como número)\n",
        "df_pf[\"CBO\"] = df_pf[\"CBO\"].astype(str).str.zfill(6)\n",
        "\n",
        "# 6. Filtrar profissionais em Foz do Iguaçu (código IBGE: 410830)\n",
        "df_foz = df_pf[df_pf[\"CODUFMUN\"] == 410830]\n",
        "\n",
        "# 7. Filtrar médicos (CBO começa com '2231' = médicos e especialistas)\n",
        "df_medicos = df_foz[df_foz[\"CBO\"].str.startswith(\"2231\")]\n",
        "\n",
        "# 8. Contar o número de médicos\n",
        "numero_medicos = df_medicos.shape[0]\n",
        "\n",
        "# 9. Exibir resultado\n",
        "print(f\"Número de médicos em Foz do Iguaçu (jan/2023): {numero_medicos}\")\n"
      ],
      "metadata": {
        "colab": {
          "base_uri": "https://localhost:8080/"
        },
        "id": "LkMiMo0TmUWT",
        "outputId": "c2e697df-66f1-4447-d0ea-92fe5f68a7b8"
      },
      "execution_count": null,
      "outputs": [
        {
          "output_type": "stream",
          "name": "stderr",
          "text": [
            "16602855it [00:00, 17241253067.08it/s]\n"
          ]
        },
        {
          "output_type": "stream",
          "name": "stdout",
          "text": [
            "Número de médicos em Foz do Iguaçu (jan/2023): 0\n"
          ]
        }
      ]
    },
    {
      "cell_type": "markdown",
      "source": [
        "Como a resposta ainda foi zero, e o problema parece estar na forma como o GPT está lendo a coluna CBO, pedimos para ele tentar entender o que está gravado em registros aleatórios com essa pergunta:\n",
        "\n",
        "Ainda não funcionou. Já que o problema parece ser com o formato com que os dados estão armazenados na coluna, você não poderia fazer um código para a gente ler um aleatoriamente e entender como os dados estão gravados?"
      ],
      "metadata": {
        "id": "5hoqNqi2nr-D"
      }
    },
    {
      "cell_type": "markdown",
      "source": [
        "Essa foi a resposta do GPT: Excelente ideia! Vamos inspecionar diretamente alguns registros para entender como estão armazenados os dados da coluna CBO (ocupação) e CODUFMUN (município). Assim, poderemos diagnosticar corretamente o motivo do filtro retornar zero médicos.\n",
        "\n",
        "Aqui vai um código para:\n",
        "\n",
        "Listar alguns valores únicos de CODUFMUN para garantir que 410830 (Foz do Iguaçu) está presente;\n",
        "\n",
        "Visualizar uma amostra aleatória com os campos CBO e CODUFMUN.\n",
        "\n",
        "O código seguinte foi sugerido para se executar no google colab na sequência:"
      ],
      "metadata": {
        "id": "QnovdEwan9NI"
      }
    },
    {
      "cell_type": "markdown",
      "source": [
        "# Mostrar os primeiros valores únicos da coluna CODUFMUN\n",
        "print(\"Códigos de municípios encontrados:\")\n",
        "print(df_pf[\"CODUFMUN\"].unique()[:10])\n",
        "\n",
        "# Mostrar os primeiros valores únicos da coluna CBO\n",
        "print(\"\\nAlguns códigos de CBO encontrados:\")\n",
        "print(df_pf[\"CBO\"].unique()[:10])\n",
        "\n",
        "# Mostrar uma amostra aleatória de 10 registros com as colunas relevantes\n",
        "print(\"\\nAmostra aleatória de registros (CBO e CODUFMUN):\")\n",
        "print(df_pf[[\"CBO\", \"CODUFMUN\"]].sample(10))\n"
      ],
      "metadata": {
        "id": "_fc5ZJnJoH2s"
      }
    },
    {
      "cell_type": "code",
      "source": [
        "# Mostrar os primeiros valores únicos da coluna CODUFMUN\n",
        "print(\"Códigos de municípios encontrados:\")\n",
        "print(df_pf[\"CODUFMUN\"].unique()[:10])\n",
        "\n",
        "# Mostrar os primeiros valores únicos da coluna CBO\n",
        "print(\"\\nAlguns códigos de CBO encontrados:\")\n",
        "print(df_pf[\"CBO\"].unique()[:10])\n",
        "\n",
        "# Mostrar uma amostra aleatória de 10 registros com as colunas relevantes\n",
        "print(\"\\nAmostra aleatória de registros (CBO e CODUFMUN):\")\n",
        "print(df_pf[[\"CBO\", \"CODUFMUN\"]].sample(10))\n"
      ],
      "metadata": {
        "colab": {
          "base_uri": "https://localhost:8080/"
        },
        "id": "xTNvdFNzoXX7",
        "outputId": "584d4eee-45eb-4015-b3ee-eca19aeae3c4"
      },
      "execution_count": null,
      "outputs": [
        {
          "output_type": "stream",
          "name": "stdout",
          "text": [
            "Códigos de municípios encontrados:\n",
            "<StringArray>\n",
            "['410420', '410425', '410430', '410440', '410442', '410445', '410450',\n",
            " '410460', '410465', '410470']\n",
            "Length: 10, dtype: string\n",
            "\n",
            "Alguns códigos de CBO encontrados:\n",
            "['223505' '322205' '251605' '225250' '131210' '225125' '225320' '225151'\n",
            " '225270' '225225']\n",
            "\n",
            "Amostra aleatória de registros (CBO e CODUFMUN):\n",
            "           CBO CODUFMUN\n",
            "229073  322205   412290\n",
            "278817  225250   411840\n",
            "270661  322230   411740\n",
            "202968  225125   410690\n",
            "199110  223305   410690\n",
            "142945  513220   410880\n",
            "127006  223293   410760\n",
            "94042   225225   411070\n",
            "4911    223505   410430\n",
            "3486    322205   410430\n"
          ]
        }
      ]
    },
    {
      "cell_type": "markdown",
      "source": [
        "O resultado da execução do código anterior foi: Códigos de municípios encontrados:\n",
        "<StringArray>\n",
        "['410420', '410425', '410430', '410440', '410442', '410445', '410450',\n",
        " '410460', '410465', '410470']\n",
        "Length: 10, dtype: string\n",
        "\n",
        "Alguns códigos de CBO encontrados:\n",
        "['223505' '322205' '251605' '225250' '131210' '225125' '225320' '225151'\n",
        " '225270' '225225']\n",
        "\n",
        "Amostra aleatória de registros (CBO e CODUFMUN):\n",
        "           CBO CODUFMUN\n",
        "229073  322205   412290\n",
        "278817  225250   411840\n",
        "270661  322230   411740\n",
        "202968  225125   410690\n",
        "199110  223305   410690\n",
        "142945  513220   410880\n",
        "127006  223293   410760\n",
        "94042   225225   411070\n",
        "4911    223505   410430\n",
        "3486    322205   410430"
      ],
      "metadata": {
        "id": "P4gAm3ZGobNP"
      }
    },
    {
      "cell_type": "markdown",
      "source": [
        "Colamos esse resultado no GPT para que ele possa corrigir o código original e fazemos uma nova tentativa."
      ],
      "metadata": {
        "id": "Tnc10ywPofNV"
      }
    },
    {
      "cell_type": "markdown",
      "source": [
        "O GPT resposdeu: ✅ Análise dos dados:\n",
        "Coluna CBO:\n",
        "\n",
        "Está armazenada como string com 6 dígitos (ex: '223505').\n",
        "\n",
        "Ou seja, já está no formato certo — não precisa de zfill nem conversão.\n",
        "\n",
        "Coluna CODUFMUN:\n",
        "\n",
        "Também é do tipo string (como StringArray).\n",
        "\n",
        "Então, devemos comparar com \"410830\" (entre aspas), e não com inteiro.\n",
        "\n",
        "Há registros com CBOs como '225250', '225125', '225225', que também são médicos especialistas.\n",
        "\n",
        "✅ Novo filtro mais abrangente:\n",
        "Na CBO, os médicos geralmente estão em dois grupos principais:\n",
        "\n",
        "'2231XX': médicos clínicos gerais.\n",
        "\n",
        "'2251XX' até '225999': médicos especialistas.\n",
        "\n",
        "Vamos incluir ambos os grupos."
      ],
      "metadata": {
        "id": "RQjfrMm3ozGF"
      }
    },
    {
      "cell_type": "markdown",
      "source": [
        "Então, ele reescreveu o código completo que está abaixo:"
      ],
      "metadata": {
        "id": "LJDf2WaVo3BT"
      }
    },
    {
      "cell_type": "code",
      "source": [
        "# 1. Instalar a biblioteca PySUS\n",
        "#comentamos\n",
        "#!pip install git+https://github.com/AlertaDengue/PySUS.git --upgrade\n",
        "\n",
        "# 2. Importar bibliotecas\n",
        "from pysus.online_data.CNES import download as download_cnes\n",
        "import pandas as pd\n",
        "\n",
        "# 3. Baixar os dados da tabela PF (Profissionais) para o Paraná em janeiro de 2023\n",
        "estado = \"PR\"\n",
        "ano = 2023\n",
        "mes = 1\n",
        "parquet_set = download_cnes(\"PF\", states=[estado], years=[ano], months=[mes])\n",
        "\n",
        "# 4. Converter para DataFrame\n",
        "df_pf = parquet_set.to_dataframe()\n",
        "\n",
        "# 5. Filtrar profissionais de Foz do Iguaçu (CODUFMUN como string)\n",
        "df_foz = df_pf[df_pf[\"CODUFMUN\"] == \"410830\"]\n",
        "\n",
        "# 6. Filtrar médicos: CBO começa com '2231' ou '225' (médicos e especialistas)\n",
        "df_medicos = df_foz[df_foz[\"CBO\"].str.startswith((\"2231\", \"225\"))]\n",
        "\n",
        "# 7. Contar médicos\n",
        "numero_medicos = df_medicos.shape[0]\n",
        "\n",
        "# 8. Mostrar resultado\n",
        "print(f\"Número de médicos em Foz do Iguaçu (jan/2023): {numero_medicos}\")\n"
      ],
      "metadata": {
        "colab": {
          "base_uri": "https://localhost:8080/"
        },
        "id": "XArZ-dw_olLG",
        "outputId": "102e3f75-82b8-46a3-c847-edccfe8ccefa"
      },
      "execution_count": null,
      "outputs": [
        {
          "output_type": "stream",
          "name": "stderr",
          "text": [
            "16602855it [00:00, 14982233463.41it/s]\n"
          ]
        },
        {
          "output_type": "stream",
          "name": "stdout",
          "text": [
            "Número de médicos em Foz do Iguaçu (jan/2023): 2399\n"
          ]
        }
      ]
    },
    {
      "cell_type": "markdown",
      "source": [
        "# Pronto!\n",
        "Com paciência, obtivemos a resposta: 16602855it [00:00, 14982233463.41it/s]\n",
        "Número de médicos em Foz do Iguaçu (jan/2023): 2399\n"
      ],
      "metadata": {
        "id": "VWREuENKpFoU"
      }
    },
    {
      "cell_type": "markdown",
      "source": [
        "O GPT sugeriu o seguinte: Se quiser ir além, posso gerar uma tabela com o número de médicos por especialidade (CBO) ou um gráfico com as 10 ocupações mais comuns em Foz. Deseja isso?\n",
        "\n",
        "Para testar, dissemos sim e obtivemos a seguinte resposta do GPT:"
      ],
      "metadata": {
        "id": "UbG2fzhrpUHw"
      }
    },
    {
      "cell_type": "markdown",
      "source": [
        "Perfeito! Vamos complementar o código anterior para:\n",
        "\n",
        "✅ Criar uma tabela com os 10 CBOs (ocupações médicas) mais comuns entre os médicos em Foz do Iguaçu, com descrição legível.\n",
        "Incluirei também um gráfico de barras com essas ocupações — tudo pronto para rodar no Google Colab.\n",
        "\n",
        "✅ Código completo com gráfico + tabela:"
      ],
      "metadata": {
        "id": "J_jgbZCBpnR6"
      }
    },
    {
      "cell_type": "code",
      "source": [
        "# 1. Instalar dependências\n",
        "#mais uma vez comentamos a linha do pip do PySUS, mas agora precisamos de uma outra biblioteca que ainda não havia sido importada, então a seguinte não está comentada (#)\n",
        "#!pip install git+https://github.com/AlertaDengue/PySUS.git --upgrade\n",
        "!pip install matplotlib\n",
        "\n",
        "# 2. Importar bibliotecas\n",
        "from pysus.online_data.CNES import download as download_cnes\n",
        "import pandas as pd\n",
        "import matplotlib.pyplot as plt\n",
        "\n",
        "# 3. Baixar dados PF para o PR em janeiro de 2023\n",
        "estado = \"PR\"\n",
        "ano = 2023\n",
        "mes = 1\n",
        "parquet_set = download_cnes(\"PF\", states=[estado], years=[ano], months=[mes])\n",
        "df_pf = parquet_set.to_dataframe()\n",
        "\n",
        "# 4. Filtrar para Foz do Iguaçu\n",
        "df_foz = df_pf[df_pf[\"CODUFMUN\"] == \"410830\"]\n",
        "\n",
        "# 5. Filtrar médicos (CBOs começam com '2231' ou '225')\n",
        "df_medicos = df_foz[df_foz[\"CBO\"].str.startswith((\"2231\", \"225\"))]\n",
        "\n",
        "# 6. Tabela de frequência por CBO\n",
        "cbo_counts = df_medicos[\"CBO\"].value_counts().head(10).reset_index()\n",
        "cbo_counts.columns = [\"CBO\", \"Quantidade\"]\n",
        "\n",
        "# 7. Criar dicionário de CBOs mais comuns (parcial, pode expandir se quiser)\n",
        "descricao_cbo = {\n",
        "    \"223505\": \"Enfermeiro\",\n",
        "    \"223293\": \"Médico Clínico\",\n",
        "    \"223305\": \"Médico da Estratégia de Saúde da Família\",\n",
        "    \"225125\": \"Médico Cardiologista\",\n",
        "    \"225225\": \"Médico Ginecologista\",\n",
        "    \"225320\": \"Médico Neurologista\",\n",
        "    \"225270\": \"Médico Infectologista\",\n",
        "    \"225250\": \"Médico Endocrinologista\",\n",
        "    \"225151\": \"Médico Dermatologista\",\n",
        "    \"225145\": \"Médico Cirurgião\",\n",
        "    \"225350\": \"Médico Oftalmologista\"\n",
        "}\n",
        "\n",
        "# 8. Mapear a descrição dos CBOs\n",
        "cbo_counts[\"Descrição\"] = cbo_counts[\"CBO\"].map(descricao_cbo).fillna(\"Especialidade não mapeada\")\n",
        "\n",
        "# 9. Exibir tabela\n",
        "print(\"Top 10 ocupações médicas em Foz do Iguaçu:\")\n",
        "print(cbo_counts)\n",
        "\n",
        "# 10. Gráfico de barras\n",
        "plt.figure(figsize=(10, 6))\n",
        "plt.barh(cbo_counts[\"Descrição\"], cbo_counts[\"Quantidade\"])\n",
        "plt.xlabel(\"Quantidade de profissionais\")\n",
        "plt.title(\"Top 10 ocupações médicas em Foz do Iguaçu (jan/2023)\")\n",
        "plt.gca().invert_yaxis()  # Coloca o maior no topo\n",
        "plt.tight_layout()\n",
        "plt.show()\n"
      ],
      "metadata": {
        "colab": {
          "base_uri": "https://localhost:8080/",
          "height": 1000
        },
        "id": "NJDWzKSFpauQ",
        "outputId": "ec13b0a9-4937-41d6-d4e4-aa86e420e97b"
      },
      "execution_count": null,
      "outputs": [
        {
          "output_type": "stream",
          "name": "stdout",
          "text": [
            "Requirement already satisfied: matplotlib in /usr/local/lib/python3.11/dist-packages (3.10.0)\n",
            "Requirement already satisfied: contourpy>=1.0.1 in /usr/local/lib/python3.11/dist-packages (from matplotlib) (1.3.1)\n",
            "Requirement already satisfied: cycler>=0.10 in /usr/local/lib/python3.11/dist-packages (from matplotlib) (0.12.1)\n",
            "Requirement already satisfied: fonttools>=4.22.0 in /usr/local/lib/python3.11/dist-packages (from matplotlib) (4.57.0)\n",
            "Requirement already satisfied: kiwisolver>=1.3.1 in /usr/local/lib/python3.11/dist-packages (from matplotlib) (1.4.8)\n",
            "Requirement already satisfied: numpy>=1.23 in /usr/local/lib/python3.11/dist-packages (from matplotlib) (1.26.2)\n",
            "Requirement already satisfied: packaging>=20.0 in /usr/local/lib/python3.11/dist-packages (from matplotlib) (24.2)\n",
            "Requirement already satisfied: pillow>=8 in /usr/local/lib/python3.11/dist-packages (from matplotlib) (11.1.0)\n",
            "Requirement already satisfied: pyparsing>=2.3.1 in /usr/local/lib/python3.11/dist-packages (from matplotlib) (3.2.3)\n",
            "Requirement already satisfied: python-dateutil>=2.7 in /usr/local/lib/python3.11/dist-packages (from matplotlib) (2.8.2)\n",
            "Requirement already satisfied: six>=1.5 in /usr/local/lib/python3.11/dist-packages (from python-dateutil>=2.7->matplotlib) (1.17.0)\n"
          ]
        },
        {
          "output_type": "stream",
          "name": "stderr",
          "text": [
            "16602855it [00:00, 10591242758.62it/s]\n"
          ]
        },
        {
          "output_type": "stream",
          "name": "stdout",
          "text": [
            "Top 10 ocupações médicas em Foz do Iguaçu:\n",
            "      CBO  Quantidade                  Descrição\n",
            "0  225125         924       Médico Cardiologista\n",
            "1  225151         131      Médico Dermatologista\n",
            "2  225250         119    Médico Endocrinologista\n",
            "3  225124         110  Especialidade não mapeada\n",
            "4  225270         100      Médico Infectologista\n",
            "5  225320          98        Médico Neurologista\n",
            "6  2231F9          92  Especialidade não mapeada\n",
            "7  225225          90       Médico Ginecologista\n",
            "8  225142          81  Especialidade não mapeada\n",
            "9  225120          60  Especialidade não mapeada\n"
          ]
        },
        {
          "output_type": "display_data",
          "data": {
            "text/plain": [
              "<Figure size 1000x600 with 1 Axes>"
            ],
            "image/png": "[encoded data removed]"
          },
          "metadata": {}
        }
      ]
    },
    {
      "cell_type": "markdown",
      "source": [
        "# Pronto! Temos nosso primeiro gráfico de exemplo!"
      ],
      "metadata": {
        "id": "8XqWuLKpqDSo"
      }
    },
    {
      "cell_type": "markdown",
      "source": [
        "# Seja paciente e perseverante!"
      ],
      "metadata": {
        "id": "0XlQ8hAcqHAY"
      }
    },
    {
      "cell_type": "markdown",
      "source": [
        "# Estude o básico de Python!"
      ],
      "metadata": {
        "id": "SQJ-Bsx1qPOa"
      }
    },
    {
      "cell_type": "markdown",
      "source": [
        "# Obrigado pela atenção! E boa sorte!"
      ],
      "metadata": {
        "id": "xXS52pqVqTtK"
      }
    },
    {
      "cell_type": "markdown",
      "source": [
        "# Conheça nosso site: http://www.kraemeracademy.net"
      ],
      "metadata": {
        "id": "VtXmyKeBqYw2"
      }
    },
    {
      "cell_type": "markdown",
      "source": [
        "# Conheça nosso canal no Youtube: Kraemer Academy"
      ],
      "metadata": {
        "id": "7wBkmxjxqdt_"
      }
    },
    {
      "cell_type": "markdown",
      "source": [
        "# Curiosidade: Assista ao documentário \"A Noiva de Preto\" com Izabelle Ferrari, Alexandre Kraemer e Anelise Kraemer, que conta a história dos casamentos com vestidos de noiva pretos no século XIX no sul do Brasil."
      ],
      "metadata": {
        "id": "869csmJNqi80"
      }
    }
  ]
}