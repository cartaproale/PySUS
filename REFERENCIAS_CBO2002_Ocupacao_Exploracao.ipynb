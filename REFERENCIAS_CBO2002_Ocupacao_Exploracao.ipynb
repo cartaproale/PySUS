{
 "cells": [
  {
   "cell_type": "markdown",
   "id": "ef18dc55",
   "metadata": {},
   "source": [
    "# 📘 Tabela Referencial: CBO2002 – Ocupações\n",
    "\n",
    "Este notebook realiza a leitura e exploração da tabela de ocupações da Classificação Brasileira de Ocupações (CBO 2002), útil para decodificar os dados de profissionais nos sistemas como CNES.\n",
    "\n",
    "- Fonte: [GitHub/cartaproale/cbo-csv](https://github.com/cartaproale/cbo-csv)\n",
    "- Formato: CSV separado por ponto e vírgula (;) com codificação `latin1`.\n",
    "\n",
    "⚠️ O arquivo é lido diretamente da internet, sem necessidade de download manual."
   ]
  },
  {
   "cell_type": "code",
   "execution_count": null,
   "id": "380538a9",
   "metadata": {},
   "outputs": [],
   "source": [
    "# Instala bibliotecas necessárias\n",
    "!pip install pandas"
   ]
  },
  {
   "cell_type": "code",
   "execution_count": null,
   "id": "4f08d5e1",
   "metadata": {},
   "outputs": [],
   "source": [
    "# 📥 Leitura da tabela CBO diretamente do GitHub\n",
    "import pandas as pd\n",
    "\n",
    "url = \"https://github.com/cartaproale/cbo-csv/raw/refs/heads/main/CBO2002%20-%20Ocupacao.csv\"\n",
    "df_cbo = pd.read_csv(url, sep=';', encoding='latin1')\n",
    "\n",
    "# Padroniza nomes das colunas\n",
    "df_cbo.columns = df_cbo.columns.str.strip().str.lower()\n",
    "df_cbo.rename(columns={\n",
    "    'cod_ocup': 'codigo',\n",
    "    'titulo_ocupacao': 'titulo'\n",
    "}, inplace=True)\n",
    "df_cbo.head()"
   ]
  },
  {
   "cell_type": "code",
   "execution_count": null,
   "id": "026de7ef",
   "metadata": {},
   "outputs": [],
   "source": [
    "# 🔎 Busca por uma ocupação\n",
    "df_cbo[df_cbo['titulo'].str.contains('enfermagem', case=False, na=False)]"
   ]
  },
  {
   "cell_type": "code",
   "execution_count": null,
   "id": "3f4b7949",
   "metadata": {},
   "outputs": [],
   "source": [
    "# 🔁 Buscar pelo código CBO\n",
    "df_cbo[df_cbo['codigo'] == 223505]"
   ]
  },
  {
   "cell_type": "markdown",
   "id": "bbccd855",
   "metadata": {},
   "source": [
    "### 💡 Integração com CNES\n",
    "Você pode cruzar o código da coluna `CBO` da base CNES-PF com a coluna `codigo` da tabela CBO2002 para obter a descrição da ocupação.\n",
    "\n",
    "```python\n",
    "df_merge = df_cnes_pf.merge(df_cbo, left_on='CBO', right_on='codigo', how='left')\n",
    "```"
   ]
  }
 ],
 "metadata": {},
 "nbformat": 4,
 "nbformat_minor": 5
}
