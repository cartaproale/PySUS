{
 "cells": [
  {
   "cell_type": "markdown",
   "id": "77ce686f",
   "metadata": {},
   "source": [
    "# Tabela CID-10 - Mapeamento por Função\n",
    "Este notebook permite carregar a tabela de categorias CID-10 e realizar mapeamentos de código → descrição."
   ]
  },
  {
   "cell_type": "code",
   "execution_count": null,
   "id": "0cf18cf0",
   "metadata": {},
   "outputs": [],
   "source": [
    "# 🔹 Etapa 1: Instalar o pandas (se necessário)\n",
    "# !pip install pandas\n",
    "import pandas as pd"
   ]
  },
  {
   "cell_type": "code",
   "execution_count": null,
   "id": "a5a5dd44",
   "metadata": {},
   "outputs": [],
   "source": [
    "# 🔹 Etapa 2: Carregar a tabela CID-10 diretamente do GitHub\n",
    "url = \"https://github.com/cartaproale/CID10/raw/refs/heads/main/CID-10-CATEGORIAS.CSV\"\n",
    "df = pd.read_csv(url, sep=';', encoding='latin1')\n",
    "\n",
    "# 🔹 Etapa 3: Padronizar os nomes das colunas\n",
    "df.columns = df.columns.str.strip().str.lower()\n",
    "\n",
    "# 🔹 Etapa 4: Renomear coluna relevante\n",
    "df.rename(columns={'cat': 'codigo', 'descricao': 'descricao'}, inplace=True)\n",
    "\n",
    "# 🔹 Visualizar as primeiras linhas\n",
    "df[['codigo', 'descricao']].head()"
   ]
  },
  {
   "cell_type": "code",
   "execution_count": null,
   "id": "a73e5016",
   "metadata": {},
   "outputs": [],
   "source": [
    "# 🔹 Etapa 5: Criar função de mapeamento de código → descrição\n",
    "def cid10_para_descricao(codigo, tabela):\n",
    "    resultado = tabela.loc[tabela['codigo'] == codigo, 'descricao']\n",
    "    return resultado.values[0] if not resultado.empty else \"Código não encontrado\"\n",
    "\n",
    "# 🔹 Exemplo de uso\n",
    "cid10_para_descricao(\"A03\", df)"
   ]
  }
 ],
 "metadata": {},
 "nbformat": 4,
 "nbformat_minor": 5
}
