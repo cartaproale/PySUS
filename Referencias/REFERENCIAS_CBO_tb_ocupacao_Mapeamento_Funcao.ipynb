{
 "cells": [
  {
   "cell_type": "code",
   "execution_count": null,
   "id": "768a0817",
   "metadata": {},
   "outputs": [],
   "source": [
    "\n",
    "# ✅ Notebook: Tabela CBO - Classificação Brasileira de Ocupações\n",
    "\n",
    "import pandas as pd\n",
    "\n",
    "# 🔹 Etapa 1: Carregar a tabela CBO diretamente do GitHub\n",
    "url = \"https://github.com/cartaproale/cbo-csv/raw/refs/heads/main/CBO2002%20-%20Ocupacao.csv\"\n",
    "df = pd.read_csv(url, sep=';', encoding='latin1')\n",
    "\n",
    "# 🔹 Etapa 2: Padronizar os nomes das colunas\n",
    "df.columns = df.columns.str.strip().str.lower()\n",
    "df.rename(columns={'codigo': 'codigo', 'titulo': 'descricao'}, inplace=True)\n",
    "\n",
    "# 🔹 Etapa 3: Exibir amostra\n",
    "print(\"Amostra da tabela CBO:\")\n",
    "display(df.head())\n",
    "\n",
    "# 🔹 Etapa 4: Função de mapeamento\n",
    "def descricao_ocupacao(codigo):\n",
    "    resultado = df.loc[df['codigo'] == codigo, 'descricao']\n",
    "    return resultado.values[0] if not resultado.empty else \"Código não encontrado\"\n",
    "\n",
    "# 🔹 Etapa 5: Exemplo de uso\n",
    "exemplo = \"225115\"\n",
    "print(f\"Código: {exemplo} → Descrição: {descricao_ocupacao(exemplo)}\")\n"
   ]
  }
 ],
 "metadata": {},
 "nbformat": 4,
 "nbformat_minor": 5
}