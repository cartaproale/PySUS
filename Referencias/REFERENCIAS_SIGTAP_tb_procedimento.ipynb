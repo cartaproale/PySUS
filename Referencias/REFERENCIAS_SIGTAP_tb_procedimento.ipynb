{
 "cells": [
  {
   "cell_type": "code",
   "execution_count": null,
   "id": "128bcae3",
   "metadata": {},
   "outputs": [],
   "source": [
    "\n",
    "# ✅ Notebook: Tabela de Procedimentos SIGTAP (tb_procedimento.txt)\n",
    "\n",
    "# 🔹 Etapa 1: Importar bibliotecas\n",
    "import pandas as pd\n",
    "\n",
    "# 🔹 Etapa 2: Definir o link para o arquivo txt de largura fixa\n",
    "url = \"https://raw.githubusercontent.com/cartaproale/PySUS/main/tabelas/tb_procedimento.txt\"\n",
    "\n",
    "# 🔹 Etapa 3: Ler o arquivo com largura fixa (fixed-width format)\n",
    "df = pd.read_fwf(url, widths=[10, 120], names=[\"codigo\", \"descricao\"], encoding=\"latin1\", dtype=str)\n",
    "\n",
    "# 🔹 Etapa 4: Visualizar as primeiras linhas\n",
    "df.head()\n"
   ]
  }
 ],
 "metadata": {},
 "nbformat": 4,
 "nbformat_minor": 5
}
