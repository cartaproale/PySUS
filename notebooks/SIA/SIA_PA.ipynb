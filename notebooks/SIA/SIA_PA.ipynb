{
 "cells": [
  {
   "cell_type": "markdown",
   "id": "4429f64d",
   "metadata": {},
   "source": [
    "# SIA - Produção Ambulatorial (PA) - Paraná Jan/2023\n",
    "Notebook validado com PySUS (AlertaDengue), utilizando `PA_PROC_ID`."
   ]
  },
  {
   "cell_type": "code",
   "execution_count": null,
   "id": "4006b8a2",
   "metadata": {},
   "outputs": [],
   "source": [
    "!pip install git+https://github.com/AlertaDengue/PySUS.git --upgrade"
   ]
  },
  {
   "cell_type": "code",
   "execution_count": null,
   "id": "442c4d8e",
   "metadata": {},
   "outputs": [],
   "source": [
    "import pandas as pd\n",
    "import matplotlib.pyplot as plt\n",
    "from pysus.online_data.SIA import download"
   ]
  },
  {
   "cell_type": "code",
   "execution_count": null,
   "id": "57f7b0c6",
   "metadata": {},
   "outputs": [],
   "source": [
    "# Baixar dados do SIA - tipo PA para o Paraná em janeiro de 2023\n",
    "df = download(\"PR\", 2023, 1, \"PA\").to_dataframe()\n",
    "df.head()"
   ]
  },
  {
   "cell_type": "code",
   "execution_count": null,
   "id": "d807a5fd",
   "metadata": {},
   "outputs": [],
   "source": [
    "# Verificar colunas disponíveis e analisar procedimentos realizados\n",
    "print(df.columns.tolist())\n",
    "df['PA_PROC_ID'].value_counts().head(10)"
   ]
  },
  {
   "cell_type": "code",
   "execution_count": null,
   "id": "c02c0678",
   "metadata": {},
   "outputs": [],
   "source": [
    "# Gráfico dos 10 procedimentos mais realizados (PA_PROC_ID)\n",
    "top_proc = df['PA_PROC_ID'].value_counts().head(10)\n",
    "top_proc.plot(kind='bar')\n",
    "plt.title('Top 10 procedimentos ambulatoriais - SIA/PA - PR Jan/2023')\n",
    "plt.xlabel('Código do procedimento')\n",
    "plt.ylabel('Quantidade')\n",
    "plt.xticks(rotation=45)\n",
    "plt.tight_layout()\n",
    "plt.show()"
   ]
  }
 ],
 "metadata": {
  "kernelspec": {
   "display_name": "Python 3",
   "language": "python",
   "name": "python3"
  }
 },
 "nbformat": 4,
 "nbformat_minor": 5
}
