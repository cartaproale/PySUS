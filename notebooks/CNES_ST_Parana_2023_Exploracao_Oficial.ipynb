{
 "cells": [
  {
   "cell_type": "markdown",
   "id": "bc5c4f0e",
   "metadata": {},
   "source": [
    "# CNES - Estabelecimentos (ST) - Paraná Jan/2023\n",
    "Notebook atualizado e funcional com análise da coluna `TP_UNID`."
   ]
  },
  {
   "cell_type": "code",
   "execution_count": null,
   "id": "b43799d8",
   "metadata": {},
   "outputs": [],
   "source": [
    "!pip install git+https://github.com/AlertaDengue/PySUS.git --upgrade"
   ]
  },
  {
   "cell_type": "code",
   "execution_count": null,
   "id": "2402be35",
   "metadata": {},
   "outputs": [],
   "source": [
    "import pandas as pd\n",
    "import matplotlib.pyplot as plt\n",
    "from pysus.online_data.CNES import download"
   ]
  },
  {
   "cell_type": "code",
   "execution_count": null,
   "id": "216ac9f3",
   "metadata": {},
   "outputs": [],
   "source": [
    "# Baixar dados da tabela ST (estabelecimentos) para o Paraná em janeiro de 2023\n",
    "df = download(\"ST\", \"PR\", 2023, 1).to_dataframe()\n",
    "df.head()"
   ]
  },
  {
   "cell_type": "code",
   "execution_count": null,
   "id": "836d8e77",
   "metadata": {},
   "outputs": [],
   "source": [
    "# Analisar os tipos de unidade (TP_UNID)\n",
    "print(df['TP_UNID'].value_counts().head(10))"
   ]
  },
  {
   "cell_type": "code",
   "execution_count": null,
   "id": "688ca65d",
   "metadata": {},
   "outputs": [],
   "source": [
    "# Gráfico dos tipos de unidade mais comuns (TP_UNID)\n",
    "df['TP_UNID'].value_counts().head(10).plot(kind='bar')\n",
    "plt.title('Top 10 tipos de unidade - CNES/ST - Paraná Jan/2023')\n",
    "plt.xlabel('Código do tipo de unidade')\n",
    "plt.ylabel('Quantidade')\n",
    "plt.xticks(rotation=45)\n",
    "plt.tight_layout()\n",
    "plt.show()"
   ]
  }
 ],
 "metadata": {
  "kernelspec": {
   "display_name": "Python 3",
   "language": "python",
   "name": "python3"
  }
 },
 "nbformat": 4,
 "nbformat_minor": 5
}
