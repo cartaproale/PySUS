{
 "cells": [
  {
   "cell_type": "markdown",
   "id": "152109de",
   "metadata": {},
   "source": [
    "# Acesso à Tabela de Referência – CID-10 (Classificação Internacional de Doenças – 10ª Revisão)"
   ]
  },
  {
   "cell_type": "code",
   "execution_count": null,
   "id": "5eec50ac",
   "metadata": {},
   "outputs": [],
   "source": [
    "# Instalar pandas, se necessário\n",
    "!pip install -q pandas\n"
   ]
  },
  {
   "cell_type": "code",
   "execution_count": null,
   "id": "796f9fa3",
   "metadata": {},
   "outputs": [],
   "source": [
    "import pandas as pd\n",
    "\n",
    "# Link direto para o CSV de categorias do CID-10\n",
    "url_cid10 = \"https://github.com/cartaproale/CID10/raw/refs/heads/main/CID-10-CATEGORIAS.CSV\"\n",
    "\n",
    "# Ler o arquivo\n",
    "df_cid10 = pd.read_csv(url_cid10, sep=';', encoding='utf-8-sig')\n",
    "\n",
    "# Padronizar nomes de colunas\n",
    "df_cid10.columns = df_cid10.columns.str.upper()\n",
    "\n",
    "# Renomear colunas principais para padronização\n",
    "df_cid10 = df_cid10.rename(columns={\"CAT\": \"CID10\", \"DESCRICAO\": \"DESCRICAO_CID\"})\n",
    "\n",
    "# Criar dicionário de mapeamento CID10 -> descrição\n",
    "dict_cid10 = dict(zip(df_cid10[\"CID10\"].astype(str), df_cid10[\"DESCRICAO_CID\"]))\n",
    "\n",
    "# Exemplo de uso: mapeando uma tabela de óbitos fictícia\n",
    "df_exemplo = pd.DataFrame({\n",
    "    \"ID\": [1, 2, 3],\n",
    "    \"CAUSABAS\": [\"E149\", \"W708\", \"X708\"]\n",
    "})\n",
    "df_exemplo[\"CAUSABAS_DESC\"] = df_exemplo[\"CAUSABAS\"].map(dict_cid10)\n",
    "\n",
    "df_exemplo\n"
   ]
  }
 ],
 "metadata": {},
 "nbformat": 4,
 "nbformat_minor": 5
}
