{
 "cells": [
  {
   "cell_type": "markdown",
   "id": "25f109d6",
   "metadata": {},
   "source": [
    "# CNES - Tabela PF (Profissionais) - Paraná Jan/2023\n",
    "Este notebook explora os campos da tabela `PF` (Profissionais) da base CNES usando PySUS (AlertaDengue)."
   ]
  },
  {
   "cell_type": "code",
   "execution_count": null,
   "id": "f43a3ad5",
   "metadata": {},
   "outputs": [],
   "source": [
    "!pip install git+https://github.com/AlertaDengue/PySUS.git --upgrade"
   ]
  },
  {
   "cell_type": "code",
   "execution_count": null,
   "id": "57927aa0",
   "metadata": {},
   "outputs": [],
   "source": [
    "import pandas as pd\n",
    "from pysus.online_data.CNES import download\n"
   ]
  },
  {
   "cell_type": "code",
   "execution_count": null,
   "id": "2e99afe9",
   "metadata": {},
   "outputs": [],
   "source": [
    "# Baixar dados da tabela PF (Profissionais) do CNES para o Paraná - Janeiro 2023\n",
    "df = download('PF', 'PR', 2023, 1)\n",
    "df.head()"
   ]
  },
  {
   "cell_type": "code",
   "execution_count": null,
   "id": "1ab0abf3",
   "metadata": {},
   "outputs": [],
   "source": [
    "# Listar nome das colunas, tipo e exemplos\n",
    "for col in df.columns:\n",
    "    print(f'📌 Coluna: {col}')\n",
    "    print(f'Tipo: {df[col].dtype}')\n",
    "    print('Exemplos:', df[col].dropna().unique()[:5])\n",
    "    print()"
   ]
  }
 ],
 "metadata": {
  "kernelspec": {
   "display_name": "Python 3",
   "language": "python",
   "name": "python3"
  }
 },
 "nbformat": 4,
 "nbformat_minor": 5
}
