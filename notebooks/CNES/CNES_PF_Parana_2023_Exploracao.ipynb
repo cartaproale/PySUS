{
 "cells": [
  {
   "cell_type": "markdown",
   "id": "326b75b1",
   "metadata": {},
   "source": [
    "# CNES - Tabela PF (Profissionais) - Paraná Jan/2023\n",
    "Notebook atualizado com conversão correta do ParquetSet para DataFrame usando `.to_dataframe()`."
   ]
  },
  {
   "cell_type": "code",
   "execution_count": null,
   "id": "2da97c49",
   "metadata": {},
   "outputs": [],
   "source": [
    "!pip install git+https://github.com/AlertaDengue/PySUS.git --upgrade"
   ]
  },
  {
   "cell_type": "code",
   "execution_count": null,
   "id": "9a85e72d",
   "metadata": {},
   "outputs": [],
   "source": [
    "import pandas as pd\n",
    "from pysus.online_data.CNES import download"
   ]
  },
  {
   "cell_type": "code",
   "execution_count": null,
   "id": "1aec4860",
   "metadata": {},
   "outputs": [],
   "source": [
    "# Baixar dados da tabela PF (Profissionais) do CNES para o Paraná - Janeiro 2023\n",
    "df = download('PF', 'PR', 2023, 1).to_dataframe()\n",
    "df.head()"
   ]
  },
  {
   "cell_type": "code",
   "execution_count": null,
   "id": "b87dc99d",
   "metadata": {},
   "outputs": [],
   "source": [
    "# Listar nome das colunas, tipo e exemplos\n",
    "for col in df.columns:\n",
    "    print(f'📌 Coluna: {col}')\n",
    "    print(f'Tipo: {df[col].dtype}')\n",
    "    print('Exemplos:', df[col].dropna().unique()[:5])\n",
    "    print()"
   ]
  }
 ],
 "metadata": {
  "kernelspec": {
   "display_name": "Python 3",
   "language": "python",
   "name": "python3"
  }
 },
 "nbformat": 4,
 "nbformat_minor": 5
}
