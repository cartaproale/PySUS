{
 "cells": [
  {
   "cell_type": "markdown",
   "id": "ef31e99b",
   "metadata": {},
   "source": [
    "# CNES - Tabela IN (Incentivos) - Paraná Jan/2023\n",
    "Este notebook explora os campos da tabela `IN` (Incentivos) da base CNES usando PySUS (AlertaDengue)."
   ]
  },
  {
   "cell_type": "code",
   "execution_count": null,
   "id": "d06630bf",
   "metadata": {},
   "outputs": [],
   "source": [
    "!pip install git+https://github.com/AlertaDengue/PySUS.git --upgrade"
   ]
  },
  {
   "cell_type": "code",
   "execution_count": null,
   "id": "96111f67",
   "metadata": {},
   "outputs": [],
   "source": [
    "import pandas as pd\n",
    "from pysus.online_data.CNES import download"
   ]
  },
  {
   "cell_type": "code",
   "execution_count": null,
   "id": "d16f23af",
   "metadata": {},
   "outputs": [],
   "source": [
    "# Baixar dados da tabela IN (Incentivos) do CNES para o Paraná - Janeiro 2023\n",
    "df = download('IN', 'PR', 2023, 1).to_dataframe()\n",
    "df.head()"
   ]
  },
  {
   "cell_type": "code",
   "execution_count": null,
   "id": "baec80b1",
   "metadata": {},
   "outputs": [],
   "source": [
    "# Listar nome das colunas, tipo e exemplos\n",
    "for col in df.columns:\n",
    "    print(f'📌 Coluna: {col}')\n",
    "    print(f'Tipo: {df[col].dtype}')\n",
    "    print('Exemplos:', df[col].dropna().unique()[:5])\n",
    "    print()"
   ]
  }
 ],
 "metadata": {
  "kernelspec": {
   "display_name": "Python 3",
   "language": "python",
   "name": "python3"
  }
 },
 "nbformat": 4,
 "nbformat_minor": 5
}
