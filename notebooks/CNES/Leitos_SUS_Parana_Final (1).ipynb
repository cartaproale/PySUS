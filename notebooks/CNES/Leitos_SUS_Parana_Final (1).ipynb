{
  "cells": [
    {
      "cell_type": "code",
      "source": [
        "# Notebook baseado em: CNES/CNES_LT.ipynb\n",
        "\n",
        "# Passo 1: Instalar o PySUS (executar no Google Colab)\n",
        "!pip install git+https://github.com/AlertaDengue/PySUS.git --upgrade"
      ],
      "metadata": {
        "colab": {
          "base_uri": "https://localhost:8080/"
        },
        "id": "s_dWV0Utpic7",
        "outputId": "49b15cff-d730-42f4-d8da-70b8c0256d85"
      },
      "execution_count": 1,
      "outputs": [
        {
          "output_type": "stream",
          "name": "stdout",
          "text": [
            "Collecting git+https://github.com/AlertaDengue/PySUS.git\n",
            "  Cloning https://github.com/AlertaDengue/PySUS.git to /tmp/pip-req-build-8_qa5w3i\n",
            "  Running command git clone --filter=blob:none --quiet https://github.com/AlertaDengue/PySUS.git /tmp/pip-req-build-8_qa5w3i\n",
            "  Resolved https://github.com/AlertaDengue/PySUS.git to commit 54f7800db4da5171d55e3446d638d64beeb8b149\n",
            "  Installing build dependencies ... \u001b[?25l\u001b[?25hdone\n",
            "  Getting requirements to build wheel ... \u001b[?25l\u001b[?25hdone\n",
            "  Preparing metadata (pyproject.toml) ... \u001b[?25l\u001b[?25hdone\n",
            "Collecting Unidecode<2.0.0,>=1.3.6 (from pysus==0.15.0)\n",
            "  Downloading Unidecode-1.3.8-py3-none-any.whl.metadata (13 kB)\n",
            "Collecting aioftp<0.22.0,>=0.21.4 (from pysus==0.15.0)\n",
            "  Downloading aioftp-0.21.4-py3-none-any.whl.metadata (6.1 kB)\n",
            "Collecting bigtree<0.13.0,>=0.12.2 (from pysus==0.15.0)\n",
            "  Downloading bigtree-0.12.5-py3-none-any.whl.metadata (28 kB)\n",
            "Collecting cffi==1.15.1 (from pysus==0.15.0)\n",
            "  Downloading cffi-1.15.1-cp311-cp311-manylinux_2_17_x86_64.manylinux2014_x86_64.whl.metadata (1.1 kB)\n",
            "Collecting dateparser<2.0.0,>=1.1.8 (from pysus==0.15.0)\n",
            "  Downloading dateparser-1.2.1-py3-none-any.whl.metadata (29 kB)\n",
            "Collecting dbfread==2.0.7 (from pysus==0.15.0)\n",
            "  Downloading dbfread-2.0.7-py2.py3-none-any.whl.metadata (3.3 kB)\n",
            "Collecting elasticsearch==7.16.2 (from elasticsearch[preprocessing]==7.16.2->pysus==0.15.0)\n",
            "  Downloading elasticsearch-7.16.2-py2.py3-none-any.whl.metadata (5.7 kB)\n",
            "Collecting fastparquet>=2023.10.1 (from pysus==0.15.0)\n",
            "  Downloading fastparquet-2024.11.0-cp311-cp311-manylinux_2_17_x86_64.manylinux2014_x86_64.whl.metadata (4.2 kB)\n",
            "Requirement already satisfied: humanize<5.0.0,>=4.8.0 in /usr/local/lib/python3.11/dist-packages (from pysus==0.15.0) (4.12.2)\n",
            "Collecting loguru<0.7.0,>=0.6.0 (from pysus==0.15.0)\n",
            "  Downloading loguru-0.6.0-py3-none-any.whl.metadata (21 kB)\n",
            "Collecting numpy==1.26.2 (from pysus==0.15.0)\n",
            "  Downloading numpy-1.26.2-cp311-cp311-manylinux_2_17_x86_64.manylinux2014_x86_64.whl.metadata (61 kB)\n",
            "\u001b[2K     \u001b[90m━━━━━━━━━━━━━━━━━━━━━━━━━━━━━━━━━━━━━━━━\u001b[0m \u001b[32m61.2/61.2 kB\u001b[0m \u001b[31m2.3 MB/s\u001b[0m eta \u001b[36m0:00:00\u001b[0m\n",
            "\u001b[?25hRequirement already satisfied: pandas<3.0.0,>=2.2.2 in /usr/local/lib/python3.11/dist-packages (from pysus==0.15.0) (2.2.2)\n",
            "Requirement already satisfied: pyarrow>=11.0.0 in /usr/local/lib/python3.11/dist-packages (from pysus==0.15.0) (18.1.0)\n",
            "Collecting pycparser==2.21 (from pysus==0.15.0)\n",
            "  Downloading pycparser-2.21-py2.py3-none-any.whl.metadata (1.1 kB)\n",
            "Collecting pyreaddbc>=1.1.0 (from pysus==0.15.0)\n",
            "  Downloading pyreaddbc-1.2.0.tar.gz (57 kB)\n",
            "\u001b[2K     \u001b[90m━━━━━━━━━━━━━━━━━━━━━━━━━━━━━━━━━━━━━━━━\u001b[0m \u001b[32m57.7/57.7 kB\u001b[0m \u001b[31m3.8 MB/s\u001b[0m eta \u001b[36m0:00:00\u001b[0m\n",
            "\u001b[?25h  Installing build dependencies ... \u001b[?25l\u001b[?25hdone\n",
            "  Getting requirements to build wheel ... \u001b[?25l\u001b[?25hdone\n",
            "  Preparing metadata (pyproject.toml) ... \u001b[?25l\u001b[?25hdone\n",
            "Requirement already satisfied: python-dateutil==2.8.2 in /usr/local/lib/python3.11/dist-packages (from pysus==0.15.0) (2.8.2)\n",
            "Collecting tqdm==4.64.0 (from pysus==0.15.0)\n",
            "  Downloading tqdm-4.64.0-py2.py3-none-any.whl.metadata (57 kB)\n",
            "\u001b[2K     \u001b[90m━━━━━━━━━━━━━━━━━━━━━━━━━━━━━━━━━━━━━━━━\u001b[0m \u001b[32m57.3/57.3 kB\u001b[0m \u001b[31m4.7 MB/s\u001b[0m eta \u001b[36m0:00:00\u001b[0m\n",
            "\u001b[?25hRequirement already satisfied: typing-extensions<5.0.0,>=4.9.0 in /usr/local/lib/python3.11/dist-packages (from pysus==0.15.0) (4.13.2)\n",
            "Collecting urwid<3.0.0,>=2.1.2 (from pysus==0.15.0)\n",
            "  Downloading urwid-2.6.16-py3-none-any.whl.metadata (11 kB)\n",
            "Collecting wget<4.0,>=3.2 (from pysus==0.15.0)\n",
            "  Downloading wget-3.2.zip (10 kB)\n",
            "  Preparing metadata (setup.py) ... \u001b[?25l\u001b[?25hdone\n",
            "Collecting urllib3<2,>=1.21.1 (from elasticsearch==7.16.2->elasticsearch[preprocessing]==7.16.2->pysus==0.15.0)\n",
            "  Downloading urllib3-1.26.20-py2.py3-none-any.whl.metadata (50 kB)\n",
            "\u001b[2K     \u001b[90m━━━━━━━━━━━━━━━━━━━━━━━━━━━━━━━━━━━━━━━━\u001b[0m \u001b[32m50.1/50.1 kB\u001b[0m \u001b[31m4.2 MB/s\u001b[0m eta \u001b[36m0:00:00\u001b[0m\n",
            "\u001b[?25hRequirement already satisfied: certifi in /usr/local/lib/python3.11/dist-packages (from elasticsearch==7.16.2->elasticsearch[preprocessing]==7.16.2->pysus==0.15.0) (2025.1.31)\n",
            "\u001b[33mWARNING: elasticsearch 7.16.2 does not provide the extra 'preprocessing'\u001b[0m\u001b[33m\n",
            "\u001b[0mRequirement already satisfied: six>=1.5 in /usr/local/lib/python3.11/dist-packages (from python-dateutil==2.8.2->pysus==0.15.0) (1.17.0)\n",
            "Requirement already satisfied: pytz>=2024.2 in /usr/local/lib/python3.11/dist-packages (from dateparser<2.0.0,>=1.1.8->pysus==0.15.0) (2025.2)\n",
            "Requirement already satisfied: regex!=2019.02.19,!=2021.8.27,>=2015.06.24 in /usr/local/lib/python3.11/dist-packages (from dateparser<2.0.0,>=1.1.8->pysus==0.15.0) (2024.11.6)\n",
            "Requirement already satisfied: tzlocal>=0.2 in /usr/local/lib/python3.11/dist-packages (from dateparser<2.0.0,>=1.1.8->pysus==0.15.0) (5.3.1)\n",
            "Requirement already satisfied: cramjam>=2.3 in /usr/local/lib/python3.11/dist-packages (from fastparquet>=2023.10.1->pysus==0.15.0) (2.10.0)\n",
            "Requirement already satisfied: fsspec in /usr/local/lib/python3.11/dist-packages (from fastparquet>=2023.10.1->pysus==0.15.0) (2025.3.2)\n",
            "Requirement already satisfied: packaging in /usr/local/lib/python3.11/dist-packages (from fastparquet>=2023.10.1->pysus==0.15.0) (24.2)\n",
            "Requirement already satisfied: tzdata>=2022.7 in /usr/local/lib/python3.11/dist-packages (from pandas<3.0.0,>=2.2.2->pysus==0.15.0) (2025.2)\n",
            "Requirement already satisfied: pyyaml>=6 in /usr/local/lib/python3.11/dist-packages (from pyreaddbc>=1.1.0->pysus==0.15.0) (6.0.2)\n",
            "Requirement already satisfied: wcwidth in /usr/local/lib/python3.11/dist-packages (from urwid<3.0.0,>=2.1.2->pysus==0.15.0) (0.2.13)\n",
            "Downloading cffi-1.15.1-cp311-cp311-manylinux_2_17_x86_64.manylinux2014_x86_64.whl (462 kB)\n",
            "\u001b[2K   \u001b[90m━━━━━━━━━━━━━━━━━━━━━━━━━━━━━━━━━━━━━━━━\u001b[0m \u001b[32m462.6/462.6 kB\u001b[0m \u001b[31m19.3 MB/s\u001b[0m eta \u001b[36m0:00:00\u001b[0m\n",
            "\u001b[?25hDownloading dbfread-2.0.7-py2.py3-none-any.whl (20 kB)\n",
            "Downloading elasticsearch-7.16.2-py2.py3-none-any.whl (385 kB)\n",
            "\u001b[2K   \u001b[90m━━━━━━━━━━━━━━━━━━━━━━━━━━━━━━━━━━━━━━━━\u001b[0m \u001b[32m385.7/385.7 kB\u001b[0m \u001b[31m28.2 MB/s\u001b[0m eta \u001b[36m0:00:00\u001b[0m\n",
            "\u001b[?25hDownloading numpy-1.26.2-cp311-cp311-manylinux_2_17_x86_64.manylinux2014_x86_64.whl (18.2 MB)\n",
            "\u001b[2K   \u001b[90m━━━━━━━━━━━━━━━━━━━━━━━━━━━━━━━━━━━━━━━━\u001b[0m \u001b[32m18.2/18.2 MB\u001b[0m \u001b[31m75.7 MB/s\u001b[0m eta \u001b[36m0:00:00\u001b[0m\n",
            "\u001b[?25hDownloading pycparser-2.21-py2.py3-none-any.whl (118 kB)\n",
            "\u001b[2K   \u001b[90m━━━━━━━━━━━━━━━━━━━━━━━━━━━━━━━━━━━━━━━━\u001b[0m \u001b[32m118.7/118.7 kB\u001b[0m \u001b[31m10.3 MB/s\u001b[0m eta \u001b[36m0:00:00\u001b[0m\n",
            "\u001b[?25hDownloading tqdm-4.64.0-py2.py3-none-any.whl (78 kB)\n",
            "\u001b[2K   \u001b[90m━━━━━━━━━━━━━━━━━━━━━━━━━━━━━━━━━━━━━━━━\u001b[0m \u001b[32m78.4/78.4 kB\u001b[0m \u001b[31m7.1 MB/s\u001b[0m eta \u001b[36m0:00:00\u001b[0m\n",
            "\u001b[?25hDownloading aioftp-0.21.4-py3-none-any.whl (37 kB)\n",
            "Downloading bigtree-0.12.5-py3-none-any.whl (63 kB)\n",
            "\u001b[2K   \u001b[90m━━━━━━━━━━━━━━━━━━━━━━━━━━━━━━━━━━━━━━━━\u001b[0m \u001b[32m63.5/63.5 kB\u001b[0m \u001b[31m5.8 MB/s\u001b[0m eta \u001b[36m0:00:00\u001b[0m\n",
            "\u001b[?25hDownloading dateparser-1.2.1-py3-none-any.whl (295 kB)\n",
            "\u001b[2K   \u001b[90m━━━━━━━━━━━━━━━━━━━━━━━━━━━━━━━━━━━━━━━━\u001b[0m \u001b[32m295.7/295.7 kB\u001b[0m \u001b[31m21.4 MB/s\u001b[0m eta \u001b[36m0:00:00\u001b[0m\n",
            "\u001b[?25hDownloading fastparquet-2024.11.0-cp311-cp311-manylinux_2_17_x86_64.manylinux2014_x86_64.whl (1.8 MB)\n",
            "\u001b[2K   \u001b[90m━━━━━━━━━━━━━━━━━━━━━━━━━━━━━━━━━━━━━━━━\u001b[0m \u001b[32m1.8/1.8 MB\u001b[0m \u001b[31m74.8 MB/s\u001b[0m eta \u001b[36m0:00:00\u001b[0m\n",
            "\u001b[?25hDownloading loguru-0.6.0-py3-none-any.whl (58 kB)\n",
            "\u001b[2K   \u001b[90m━━━━━━━━━━━━━━━━━━━━━━━━━━━━━━━━━━━━━━━━\u001b[0m \u001b[32m58.3/58.3 kB\u001b[0m \u001b[31m4.9 MB/s\u001b[0m eta \u001b[36m0:00:00\u001b[0m\n",
            "\u001b[?25hDownloading Unidecode-1.3.8-py3-none-any.whl (235 kB)\n",
            "\u001b[2K   \u001b[90m━━━━━━━━━━━━━━━━━━━━━━━━━━━━━━━━━━━━━━━━\u001b[0m \u001b[32m235.5/235.5 kB\u001b[0m \u001b[31m18.9 MB/s\u001b[0m eta \u001b[36m0:00:00\u001b[0m\n",
            "\u001b[?25hDownloading urwid-2.6.16-py3-none-any.whl (297 kB)\n",
            "\u001b[2K   \u001b[90m━━━━━━━━━━━━━━━━━━━━━━━━━━━━━━━━━━━━━━━━\u001b[0m \u001b[32m297.2/297.2 kB\u001b[0m \u001b[31m26.0 MB/s\u001b[0m eta \u001b[36m0:00:00\u001b[0m\n",
            "\u001b[?25hDownloading urllib3-1.26.20-py2.py3-none-any.whl (144 kB)\n",
            "\u001b[2K   \u001b[90m━━━━━━━━━━━━━━━━━━━━━━━━━━━━━━━━━━━━━━━━\u001b[0m \u001b[32m144.2/144.2 kB\u001b[0m \u001b[31m12.6 MB/s\u001b[0m eta \u001b[36m0:00:00\u001b[0m\n",
            "\u001b[?25hBuilding wheels for collected packages: pysus, pyreaddbc, wget\n",
            "  Building wheel for pysus (pyproject.toml) ... \u001b[?25l\u001b[?25hdone\n",
            "  Created wheel for pysus: filename=pysus-0.15.0-py3-none-any.whl size=1431969 sha256=2b10d51f699840c30547461f6e05ce1c66be79a2b955e0be4b978ef05f74343c\n",
            "  Stored in directory: /tmp/pip-ephem-wheel-cache-y6xtob_5/wheels/4a/fb/ea/3983ff962905de152393db110b9838e41d11cb62816147630b\n",
            "  Building wheel for pyreaddbc (pyproject.toml) ... \u001b[?25l\u001b[?25hdone\n",
            "  Created wheel for pyreaddbc: filename=pyreaddbc-1.2.0-cp311-cp311-manylinux_2_35_x86_64.whl size=89805 sha256=609860fa576fbe5bcbd734634be8ea0c0dd4b9fd3968cb35dda7946354c61120\n",
            "  Stored in directory: /root/.cache/pip/wheels/1c/24/ff/03c9d6c394a14bf0f14a18333ff9345e8ff1bc3c62b10b399e\n",
            "  Building wheel for wget (setup.py) ... \u001b[?25l\u001b[?25hdone\n",
            "  Created wheel for wget: filename=wget-3.2-py3-none-any.whl size=9655 sha256=918d30042ba7c677ae5ead8ac30f9add4a2f1a6715d32a1fb8bbf9b75e1de0d6\n",
            "  Stored in directory: /root/.cache/pip/wheels/40/b3/0f/a40dbd1c6861731779f62cc4babcb234387e11d697df70ee97\n",
            "Successfully built pysus pyreaddbc wget\n",
            "Installing collected packages: wget, dbfread, urwid, urllib3, Unidecode, tqdm, pycparser, numpy, loguru, bigtree, aioftp, elasticsearch, dateparser, cffi, pyreaddbc, fastparquet, pysus\n",
            "  Attempting uninstall: urllib3\n",
            "    Found existing installation: urllib3 2.3.0\n",
            "    Uninstalling urllib3-2.3.0:\n",
            "      Successfully uninstalled urllib3-2.3.0\n",
            "  Attempting uninstall: tqdm\n",
            "    Found existing installation: tqdm 4.67.1\n",
            "    Uninstalling tqdm-4.67.1:\n",
            "      Successfully uninstalled tqdm-4.67.1\n",
            "  Attempting uninstall: pycparser\n",
            "    Found existing installation: pycparser 2.22\n",
            "    Uninstalling pycparser-2.22:\n",
            "      Successfully uninstalled pycparser-2.22\n",
            "  Attempting uninstall: numpy\n",
            "    Found existing installation: numpy 2.0.2\n",
            "    Uninstalling numpy-2.0.2:\n",
            "      Successfully uninstalled numpy-2.0.2\n",
            "  Attempting uninstall: cffi\n",
            "    Found existing installation: cffi 1.17.1\n",
            "    Uninstalling cffi-1.17.1:\n",
            "      Successfully uninstalled cffi-1.17.1\n",
            "\u001b[31mERROR: pip's dependency resolver does not currently take into account all the packages that are installed. This behaviour is the source of the following dependency conflicts.\n",
            "thinc 8.3.6 requires numpy<3.0.0,>=2.0.0, but you have numpy 1.26.2 which is incompatible.\n",
            "pygit2 1.17.0 requires cffi>=1.17.0, but you have cffi 1.15.1 which is incompatible.\n",
            "dopamine-rl 4.1.2 requires tqdm>=4.64.1, but you have tqdm 4.64.0 which is incompatible.\u001b[0m\u001b[31m\n",
            "\u001b[0mSuccessfully installed Unidecode-1.3.8 aioftp-0.21.4 bigtree-0.12.5 cffi-1.15.1 dateparser-1.2.1 dbfread-2.0.7 elasticsearch-7.16.2 fastparquet-2024.11.0 loguru-0.6.0 numpy-1.26.2 pycparser-2.21 pyreaddbc-1.2.0 pysus-0.15.0 tqdm-4.64.0 urllib3-1.26.20 urwid-2.6.16 wget-3.2\n"
          ]
        }
      ],
      "id": "s_dWV0Utpic7"
    },
    {
      "cell_type": "markdown",
      "source": [
        "# Antes de prosseguir, certifique-se de reiniciar a sessão clicando em\n",
        "# Runtime -> Restart session\n",
        "ou  \n",
        "# Tempo de execução -> Reiniciar sessão"
      ],
      "metadata": {
        "id": "Y9xSP3RSqFyc"
      },
      "id": "Y9xSP3RSqFyc"
    },
    {
      "cell_type": "markdown",
      "source": [],
      "metadata": {
        "id": "S3iOHe3Cqeah"
      },
      "id": "S3iOHe3Cqeah"
    },
    {
      "cell_type": "code",
      "source": [
        "# Passo 2: IMPORTAR bibliotecas\n",
        "from pysus.online_data.CNES import download\n",
        "import pandas as pd"
      ],
      "metadata": {
        "id": "SZ9ToqW8pic9"
      },
      "execution_count": 1,
      "outputs": [],
      "id": "SZ9ToqW8pic9"
    },
    {
      "cell_type": "code",
      "source": [
        "# Passo 3: Baixar os dados de leitos SUS do Paraná (jan/2023)\n",
        "dados = download('LT', 'PR', 2023, 1)\n",
        "df = dados.to_dataframe()\n",
        "\n",
        "# Converter QT_SUS para número\n",
        "df['QT_SUS'] = pd.to_numeric(df['QT_SUS'], errors='coerce')\n",
        "\n",
        "# Agrupar por código do município\n",
        "leitos_por_municipio = df.groupby('CODUFMUN')['QT_SUS'].sum().reset_index()\n",
        "leitos_por_municipio['CODUFMUN'] = leitos_por_municipio['CODUFMUN'].astype(str).str.zfill(6)"
      ],
      "metadata": {
        "colab": {
          "base_uri": "https://localhost:8080/"
        },
        "id": "fUVRgsNOpic9",
        "outputId": "0795e2fa-2fea-46ec-c0d3-9b213ea62250"
      },
      "execution_count": 2,
      "outputs": [
        {
          "output_type": "stream",
          "name": "stderr",
          "text": [
            "LTPR2301.parquet: 100%|██████████| 1.80k/1.80k [00:00<00:00, 6.25kB/s]\n"
          ]
        }
      ],
      "id": "fUVRgsNOpic9"
    },
    {
      "cell_type": "code",
      "source": [
        "# Passo 4: Carregar tabela de municípios atualizada do GitHub\n",
        "url_municipios = \"https://github.com/cartaproale/PySUS/raw/refs/heads/main/notebooks/Tabela_municipios.csv\"\n",
        "municipios = pd.read_csv(url_municipios, sep=';', encoding='latin1')\n",
        "municipios = municipios.iloc[:, [1, 3]]  # Código IBGE + Nome IBGE\n",
        "municipios.columns = ['CODUFMUN', 'municipio_nome']\n",
        "municipios['CODUFMUN'] = municipios['CODUFMUN'].astype(str).str[:6]\n",
        "\n",
        "# Corrigir a acentuação dos nomes de municípios\n",
        "municipios['municipio_nome'] = municipios['municipio_nome'].apply(lambda x: x.encode('latin1').decode('utf-8') if isinstance(x, str) else x)"
      ],
      "metadata": {
        "id": "JGH2H-sSpic9"
      },
      "execution_count": 3,
      "outputs": [],
      "id": "JGH2H-sSpic9"
    },
    {
      "cell_type": "code",
      "source": [
        "# Merge com nomes dos municípios\n",
        "tabela_final = leitos_por_municipio.merge(municipios, on='CODUFMUN', how='left')\n",
        "tabela_final = tabela_final[['CODUFMUN', 'municipio_nome', 'QT_SUS']].sort_values(by='QT_SUS', ascending=False)\n",
        "\n",
        "# Exibir top 10\n",
        "print(\"Top 10 municípios com mais leitos SUS no Paraná (jan/2023):\")\n",
        "print(tabela_final.head(10))"
      ],
      "metadata": {
        "colab": {
          "base_uri": "https://localhost:8080/"
        },
        "id": "V8s7OvJIpic-",
        "outputId": "92ff2f75-d625-4448-cef2-2c472b430796"
      },
      "execution_count": 4,
      "outputs": [
        {
          "output_type": "stream",
          "name": "stdout",
          "text": [
            "Top 10 municípios com mais leitos SUS no Paraná (jan/2023):\n",
            "    CODUFMUN         municipio_nome  QT_SUS\n",
            "57    410690               Curitiba    2959\n",
            "113   411370               Londrina    1406\n",
            "30    410420            Campo Largo    1187\n",
            "124   411520                Maringá    1067\n",
            "37    410480               Cascavel     705\n",
            "231   412810               Umuarama     625\n",
            "163   411990           Ponta Grossa     535\n",
            "159   411950              Piraquara     501\n",
            "29    410400  Campina Grande do Sul     411\n",
            "12    410150              Arapongas     390\n"
          ]
        }
      ],
      "id": "V8s7OvJIpic-"
    },
    {
      "cell_type": "code",
      "source": [
        "# Passo 5: Mostrar leitos SUS em Cascavel (PR)\n",
        "cascavel = tabela_final[tabela_final['CODUFMUN'] == '410480']\n",
        "print(\"\\nLeitos SUS em Cascavel (PR) em jan/2023:\")\n",
        "print(cascavel)"
      ],
      "metadata": {
        "colab": {
          "base_uri": "https://localhost:8080/"
        },
        "id": "eNIPhTG6pic-",
        "outputId": "05174d59-eb16-422b-d0ee-4cc1fd221adf"
      },
      "execution_count": 5,
      "outputs": [
        {
          "output_type": "stream",
          "name": "stdout",
          "text": [
            "\n",
            "Leitos SUS em Cascavel (PR) em jan/2023:\n",
            "   CODUFMUN municipio_nome  QT_SUS\n",
            "37   410480       Cascavel     705\n"
          ]
        }
      ],
      "id": "eNIPhTG6pic-"
    },
    {
      "cell_type": "code",
      "source": [
        "# Passo 6: Calcular total de leitos SUS no estado\n",
        "total_estado = tabela_final['QT_SUS'].sum()\n",
        "print(\"\\nTotal de leitos SUS no Paraná em jan/2023:\", int(total_estado))"
      ],
      "metadata": {
        "colab": {
          "base_uri": "https://localhost:8080/"
        },
        "id": "K4Mgwpz1pic-",
        "outputId": "e0c2fc85-f529-40af-9a19-5b9aecdc179c"
      },
      "execution_count": 6,
      "outputs": [
        {
          "output_type": "stream",
          "name": "stdout",
          "text": [
            "\n",
            "Total de leitos SUS no Paraná em jan/2023: 20721\n"
          ]
        }
      ],
      "id": "K4Mgwpz1pic-"
    }
  ],
  "metadata": {
    "kernelspec": {
      "display_name": "Python 3",
      "language": "python",
      "name": "python3"
    },
    "language_info": {
      "name": "python"
    },
    "colab": {
      "provenance": []
    }
  },
  "nbformat": 4,
  "nbformat_minor": 5
}