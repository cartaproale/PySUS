{
 "cells": [
  {
   "cell_type": "code",
   "execution_count": null,
   "id": "cb912526",
   "metadata": {},
   "outputs": [],
   "source": [
    "!pip install git+https://github.com/AlertaDengue/PySUS.git --upgrade"
   ]
  },
  {
   "cell_type": "code",
   "execution_count": null,
   "id": "7f5d906e",
   "metadata": {},
   "outputs": [],
   "source": [
    "import pandas as pd\n",
    "from pysus.online_data.CNES import download"
   ]
  },
  {
   "cell_type": "code",
   "execution_count": null,
   "id": "27c74814",
   "metadata": {},
   "outputs": [],
   "source": [
    "# Baixar dados da tabela PF (Profissionais) do CNES para o Paraná - Janeiro 2023\n",
    "df = download('PF', 'PR', 2023, 1).to_dataframe()\n",
    "df.head()"
   ]
  },
  {
   "cell_type": "code",
   "execution_count": null,
   "id": "257b532f",
   "metadata": {},
   "outputs": [],
   "source": [
    "\n",
    "# Conversão segura - numéricas\n",
    "colunas_numericas = ['QT_SUS', 'QT_NSUS', 'QT_EXIST', 'QT_CONTR']\n",
    "for col in colunas_numericas:\n",
    "    if col in df.columns:\n",
    "        df[col] = pd.to_numeric(df[col], errors='coerce').fillna(0).astype(int)\n",
    "\n",
    "# Conversão segura - categóricas\n",
    "colunas_categoricas = ['TP_UNID', 'TP_LEITO', 'CODLEITO']\n",
    "for col in colunas_categoricas:\n",
    "    if col in df.columns:\n",
    "        df[col] = df[col].astype(str).str.zfill(2)\n",
    "\n",
    "# Exibir novamente dtypes e head\n",
    "print(df.dtypes)\n",
    "print(df.head())\n"
   ]
  },
  {
   "cell_type": "code",
   "execution_count": null,
   "id": "d890e417",
   "metadata": {},
   "outputs": [],
   "source": [
    "# Listar nome das colunas, tipo e exemplos\n",
    "for col in df.columns:\n",
    "    print(f'📌 Coluna: {col}')\n",
    "    print(f'Tipo: {df[col].dtype}')\n",
    "    print('Exemplos:', df[col].dropna().unique()[:5])\n",
    "    print()"
   ]
  }
 ],
 "metadata": {},
 "nbformat": 4,
 "nbformat_minor": 5
}
