{
 "cells": [
  {
   "cell_type": "markdown",
   "id": "92d32d06",
   "metadata": {},
   "source": [
    "# CNES - Tabela SR (Serviços) - Paraná Jan/2023\n",
    "Notebook atualizado com conversão correta do ParquetSet para DataFrame usando `.to_dataframe()`."
   ]
  },
  {
   "cell_type": "code",
   "execution_count": null,
   "id": "30c22e6d",
   "metadata": {},
   "outputs": [],
   "source": [
    "!pip install git+https://github.com/AlertaDengue/PySUS.git --upgrade"
   ]
  },
  {
   "cell_type": "code",
   "execution_count": null,
   "id": "14b77950",
   "metadata": {},
   "outputs": [],
   "source": [
    "import pandas as pd\n",
    "from pysus.online_data.CNES import download"
   ]
  },
  {
   "cell_type": "code",
   "execution_count": null,
   "id": "482a3159",
   "metadata": {},
   "outputs": [],
   "source": [
    "# Baixar dados da tabela SR (Serviços) do CNES para o Paraná - Janeiro 2023\n",
    "df = download('SR', 'PR', 2023, 1).to_dataframe()\n",
    "df.head()"
   ]
  },
  {
   "cell_type": "code",
   "execution_count": null,
   "id": "34e01a0b",
   "metadata": {},
   "outputs": [],
   "source": [
    "# Listar nome das colunas, tipo e exemplos\n",
    "for col in df.columns:\n",
    "    print(f'📌 Coluna: {col}')\n",
    "    print(f'Tipo: {df[col].dtype}')\n",
    "    print('Exemplos:', df[col].dropna().unique()[:5])\n",
    "    print()"
   ]
  }
 ],
 "metadata": {
  "kernelspec": {
   "display_name": "Python 3",
   "language": "python",
   "name": "python3"
  }
 },
 "nbformat": 4,
 "nbformat_minor": 5
}
