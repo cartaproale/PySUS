{
 "cells": [
  {
   "cell_type": "markdown",
   "id": "c8db1e2a",
   "metadata": {},
   "source": [
    "# CNES - Tabela HB (Habilitações) - Paraná Jan/2023\n",
    "Notebook atualizado com conversão correta do ParquetSet para DataFrame usando `.to_dataframe()`."
   ]
  },
  {
   "cell_type": "code",
   "execution_count": null,
   "id": "61970618",
   "metadata": {},
   "outputs": [],
   "source": [
    "!pip install git+https://github.com/AlertaDengue/PySUS.git --upgrade"
   ]
  },
  {
   "cell_type": "code",
   "execution_count": null,
   "id": "3c311fa9",
   "metadata": {},
   "outputs": [],
   "source": [
    "import pandas as pd\n",
    "from pysus.online_data.CNES import download"
   ]
  },
  {
   "cell_type": "code",
   "execution_count": null,
   "id": "e78b7240",
   "metadata": {},
   "outputs": [],
   "source": [
    "# Baixar dados da tabela HB (Habilitações) do CNES para o Paraná - Janeiro 2023\n",
    "df = download('HB', 'PR', 2023, 1).to_dataframe()\n",
    "df.head()"
   ]
  },
  {
   "cell_type": "code",
   "execution_count": null,
   "id": "3cb620c7",
   "metadata": {},
   "outputs": [],
   "source": [
    "# Listar nome das colunas, tipo e exemplos\n",
    "for col in df.columns:\n",
    "    print(f'📌 Coluna: {col}')\n",
    "    print(f'Tipo: {df[col].dtype}')\n",
    "    print('Exemplos:', df[col].dropna().unique()[:5])\n",
    "    print()"
   ]
  }
 ],
 "metadata": {
  "kernelspec": {
   "display_name": "Python 3",
   "language": "python",
   "name": "python3"
  }
 },
 "nbformat": 4,
 "nbformat_minor": 5
}
