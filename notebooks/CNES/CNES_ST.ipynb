{
 "cells": [
  {
   "cell_type": "code",
   "execution_count": null,
   "id": "cd0a095c",
   "metadata": {},
   "outputs": [],
   "source": [
    "!pip install git+https://github.com/AlertaDengue/PySUS.git --upgrade"
   ]
  },
  {
   "cell_type": "code",
   "execution_count": null,
   "id": "ec93a8ce",
   "metadata": {},
   "outputs": [],
   "source": [
    "import pandas as pd\n",
    "import matplotlib.pyplot as plt\n",
    "from pysus.online_data.CNES import download"
   ]
  },
  {
   "cell_type": "code",
   "execution_count": null,
   "id": "c6b1c392",
   "metadata": {},
   "outputs": [],
   "source": [
    "# Baixar dados da tabela ST (estabelecimentos) para o Paraná em janeiro de 2023\n",
    "df = download(\"ST\", \"PR\", 2023, 1).to_dataframe()\n",
    "df.head()"
   ]
  },
  {
   "cell_type": "code",
   "execution_count": null,
   "id": "df2c1acf",
   "metadata": {},
   "outputs": [],
   "source": [
    "\n",
    "# Conversão segura - numéricas\n",
    "colunas_numericas = ['QT_SUS', 'QT_NSUS', 'QT_EXIST', 'QT_CONTR']\n",
    "for col in colunas_numericas:\n",
    "    if col in df.columns:\n",
    "        df[col] = pd.to_numeric(df[col], errors='coerce').fillna(0).astype(int)\n",
    "\n",
    "# Conversão segura - categóricas\n",
    "colunas_categoricas = ['TP_UNID', 'TP_LEITO', 'CODLEITO']\n",
    "for col in colunas_categoricas:\n",
    "    if col in df.columns:\n",
    "        df[col] = df[col].astype(str).str.zfill(2)\n",
    "\n",
    "# Exibir novamente dtypes e head\n",
    "print(df.dtypes)\n",
    "print(df.head())\n"
   ]
  },
  {
   "cell_type": "code",
   "execution_count": null,
   "id": "4591d445",
   "metadata": {},
   "outputs": [],
   "source": [
    "# Analisar os tipos de unidade (TP_UNID)\n",
    "print(df['TP_UNID'].value_counts().head(10))"
   ]
  },
  {
   "cell_type": "code",
   "execution_count": null,
   "id": "0a7d1fdd",
   "metadata": {},
   "outputs": [],
   "source": [
    "# Gráfico dos tipos de unidade mais comuns (TP_UNID)\n",
    "df['TP_UNID'].value_counts().head(10).plot(kind='bar')\n",
    "plt.title('Top 10 tipos de unidade - CNES/ST - Paraná Jan/2023')\n",
    "plt.xlabel('Código do tipo de unidade')\n",
    "plt.ylabel('Quantidade')\n",
    "plt.xticks(rotation=45)\n",
    "plt.tight_layout()\n",
    "plt.show()"
   ]
  }
 ],
 "metadata": {},
 "nbformat": 4,
 "nbformat_minor": 5
}
