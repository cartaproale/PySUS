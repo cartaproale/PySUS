{
 "cells": [
  {
   "cell_type": "code",
   "execution_count": null,
   "id": "a4f166b8",
   "metadata": {},
   "outputs": [],
   "source": [
    "!pip install git+https://github.com/AlertaDengue/PySUS.git --upgrade"
   ]
  },
  {
   "cell_type": "code",
   "execution_count": null,
   "id": "37c7998a",
   "metadata": {},
   "outputs": [],
   "source": [
    "import pandas as pd\n",
    "from pysus.online_data.CNES import download"
   ]
  },
  {
   "cell_type": "code",
   "execution_count": null,
   "id": "7872d91f",
   "metadata": {},
   "outputs": [],
   "source": [
    "dados = download('LT', 'PR', 2023, 1)\n",
    "df = dados.to_dataframe()"
   ]
  },
  {
   "cell_type": "code",
   "execution_count": null,
   "id": "e63beef5",
   "metadata": {},
   "outputs": [],
   "source": [
    "\n",
    "# Conversão segura - numéricas\n",
    "colunas_numericas = ['QT_SUS', 'QT_NSUS', 'QT_EXIST', 'QT_CONTR']\n",
    "for col in colunas_numericas:\n",
    "    if col in df.columns:\n",
    "        df[col] = pd.to_numeric(df[col], errors='coerce').fillna(0).astype(int)\n",
    "\n",
    "# Conversão segura - categóricas\n",
    "colunas_categoricas = ['TP_UNID', 'TP_LEITO', 'CODLEITO']\n",
    "for col in colunas_categoricas:\n",
    "    if col in df.columns:\n",
    "        df[col] = df[col].astype(str).str.zfill(2)\n",
    "\n",
    "# Exibir novamente dtypes e head\n",
    "print(df.dtypes)\n",
    "print(df.head())\n"
   ]
  },
  {
   "cell_type": "code",
   "execution_count": null,
   "id": "702d0c44",
   "metadata": {},
   "outputs": [],
   "source": [
    "df.head()"
   ]
  },
  {
   "cell_type": "code",
   "execution_count": null,
   "id": "dbc7eb18",
   "metadata": {},
   "outputs": [],
   "source": [
    "df.dtypes"
   ]
  },
  {
   "cell_type": "code",
   "execution_count": null,
   "id": "419bb3fd",
   "metadata": {},
   "outputs": [],
   "source": [
    "for col in df.columns:\n",
    "    print(f\"📌 Coluna: {col}\\nTipo: {df[col].dtype}\\nExemplos: {df[col].dropna().astype(str).unique()[:5]}\\n\")"
   ]
  }
 ],
 "metadata": {},
 "nbformat": 4,
 "nbformat_minor": 5
}
