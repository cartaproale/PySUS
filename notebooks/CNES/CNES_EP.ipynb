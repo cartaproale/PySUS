{
 "cells": [
  {
   "cell_type": "markdown",
   "id": "477e4ac6",
   "metadata": {},
   "source": [
    "# CNES - Tabela EP (Estabelecimento por Procedimento) - Paraná Jan/2023\n",
    "Este notebook explora os campos da tabela `EP` (Estabelecimento por Procedimento) da base CNES usando PySUS (AlertaDengue)."
   ]
  },
  {
   "cell_type": "code",
   "execution_count": null,
   "id": "166b37bc",
   "metadata": {},
   "outputs": [],
   "source": [
    "!pip install git+https://github.com/AlertaDengue/PySUS.git --upgrade"
   ]
  },
  {
   "cell_type": "code",
   "execution_count": null,
   "id": "0b9f69b8",
   "metadata": {},
   "outputs": [],
   "source": [
    "import pandas as pd\n",
    "from pysus.online_data.CNES import download"
   ]
  },
  {
   "cell_type": "code",
   "execution_count": null,
   "id": "6639b8b8",
   "metadata": {},
   "outputs": [],
   "source": [
    "# Baixar dados da tabela EP (Estabelecimento por Procedimento) do CNES para o Paraná - Janeiro 2023\n",
    "df = download('EP', 'PR', 2023, 1).to_dataframe()\n",
    "df.head()"
   ]
  },
  {
   "cell_type": "code",
   "execution_count": null,
   "id": "b487b001",
   "metadata": {},
   "outputs": [],
   "source": [
    "# Listar nome das colunas, tipo e exemplos\n",
    "for col in df.columns:\n",
    "    print(f'📌 Coluna: {col}')\n",
    "    print(f'Tipo: {df[col].dtype}')\n",
    "    print('Exemplos:', df[col].dropna().unique()[:5])\n",
    "    print()"
   ]
  }
 ],
 "metadata": {
  "kernelspec": {
   "display_name": "Python 3",
   "language": "python",
   "name": "python3"
  }
 },
 "nbformat": 4,
 "nbformat_minor": 5
}
