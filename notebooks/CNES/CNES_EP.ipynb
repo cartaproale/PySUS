{
 "cells": [
  {
   "cell_type": "code",
   "execution_count": null,
   "id": "eb38016f",
   "metadata": {},
   "outputs": [],
   "source": [
    "!pip install git+https://github.com/AlertaDengue/PySUS.git --upgrade"
   ]
  },
  {
   "cell_type": "code",
   "execution_count": null,
   "id": "505a05fd",
   "metadata": {},
   "outputs": [],
   "source": [
    "import pandas as pd\n",
    "from pysus.online_data.CNES import download"
   ]
  },
  {
   "cell_type": "code",
   "execution_count": null,
   "id": "849bc726",
   "metadata": {},
   "outputs": [],
   "source": [
    "# Baixar dados da tabela EP (Estabelecimento por Procedimento) do CNES para o Paraná - Janeiro 2023\n",
    "df = download('EP', 'PR', 2023, 1).to_dataframe()\n",
    "df.head()"
   ]
  },
  {
   "cell_type": "code",
   "execution_count": null,
   "id": "895b50a8",
   "metadata": {},
   "outputs": [],
   "source": [
    "\n",
    "# Conversão segura - numéricas\n",
    "colunas_numericas = ['QT_SUS', 'QT_NSUS', 'QT_EXIST', 'QT_CONTR']\n",
    "for col in colunas_numericas:\n",
    "    if col in df.columns:\n",
    "        df[col] = pd.to_numeric(df[col], errors='coerce').fillna(0).astype(int)\n",
    "\n",
    "# Conversão segura - categóricas\n",
    "colunas_categoricas = ['TP_UNID', 'TP_LEITO', 'CODLEITO']\n",
    "for col in colunas_categoricas:\n",
    "    if col in df.columns:\n",
    "        df[col] = df[col].astype(str).str.zfill(2)\n",
    "\n",
    "# Exibir novamente dtypes e head\n",
    "print(df.dtypes)\n",
    "print(df.head())\n"
   ]
  },
  {
   "cell_type": "code",
   "execution_count": null,
   "id": "0aa47e3e",
   "metadata": {},
   "outputs": [],
   "source": [
    "# Listar nome das colunas, tipo e exemplos\n",
    "for col in df.columns:\n",
    "    print(f'📌 Coluna: {col}')\n",
    "    print(f'Tipo: {df[col].dtype}')\n",
    "    print('Exemplos:', df[col].dropna().unique()[:5])\n",
    "    print()"
   ]
  }
 ],
 "metadata": {},
 "nbformat": 4,
 "nbformat_minor": 5
}
