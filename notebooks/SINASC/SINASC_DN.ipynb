{
 "cells": [
  {
   "cell_type": "markdown",
   "id": "e27a3344",
   "metadata": {},
   "source": [
    "# SINASC - Nascidos Vivos (DN) - Paraná 2022\n",
    "Notebook validado com PySUS (AlertaDengue), grupo DN."
   ]
  },
  {
   "cell_type": "code",
   "execution_count": null,
   "id": "8f927c70",
   "metadata": {},
   "outputs": [],
   "source": [
    "!pip install git+https://github.com/AlertaDengue/PySUS.git --upgrade"
   ]
  },
  {
   "cell_type": "code",
   "execution_count": null,
   "id": "965c0a8f",
   "metadata": {},
   "outputs": [],
   "source": [
    "import pandas as pd\n",
    "import matplotlib.pyplot as plt\n",
    "from pysus.online_data.SINASC import download"
   ]
  },
  {
   "cell_type": "code",
   "execution_count": null,
   "id": "123d7168",
   "metadata": {},
   "outputs": [],
   "source": [
    "# Baixar dados de nascidos vivos (grupo DN) para o Paraná em 2022\n",
    "df = download(states=[\"PR\"], years=[2022], groups=[\"DN\"]).to_dataframe()\n",
    "df.head()"
   ]
  },
  {
   "cell_type": "code",
   "execution_count": null,
   "id": "6c396b1d",
   "metadata": {},
   "outputs": [],
   "source": [
    "# Verificar colunas e exibir os municípios com maior número de nascimentos\n",
    "print(df.columns.tolist())\n",
    "df['CODMUNNASC'].value_counts().head(10)"
   ]
  },
  {
   "cell_type": "code",
   "execution_count": null,
   "id": "1d967557",
   "metadata": {},
   "outputs": [],
   "source": [
    "# Gráfico de nascimentos por município\n",
    "top_municipios = df['CODMUNNASC'].value_counts().head(10)\n",
    "top_municipios.plot(kind='bar')\n",
    "plt.title('Top 10 municípios com mais nascimentos - PR 2022')\n",
    "plt.xlabel('Código do município de nascimento')\n",
    "plt.ylabel('Número de nascimentos')\n",
    "plt.xticks(rotation=45)\n",
    "plt.tight_layout()\n",
    "plt.show()"
   ]
  }
 ],
 "metadata": {
  "kernelspec": {
   "display_name": "Python 3",
   "language": "python",
   "name": "python3"
  }
 },
 "nbformat": 4,
 "nbformat_minor": 5
}
