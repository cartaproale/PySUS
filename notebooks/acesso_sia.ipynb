{
 "cells": [
  {
   "cell_type": "markdown",
   "id": "b1400206",
   "metadata": {},
   "source": [
    "# Acesso à base SIA – Tipo PA (Produção Ambulatorial)"
   ]
  },
  {
   "cell_type": "code",
   "execution_count": null,
   "id": "889f9d1e",
   "metadata": {},
   "outputs": [],
   "source": [
    "!pip install git+https://github.com/AlertaDengue/PySUS.git --upgrade\n",
    "\n",
    "# Após a instalação, reinicie o ambiente do Colab antes de prosseguir\n"
   ]
  },
  {
   "cell_type": "code",
   "execution_count": null,
   "id": "d1b1e505",
   "metadata": {},
   "outputs": [],
   "source": [
    "from pysus.online_data.SIA import download as download_sia\n",
    "\n",
    "# Baixar os dados do SIA para o Paraná, ano 2023, mês 1, tipo PA\n",
    "df_sia = download_sia(\"PR\", 2023, 1, \"PA\").to_dataframe()\n",
    "\n",
    "# Visualizar as primeiras linhas\n",
    "df_sia.head()\n"
   ]
  },
  {
   "cell_type": "markdown",
   "id": "77876c12",
   "metadata": {},
   "source": [
    "Você pode adaptar os parâmetros `estado`, `ano`, `mês` e `tipo` conforme necessário."
   ]
  }
 ],
 "metadata": {},
 "nbformat": 4,
 "nbformat_minor": 5
}
