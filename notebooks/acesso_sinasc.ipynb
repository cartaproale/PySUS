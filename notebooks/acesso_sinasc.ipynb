{
 "cells": [
  {
   "cell_type": "markdown",
   "id": "e62caf6d",
   "metadata": {},
   "source": [
    "# Acesso à base SINASC – Grupo DN (Declaração de Nascido Vivo)"
   ]
  },
  {
   "cell_type": "code",
   "execution_count": null,
   "id": "25857506",
   "metadata": {},
   "outputs": [],
   "source": [
    "!pip install git+https://github.com/AlertaDengue/PySUS.git --upgrade\n",
    "\n",
    "# Após a instalação, reinicie o ambiente do Colab antes de prosseguir\n"
   ]
  },
  {
   "cell_type": "code",
   "execution_count": null,
   "id": "c013f98f",
   "metadata": {},
   "outputs": [],
   "source": [
    "from pysus.online_data.SINASC import download as download_sinasc\n",
    "\n",
    "# Baixar os dados do SINASC para o Paraná, ano 2022, grupo DN\n",
    "df_sinasc = download_sinasc(groups=\"DN\", states=[\"PR\"], years=[2022]).to_dataframe()\n",
    "\n",
    "# Visualizar as primeiras linhas\n",
    "df_sinasc.head()\n"
   ]
  },
  {
   "cell_type": "markdown",
   "id": "d98b0b5e",
   "metadata": {},
   "source": [
    "Você pode adaptar os parâmetros `groups`, `states`, `years` conforme necessário."
   ]
  }
 ],
 "metadata": {},
 "nbformat": 4,
 "nbformat_minor": 5
}
