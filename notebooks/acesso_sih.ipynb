{
 "cells": [
  {
   "cell_type": "markdown",
   "id": "268441d8",
   "metadata": {},
   "source": [
    "# Acesso à base SIH (Sistema de Informações Hospitalares) – Tipo RD"
   ]
  },
  {
   "cell_type": "code",
   "execution_count": null,
   "id": "26a457fc",
   "metadata": {},
   "outputs": [],
   "source": [
    "!pip install git+https://github.com/AlertaDengue/PySUS.git --upgrade\n",
    "\n",
    "# Após a instalação, reinicie o ambiente do Colab antes de prosseguir\n"
   ]
  },
  {
   "cell_type": "code",
   "execution_count": null,
   "id": "cab23e37",
   "metadata": {},
   "outputs": [],
   "source": [
    "from pysus.online_data.SIH import download as download_sih\n",
    "\n",
    "# Baixar os dados do SIH para o estado do Paraná, ano 2023, mês 1, tipo RD (Resumo de Internação)\n",
    "df_sih = download_sih(\"PR\", 2023, 1, \"RD\").to_dataframe()\n",
    "\n",
    "# Visualizar as primeiras linhas\n",
    "df_sih.head()\n"
   ]
  },
  {
   "cell_type": "markdown",
   "id": "8b5387bc",
   "metadata": {},
   "source": [
    "Você pode adaptar os parâmetros `estado`, `ano`, `mês` e `tipo`. Para ver os grupos disponíveis, use:"
   ]
  },
  {
   "cell_type": "code",
   "execution_count": null,
   "id": "9ad9c4fd",
   "metadata": {},
   "outputs": [],
   "source": [
    "from pysus.ftp.databases.sih import SIH\n",
    "print(\"Grupos disponíveis:\", list(SIH().groups.keys()))\n"
   ]
  }
 ],
 "metadata": {},
 "nbformat": 4,
 "nbformat_minor": 5
}
