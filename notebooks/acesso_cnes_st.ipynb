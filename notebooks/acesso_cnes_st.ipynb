{
 "cells": [
  {
   "cell_type": "markdown",
   "id": "e91de0ff",
   "metadata": {},
   "source": [
    "# Acesso à base CNES – Tabela ST (Estabelecimentos de Saúde)"
   ]
  },
  {
   "cell_type": "code",
   "execution_count": null,
   "id": "09c0ccb9",
   "metadata": {},
   "outputs": [],
   "source": [
    "!pip install git+https://github.com/AlertaDengue/PySUS.git --upgrade\n",
    "\n",
    "# Após a instalação, reinicie o ambiente do Colab antes de prosseguir\n"
   ]
  },
  {
   "cell_type": "code",
   "execution_count": null,
   "id": "2782d1f7",
   "metadata": {},
   "outputs": [],
   "source": [
    "from pysus.online_data.CNES import download as download_cnes\n",
    "\n",
    "# Baixar os dados da Tabela ST (Estabelecimentos) do CNES para o Paraná, ano 2023, mês 1\n",
    "df_cnes_st = download_cnes(\"ST\", states=[\"PR\"], years=[2023], months=[1]).to_dataframe()\n",
    "\n",
    "# Visualizar as primeiras linhas\n",
    "df_cnes_st.head()\n"
   ]
  },
  {
   "cell_type": "markdown",
   "id": "31049dcc",
   "metadata": {},
   "source": [
    "Para outras tabelas CNES disponíveis, use:"
   ]
  },
  {
   "cell_type": "code",
   "execution_count": null,
   "id": "054aaad0",
   "metadata": {},
   "outputs": [],
   "source": [
    "from pysus.ftp.databases.cnes import CNES\n",
    "cnes = CNES()\n",
    "print(\"Tabelas disponíveis no CNES:\", cnes.tables)\n"
   ]
  }
 ],
 "metadata": {},
 "nbformat": 4,
 "nbformat_minor": 5
}
