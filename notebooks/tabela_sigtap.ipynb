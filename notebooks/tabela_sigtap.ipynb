{
 "cells": [
  {
   "cell_type": "markdown",
   "id": "02022e83",
   "metadata": {},
   "source": [
    "# Acesso à Tabela de Referência – Procedimentos SUS (SIGTAP)"
   ]
  },
  {
   "cell_type": "code",
   "execution_count": null,
   "id": "b6caa31c",
   "metadata": {},
   "outputs": [],
   "source": [
    "# Instalar pandas, se necessário\n",
    "!pip install -q pandas\n"
   ]
  },
  {
   "cell_type": "code",
   "execution_count": null,
   "id": "efd7992c",
   "metadata": {},
   "outputs": [],
   "source": [
    "import pandas as pd\n",
    "\n",
    "# Link para o arquivo CSV de procedimentos\n",
    "url = \"https://raw.githubusercontent.com/rdsilva/SIGTAP/master/tabelas/tb_procedimento.csv\"\n",
    "\n",
    "# Leitura do arquivo com codificação adequada\n",
    "df_procedimentos = pd.read_csv(url, sep=';', encoding='utf-8-sig')\n",
    "\n",
    "# Exibir as primeiras colunas\n",
    "df_procedimentos.columns\n"
   ]
  },
  {
   "cell_type": "code",
   "execution_count": null,
   "id": "bff00598",
   "metadata": {},
   "outputs": [],
   "source": [
    "# Exemplo: criar dicionário de código -> descrição\n",
    "df_procedimentos = df_procedimentos.rename(columns={\"co_procedimento\": \"CODIGO\", \"no_procedimento\": \"DESCRICAO\"})\n",
    "dict_proced = dict(zip(df_procedimentos[\"CODIGO\"].astype(str), df_procedimentos[\"DESCRICAO\"]))\n",
    "\n",
    "# Exemplo de uso: tabela simulada de produção ambulatorial\n",
    "df_exemplo = pd.DataFrame({\n",
    "    \"PA_PROC_ID\": [\"0302050027\", \"0301070075\", \"0301070075\"]\n",
    "})\n",
    "df_exemplo[\"PROCED_DESC\"] = df_exemplo[\"PA_PROC_ID\"].map(dict_proced)\n",
    "\n",
    "df_exemplo\n"
   ]
  }
 ],
 "metadata": {},
 "nbformat": 4,
 "nbformat_minor": 5
}
