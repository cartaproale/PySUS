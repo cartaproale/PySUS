{
 "cells": [
  {
   "cell_type": "markdown",
   "id": "786e7751",
   "metadata": {},
   "source": [
    "# SIM - Declaração de Óbito (CID10) - Paraná 2022\n",
    "Notebook validado e compatível com PySUS do AlertaDengue."
   ]
  },
  {
   "cell_type": "code",
   "execution_count": null,
   "id": "f58ee332",
   "metadata": {},
   "outputs": [],
   "source": [
    "!pip install git+https://github.com/AlertaDengue/PySUS.git --upgrade\n",
    "# ⚠️ Após executar a célula acima, reinicie a sessão do Google Colab:\n",
    "# Em português: Vá em 'Tempo de execução' > 'Reiniciar sessão'\n",
    "# Em inglês: Vá em 'Runtime' > 'Restart session'"
   ]
  },
  {
   "cell_type": "code",
   "execution_count": null,
   "id": "642cc3d4",
   "metadata": {},
   "outputs": [],
   "source": [
    "import pandas as pd\n",
    "import matplotlib.pyplot as plt\n",
    "from pysus.online_data.SIM import download"
   ]
  },
  {
   "cell_type": "code",
   "execution_count": null,
   "id": "1f7e02a4",
   "metadata": {},
   "outputs": [],
   "source": [
    "# Baixar dados de óbitos (grupo CID10) do Paraná em 2022\n",
    "df = download(states=[\"PR\"], years=[2022], groups=[\"CID10\"]).to_dataframe()\n",
    "df.head()"
   ]
  },
  {
   "cell_type": "code",
   "execution_count": null,
   "id": "f3c0aeb8",
   "metadata": {},
   "outputs": [],
   "source": [
    "# Top 10 CIDs de causa básica de óbito\n",
    "top_cids = df['CAUSABAS'].value_counts().head(10)\n",
    "print(top_cids)"
   ]
  },
  {
   "cell_type": "code",
   "execution_count": null,
   "id": "9f3fc006",
   "metadata": {},
   "outputs": [],
   "source": [
    "# Gráfico de barras com os principais CIDs\n",
    "top_cids.plot(kind='bar')\n",
    "plt.title('Top 10 causas básicas de óbito - Paraná (2022)')\n",
    "plt.xlabel('CID-10')\n",
    "plt.ylabel('Número de óbitos')\n",
    "plt.xticks(rotation=45)\n",
    "plt.tight_layout()\n",
    "plt.show()"
   ]
  }
 ],
 "metadata": {
  "kernelspec": {
   "display_name": "Python 3",
   "language": "python",
   "name": "python3"
  }
 },
 "nbformat": 4,
 "nbformat_minor": 5
}
