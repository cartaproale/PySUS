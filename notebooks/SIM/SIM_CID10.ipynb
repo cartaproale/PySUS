{
  "cells": [
    {
      "cell_type": "markdown",
      "id": "786e7751",
      "metadata": {
        "id": "786e7751"
      },
      "source": [
        "# SIM - Declaração de Óbito (CID10) - Paraná 2022\n",
        "Notebook validado e compatível com PySUS do AlertaDengue."
      ]
    },
    {
      "cell_type": "code",
      "execution_count": null,
      "id": "f58ee332",
      "metadata": {
        "collapsed": true,
        "id": "f58ee332"
      },
      "outputs": [],
      "source": [
        "!pip install git+https://github.com/AlertaDengue/PySUS.git --upgrade\n",
        "# ⚠️ Após executar esta célula, reinicie a sessão do Google Colab dessa forma (Usando a interface do Google Colab):\n",
        "# Em português: Vá em 'Tempo de execução' > 'Reiniciar sessão'\n",
        "# Em inglês: Vá em 'Runtime' > 'Restart session'"
      ]
    },
    {
      "cell_type": "code",
      "execution_count": 1,
      "id": "642cc3d4",
      "metadata": {
        "id": "642cc3d4"
      },
      "outputs": [],
      "source": [
        "# ⚠️ Após executar a célula acima, reinicie a sessão do Google Colab:\n",
        "# Em português: Vá em 'Tempo de execução' > 'Reiniciar sessão'\n",
        "# Em inglês: Vá em 'Runtime' > 'Restart session'\n",
        "import pandas as pd\n",
        "import matplotlib.pyplot as plt\n",
        "from pysus.online_data.SIM import download"
      ]
    },
    {
      "cell_type": "code",
      "execution_count": null,
      "id": "1f7e02a4",
      "metadata": {
        "collapsed": true,
        "id": "1f7e02a4"
      },
      "outputs": [],
      "source": [
        "# Baixar dados de óbitos (grupo CID10) do Paraná em 2022\n",
        "df = download(states=[\"PR\"], years=[2022], groups=[\"CID10\"]).to_dataframe()\n",
        "df.head()"
      ]
    },
    {
      "cell_type": "code",
      "execution_count": null,
      "id": "f3c0aeb8",
      "metadata": {
        "collapsed": true,
        "id": "f3c0aeb8"
      },
      "outputs": [],
      "source": [
        "# Top 10 CIDs de causa básica de óbito\n",
        "top_cids = df['CAUSABAS'].value_counts().head(10)\n",
        "print(top_cids)"
      ]
    },
    {
      "cell_type": "code",
      "execution_count": null,
      "id": "9f3fc006",
      "metadata": {
        "id": "9f3fc006"
      },
      "outputs": [],
      "source": [
        "# Gráfico de barras com os principais CIDs\n",
        "top_cids.plot(kind='bar')\n",
        "plt.title('Top 10 causas básicas de óbito - Paraná (2022)')\n",
        "plt.xlabel('CID-10')\n",
        "plt.ylabel('Número de óbitos')\n",
        "plt.xticks(rotation=45)\n",
        "plt.tight_layout()\n",
        "plt.show()"
      ]
    },
    {
      "cell_type": "code",
      "source": [
        "# Gráfico de barras com os principais CIDs concatenados com as descrições\n",
        "import requests\n",
        "import xml.etree.ElementTree as ET\n",
        "\n",
        "# URL do arquivo CID10.xml no GitHub\n",
        "url = \"https://raw.githubusercontent.com/cartaproale/PySUS/main/tabelas/CID10.xml\"\n",
        "\n",
        "# Baixar o arquivo XML diretamente do GitHub\n",
        "response = requests.get(url)\n",
        "response.encoding = 'ISO-8859-1'  # Garantir a codificação correta\n",
        "\n",
        "# Corrigir caracteres especiais problemáticos\n",
        "content = response.text.replace(\"&cruz;\", \"†\")\n",
        "\n",
        "# Analisar o conteúdo XML corrigido\n",
        "root = ET.fromstring(content)\n",
        "\n",
        "# Criar um dicionário para mapear códigos CID para suas descrições\n",
        "cid_map = {}\n",
        "\n",
        "# Iterar sobre as categorias para obter os códigos no formato LNN e LNNN\n",
        "for category in root.findall(\".//categoria\"):\n",
        "    code = category.get(\"codcat\")\n",
        "    description = category.find(\"nome\").text\n",
        "\n",
        "    # Verificar se o código está no formato LNN ou LNNN\n",
        "    if code and description:\n",
        "        # Concatenar o código original com a descrição\n",
        "        cid_map[code] = f\"{code} - {description}\"\n",
        "\n",
        "# Função para abreviar descrições longas e manter o código CID\n",
        "def abbreviate_description(text, max_length=15):\n",
        "    if len(text) > max_length:\n",
        "        return text[:max_length] + \"...\"\n",
        "    return text\n",
        "\n",
        "# Verificar se há códigos não mapeados e fazer a correspondência correta\n",
        "def map_cid_code(cid):\n",
        "    # Tentar mapeamento direto\n",
        "    if cid in cid_map:\n",
        "        return abbreviate_description(cid_map[cid])\n",
        "    # Tentar variantes do código (LNN, LNNN)\n",
        "    if len(cid) == 4 and cid[:3] in cid_map:\n",
        "        return abbreviate_description(f\"{cid} - {cid_map[cid[:3]].split(' - ')[1]}\")\n",
        "    return cid  # Retorna o código se não encontrar\n",
        "\n",
        "# Substituindo os códigos CID-10 pelas descrições no gráfico\n",
        "top_cids_described = top_cids.rename(index=map_cid_code)\n",
        "\n",
        "# Gráfico de barras com descrições dos CIDs\n",
        "top_cids_described.plot(kind='bar')\n",
        "plt.title('Top 10 causas básicas de óbito (descrições abreviadas) - Paraná (2022)')\n",
        "plt.xlabel('Descrição do CID-10')\n",
        "plt.ylabel('Número de óbitos')\n",
        "plt.xticks(rotation=45, ha='right')\n",
        "plt.tight_layout()\n",
        "plt.show()\n"
      ],
      "metadata": {
        "id": "pDk2_E0-VVRT"
      },
      "id": "pDk2_E0-VVRT",
      "execution_count": null,
      "outputs": []
    }
  ],
  "metadata": {
    "kernelspec": {
      "display_name": "Python 3",
      "language": "python",
      "name": "python3"
    },
    "colab": {
      "provenance": []
    }
  },
  "nbformat": 4,
  "nbformat_minor": 5
}