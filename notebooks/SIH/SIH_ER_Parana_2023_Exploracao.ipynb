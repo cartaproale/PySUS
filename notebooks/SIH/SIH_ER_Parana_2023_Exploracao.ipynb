{
 "cells": [
  {
   "cell_type": "markdown",
   "id": "4641b44f",
   "metadata": {},
   "source": [
    "# SIH - Emergência Referenciada (ER) - Paraná Jan/2023\n",
    "Notebook validado com PySUS (AlertaDengue), com análise da coluna `CO_ERRO`."
   ]
  },
  {
   "cell_type": "code",
   "execution_count": null,
   "id": "0f9e8582",
   "metadata": {},
   "outputs": [],
   "source": [
    "!pip install git+https://github.com/AlertaDengue/PySUS.git --upgrade"
   ]
  },
  {
   "cell_type": "code",
   "execution_count": null,
   "id": "75c2b758",
   "metadata": {},
   "outputs": [],
   "source": [
    "import pandas as pd\n",
    "import matplotlib.pyplot as plt\n",
    "from pysus.online_data.SIH import download"
   ]
  },
  {
   "cell_type": "code",
   "execution_count": null,
   "id": "0e1bb192",
   "metadata": {},
   "outputs": [],
   "source": [
    "# Baixar dados de emergência referenciada (SIH - tipo ER) para o Paraná em janeiro de 2023\n",
    "df = download(\"PR\", 2023, 1, \"ER\").to_dataframe()\n",
    "df.head()"
   ]
  },
  {
   "cell_type": "code",
   "execution_count": null,
   "id": "31ba4b83",
   "metadata": {},
   "outputs": [],
   "source": [
    "# Códigos de erro mais frequentes\n",
    "df['CO_ERRO'].value_counts().head(10).plot(kind='bar')\n",
    "plt.title('Top 10 códigos de erro - SIH/ER - Paraná Jan/2023')\n",
    "plt.xlabel('Código de erro')\n",
    "plt.ylabel('Frequência')\n",
    "plt.xticks(rotation=45)\n",
    "plt.tight_layout()\n",
    "plt.show()"
   ]
  }
 ],
 "metadata": {
  "kernelspec": {
   "display_name": "Python 3",
   "language": "python",
   "name": "python3"
  }
 },
 "nbformat": 4,
 "nbformat_minor": 5
}
