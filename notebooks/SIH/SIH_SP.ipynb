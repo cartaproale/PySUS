{
 "cells": [
  {
   "cell_type": "markdown",
   "id": "8040a6fd",
   "metadata": {},
   "source": [
    "# SIH - Serviços Profissionais (SP) - Paraná Jan/2023\n",
    "Notebook validado com PySUS (AlertaDengue), com análise de `SP_CIDPRI` e `SP_PROCREA`."
   ]
  },
  {
   "cell_type": "code",
   "execution_count": null,
   "id": "b63342a1",
   "metadata": {},
   "outputs": [],
   "source": [
    "!pip install git+https://github.com/AlertaDengue/PySUS.git --upgrade\n",
    "# ⚠️ Após executar esta célula, reinicie a sessão do Google Colab dessa forma (Usando a interface do Google Colab):\n",
    "# Em português: Vá em 'Tempo de execução' > 'Reiniciar sessão'\n",
    "# Em inglês: Vá em 'Runtime' > 'Restart session'"
   ]
  },
  {
   "cell_type": "code",
   "execution_count": null,
   "id": "723afef7",
   "metadata": {},
   "outputs": [],
   "source": [
    "# ⚠️ Após executar a célula acima, reinicie a sessão do Google Colab:\n",
    "# Em português: Vá em 'Tempo de execução' > 'Reiniciar sessão'\n",
    "# Em inglês: Vá em 'Runtime' > 'Restart session'\n",
    "import pandas as pd\n",
    "import matplotlib.pyplot as plt\n",
    "from pysus.online_data.SIH import download"
   ]
  },
  {
   "cell_type": "code",
   "execution_count": null,
   "id": "dd013494",
   "metadata": {},
   "outputs": [],
   "source": [
    "# Baixar dados do tipo SP (Serviços Profissionais) para o Paraná em janeiro de 2023\n",
    "df = download(\"PR\", 2023, 1, \"SP\").to_dataframe()\n",
    "df.head()"
   ]
  },
  {
   "cell_type": "code",
   "execution_count": null,
   "id": "64413272",
   "metadata": {},
   "outputs": [],
   "source": [
    "# Diagnósticos principais mais frequentes\n",
    "df['SP_CIDPRI'].value_counts().head(10).plot(kind='bar')\n",
    "plt.title('Top 10 diagnósticos principais - SIH/SP - Paraná Jan/2023')\n",
    "plt.xlabel('CID-10')\n",
    "plt.ylabel('Frequência')\n",
    "plt.xticks(rotation=45)\n",
    "plt.tight_layout()\n",
    "plt.show()"
   ]
  },
  {
   "cell_type": "code",
   "execution_count": null,
   "id": "de04062f",
   "metadata": {},
   "outputs": [],
   "source": [
    "# Procedimentos mais registrados\n",
    "df['SP_PROCREA'].value_counts().head(10).plot(kind='bar')\n",
    "plt.title('Top 10 procedimentos - SIH/SP - Paraná Jan/2023')\n",
    "plt.xlabel('Código do procedimento')\n",
    "plt.ylabel('Frequência')\n",
    "plt.xticks(rotation=45)\n",
    "plt.tight_layout()\n",
    "plt.show()"
   ]
  }
 ],
 "metadata": {
  "kernelspec": {
   "display_name": "Python 3",
   "language": "python",
   "name": "python3"
  }
 },
 "nbformat": 4,
 "nbformat_minor": 5
}
