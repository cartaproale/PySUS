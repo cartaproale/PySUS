{
 "cells": [
  {
   "cell_type": "markdown",
   "id": "b1e7f7ae",
   "metadata": {},
   "source": [
    "# SIH - Internações Hospitalares (RD) - Paraná 2023\n",
    "Notebook validado com `download()` da biblioteca PySUS (AlertaDengue)."
   ]
  },
  {
   "cell_type": "code",
   "execution_count": null,
   "id": "29c782b0",
   "metadata": {},
   "outputs": [],
   "source": [
    "!pip install git+https://github.com/AlertaDengue/PySUS.git --upgrade\n",
    "# ⚠️ Após executar esta célula, reinicie a sessão do Google Colab dessa forma (Usando a interface do Google Colab):\n",
    "# Em português: Vá em 'Tempo de execução' > 'Reiniciar sessão'\n",
    "# Em inglês: Vá em 'Runtime' > 'Restart session'"
   ]
  },
  {
   "cell_type": "code",
   "execution_count": null,
   "id": "e1aa24f4",
   "metadata": {},
   "outputs": [],
   "source": [
    "# ⚠️ Após executar a célula acima, reinicie a sessão do Google Colab:\n",
    "# Em português: Vá em 'Tempo de execução' > 'Reiniciar sessão'\n",
    "# Em inglês: Vá em 'Runtime' > 'Restart session'\n",
    "import pandas as pd\n",
    "import matplotlib.pyplot as plt\n",
    "from pysus.online_data.SIH import download"
   ]
  },
  {
   "cell_type": "code",
   "execution_count": null,
   "id": "825015b9",
   "metadata": {},
   "outputs": [],
   "source": [
    "# Baixar dados de internações (SIH - tipo RD) para o Paraná em janeiro de 2023\n",
    "df = download(\"PR\", 2023, 1, \"RD\").to_dataframe()\n",
    "df.head()"
   ]
  },
  {
   "cell_type": "code",
   "execution_count": null,
   "id": "1efbe959",
   "metadata": {},
   "outputs": [],
   "source": [
    "# Verificar colunas e identificar diagnósticos principais\n",
    "print(df.columns.tolist())\n",
    "df['DIAG_PRINC'].value_counts().head(10)"
   ]
  },
  {
   "cell_type": "code",
   "execution_count": null,
   "id": "c0736dd2",
   "metadata": {},
   "outputs": [],
   "source": [
    "# Gráfico dos 10 principais diagnósticos de internação\n",
    "top_diag = df['DIAG_PRINC'].value_counts().head(10)\n",
    "top_diag.plot(kind='bar')\n",
    "plt.title('Top 10 diagnósticos principais - SIH/RD - Paraná Jan/2023')\n",
    "plt.xlabel('CID-10')\n",
    "plt.ylabel('Número de internações')\n",
    "plt.xticks(rotation=45)\n",
    "plt.tight_layout()\n",
    "plt.show()"
   ]
  }
 ],
 "metadata": {
  "kernelspec": {
   "display_name": "Python 3",
   "language": "python",
   "name": "python3"
  }
 },
 "nbformat": 4,
 "nbformat_minor": 5
}
