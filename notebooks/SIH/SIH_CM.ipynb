{
 "cells": [
  {
   "cell_type": "markdown",
   "id": "2199fe2b",
   "metadata": {},
   "source": [
    "# SIH - Cirurgias Ambulatoriais (CM) - Brasil 2019\n",
    "Notebook com os 2 primeiros arquivos nacionais disponíveis para o grupo CM no SIH."
   ]
  },
  {
   "cell_type": "code",
   "execution_count": null,
   "id": "9dec0dbd",
   "metadata": {},
   "outputs": [],
   "source": [
    "!pip install git+https://github.com/AlertaDengue/PySUS.git --upgrade",
    "# ⚠️ Após executar esta célula, reinicie a sessão do Google Colab dessa forma (Usando a interface do Google Colab):\n",
    "# Em português: Vá em 'Tempo de execução' > 'Reiniciar sessão'\n",
    "# Em inglês: Vá em 'Runtime' > 'Restart session'"
   ]
  },
  {
   "cell_type": "code",
   "execution_count": null,
   "id": "5e382aa9",
   "metadata": {},
   "outputs": [],
   "source": [
    "# ⚠️ Após executar a célula acima, reinicie a sessão do Google Colab:\n",
    "# Em português: Vá em 'Tempo de execução' > 'Reiniciar sessão'\n",
    "# Em inglês: Vá em 'Runtime' > 'Restart session'\n",
    "import pandas as pd\n",
    "from pysus.ftp.databases.sih import SIH"
   ]
  },
  {
   "cell_type": "code",
   "execution_count": null,
   "id": "efe196d1",
   "metadata": {},
   "outputs": [],
   "source": [
    "sih = SIH()\n",
    "sih.load()\n",
    "\n",
    "# Filtrar dois primeiros arquivos CM de 2019\n",
    "arquivos_cm_2019 = [f for f in sih.files if 'CM' in f.path and 'CMBR190' in f.path][:2]\n",
    "print(f\"Arquivos selecionados: {[f.path for f in arquivos_cm_2019]}\")\n",
    "\n",
    "# Download e leitura\n",
    "amostra = sih.download(arquivos_cm_2019)\n",
    "df = amostra[0].to_dataframe()\n",
    "df.head()"
   ]
  }
 ],
 "metadata": {
  "kernelspec": {
   "display_name": "Python 3",
   "language": "python",
   "name": "python3"
  }
 },
 "nbformat": 4,
 "nbformat_minor": 5
}
