{
 "cells": [
  {
   "cell_type": "markdown",
   "id": "2a32ed13",
   "metadata": {},
   "source": [
    "# Acesso à base SIM (Sistema de Informações sobre Mortalidade)"
   ]
  },
  {
   "cell_type": "code",
   "execution_count": null,
   "id": "2d54c241",
   "metadata": {},
   "outputs": [],
   "source": [
    "!pip install git+https://github.com/AlertaDengue/PySUS.git --upgrade\n",
    "\n",
    "# Após a instalação, reinicie o ambiente do Colab antes de prosseguir\n"
   ]
  },
  {
   "cell_type": "code",
   "execution_count": null,
   "id": "888b0122",
   "metadata": {},
   "outputs": [],
   "source": [
    "from pysus.online_data.SIM import download_sim\n",
    "\n",
    "# Baixar os dados do SIM para o estado do Paraná, ano 2022, grupo CID-10\n",
    "df_sim = download_sim(states=[\"PR\"], years=[2022], groups=[\"CID10\"]).to_dataframe()\n",
    "\n",
    "# Visualizar as primeiras linhas\n",
    "df_sim.head()\n"
   ]
  },
  {
   "cell_type": "markdown",
   "id": "b0c57f48",
   "metadata": {},
   "source": [
    "Você pode adaptar os parâmetros `states`, `years` e `groups` conforme necessário. Para grupos disponíveis, use:"
   ]
  },
  {
   "cell_type": "code",
   "execution_count": null,
   "id": "5cc599f9",
   "metadata": {},
   "outputs": [],
   "source": [
    "from pysus.ftp.databases.sim import SIM\n",
    "print(\"Grupos disponíveis:\", list(SIM().groups.keys()))\n"
   ]
  }
 ],
 "metadata": {},
 "nbformat": 4,
 "nbformat_minor": 5
}
