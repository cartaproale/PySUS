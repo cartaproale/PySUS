{
 "cells": [
  {
   "cell_type": "markdown",
   "id": "7ec01b2b",
   "metadata": {},
   "source": [
    "# Acesso à Tabela de Referência – CBO (Classificação Brasileira de Ocupações)"
   ]
  },
  {
   "cell_type": "code",
   "execution_count": null,
   "id": "d4c58853",
   "metadata": {},
   "outputs": [],
   "source": [
    "# Instalar pandas, se necessário\n",
    "!pip install -q pandas\n"
   ]
  },
  {
   "cell_type": "code",
   "execution_count": null,
   "id": "4476e5d7",
   "metadata": {},
   "outputs": [],
   "source": [
    "import pandas as pd\n",
    "\n",
    "# Link atualizado e funcional para a planilha CBO\n",
    "url_cbo = \"https://github.com/cartaproale/cbo-csv/raw/refs/heads/main/CBO2002%20-%20Ocupacao.csv\"\n",
    "\n",
    "# Ler o arquivo CSV da CBO\n",
    "df_cbo = pd.read_csv(url_cbo, sep=';', encoding='latin1')\n",
    "\n",
    "# Padronizar colunas\n",
    "df_cbo.columns = df_cbo.columns.str.upper()\n",
    "df_cbo = df_cbo.rename(columns={\"CODIGO\": \"CBO\", \"TITULO\": \"DESCRICAO\"})\n",
    "\n",
    "# Criar dicionário de mapeamento CBO -> descrição\n",
    "dict_cbo = dict(zip(df_cbo[\"CBO\"].astype(str), df_cbo[\"DESCRICAO\"]))\n",
    "\n",
    "# Exemplo de uso: mapeando uma tabela de profissionais fictícia\n",
    "df_exemplo = pd.DataFrame({\n",
    "    \"NOMEPROF\": [\"João Silva\", \"Maria Souza\", \"Carlos Lima\"],\n",
    "    \"CBO\": [\"223505\", \"225125\", \"322205\"]\n",
    "})\n",
    "df_exemplo[\"CBO_DESC\"] = df_exemplo[\"CBO\"].map(dict_cbo)\n",
    "\n",
    "df_exemplo\n"
   ]
  }
 ],
 "metadata": {},
 "nbformat": 4,
 "nbformat_minor": 5
}
